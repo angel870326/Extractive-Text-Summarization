{
  "cells": [
    {
      "cell_type": "markdown",
      "metadata": {
        "id": "view-in-github",
        "colab_type": "text"
      },
      "source": [
        "<a href=\"https://colab.research.google.com/github/angel870326/Extractive-Text-Summarization/blob/main/dataset_overview.ipynb\" target=\"_parent\"><img src=\"https://colab.research.google.com/assets/colab-badge.svg\" alt=\"Open In Colab\"/></a>"
      ]
    },
    {
      "cell_type": "markdown",
      "metadata": {
        "id": "B_SM9WickDWv"
      },
      "source": [
        "> 2022.11.29 Ssu-Yun Wang<br/>\n",
        "[Github @angel870326](https://github.com/angel870326)\n",
        "\n",
        "# **AI CUP Dataset**\n",
        "\n",
        "### **Contents:**\n",
        "\n",
        "*   Overview of the Dataset\n",
        "*   Preprocessing\n",
        "*   Training Set<br/>\n",
        "    (1) Remove double quotes<br/>\n",
        "    (2) Unique id\n",
        "*   Testing Set<br/>\n",
        "    (1) Remove double quotes<br/>\n",
        "    (2) Unique id\n",
        "*   Evaluation - LCS\n",
        "*   Baseline LCS Score\n",
        "*   EDA\n",
        "    *   Testing Set<br/>\n",
        "        (1) Split to \"AGREE\" and \"DISAGREE\"<br/>\n",
        "        (2) Word count distribution<br/>\n",
        "        (3) String length distribution<br/>\n",
        "    *   Training Set<br/>\n",
        "        (1) Split to \"AGREE\" and \"DISAGREE\"<br/>\n",
        "        (2) Word count distribution<br/>\n",
        "        (3) Find the summary that is the same as the original text<br/>\n",
        "        (4) LCS Distribution\n",
        "\n",
        "*   Split the dataset\n",
        "    *   Training Set\n",
        "    *   Testing Set"
      ]
    },
    {
      "cell_type": "code",
      "execution_count": null,
      "metadata": {
        "colab": {
          "base_uri": "https://localhost:8080/"
        },
        "id": "t6SqwvfkQBlp",
        "outputId": "e1b7ef2c-7fc4-445b-a480-867811a1365e"
      },
      "outputs": [
        {
          "output_type": "stream",
          "name": "stdout",
          "text": [
            "Mounted at /content/gdrive\n"
          ]
        }
      ],
      "source": [
        "from google.colab import drive\n",
        "drive.mount('/content/gdrive')"
      ]
    },
    {
      "cell_type": "code",
      "execution_count": null,
      "metadata": {
        "id": "vDunJ6DbQ2yP"
      },
      "outputs": [],
      "source": [
        "import numpy as np\n",
        "import pandas as pd\n",
        "import matplotlib.pyplot as plt\n",
        "import nltk"
      ]
    },
    {
      "cell_type": "code",
      "execution_count": null,
      "metadata": {
        "colab": {
          "base_uri": "https://localhost:8080/"
        },
        "id": "dI7jjO1nhLAZ",
        "outputId": "14d00c0c-68e9-41d8-8f96-a9ba63e4a5e0"
      },
      "outputs": [
        {
          "output_type": "stream",
          "name": "stderr",
          "text": [
            "[nltk_data] Downloading package punkt to /root/nltk_data...\n",
            "[nltk_data]   Unzipping tokenizers/punkt.zip.\n"
          ]
        },
        {
          "output_type": "execute_result",
          "data": {
            "text/plain": [
              "True"
            ]
          },
          "metadata": {},
          "execution_count": 4
        }
      ],
      "source": [
        "nltk.download('punkt')"
      ]
    },
    {
      "cell_type": "markdown",
      "metadata": {
        "id": "VcFfEbo2Qd_k"
      },
      "source": [
        "## **Overview of the Dataset**"
      ]
    },
    {
      "cell_type": "code",
      "execution_count": null,
      "metadata": {
        "id": "42d3tMuxQDRJ"
      },
      "outputs": [],
      "source": [
        "train_raw = pd.read_csv('/content/gdrive/MyDrive/AI CUP/dataset/Batch_answers - train_data (no-blank).csv').iloc[:,:6]\n",
        "test_raw = pd.read_csv('/content/gdrive/MyDrive/AI CUP/dataset/Batch_answers - test_data(no_label).csv')"
      ]
    },
    {
      "cell_type": "code",
      "execution_count": null,
      "metadata": {
        "id": "OLpA4T2zeWw1"
      },
      "outputs": [],
      "source": [
        "# Count words in a comment\n",
        "import string\n",
        "def word_count(col):\n",
        "  return train_raw[col].apply(lambda x: len(nltk.word_tokenize(''.join([i for i in x if i not in string.punctuation]))))"
      ]
    },
    {
      "cell_type": "code",
      "execution_count": null,
      "metadata": {
        "colab": {
          "base_uri": "https://localhost:8080/",
          "height": 1000
        },
        "id": "FHyZe_HUHgg8",
        "outputId": "8ab3a2c3-160d-44fc-93fa-f4778e244fb4"
      },
      "outputs": [
        {
          "output_type": "execute_result",
          "data": {
            "text/plain": [
              "          id                                                  q  \\\n",
              "0          8  \"It can go both ways . We all doubt . It is wh...   \n",
              "1          8  \"It can go both ways . We all doubt . It is wh...   \n",
              "2          8  \"It can go both ways . We all doubt . It is wh...   \n",
              "3          9  \"once again , you seem to support the killing ...   \n",
              "4          9  \"once again , you seem to support the killing ...   \n",
              "...      ...                                                ...   \n",
              "38341  10001  \"good thing this argument has never been done ...   \n",
              "38342  10002  \"I know one thing , anything that happens , po...   \n",
              "38343  10002  \"I know one thing , anything that happens , po...   \n",
              "38344  10003  \"I enjoy Botany more than most things and I ha...   \n",
              "38345  10003  \"I enjoy Botany more than most things and I ha...   \n",
              "\n",
              "                                                       r         s  \\\n",
              "0                                               \"True .\"     AGREE   \n",
              "1                                               \"True .\"     AGREE   \n",
              "2                                               \"True .\"     AGREE   \n",
              "3      \"based on the idea that people are dispensible...     AGREE   \n",
              "4      \"based on the idea that people are dispensible...     AGREE   \n",
              "...                                                  ...       ...   \n",
              "38341  \"And teen sex does n't , by the very nature of...  DISAGREE   \n",
              "38342  \"Was n't sinjin crowing about his plans to tak...  DISAGREE   \n",
              "38343  \"Was n't sinjin crowing about his plans to tak...  DISAGREE   \n",
              "38344  \"Hi Smallax , welcome to the forum . I did a s...     AGREE   \n",
              "38345  \"Hi Smallax , welcome to the forum . I did a s...     AGREE   \n",
              "\n",
              "                                                      q'  \\\n",
              "0      \"It can go both ways . We all doubt . It is wh...   \n",
              "1      \"can go both ways . We all doubt . It is what ...   \n",
              "2      \"It can go both ways . We all doubt . It is wh...   \n",
              "3        \"seem to support the killing of certain people\"   \n",
              "4      \"you seem to support the killing of certain pe...   \n",
              "...                                                  ...   \n",
              "38341  \"You are much better off making theft legal an...   \n",
              "38342  \"I know one thing , anything that happens , po...   \n",
              "38343  \"FBI Arrests Three Men in Terror Plot that Tar...   \n",
              "38344  \"I enjoy Botany more than most things and I ha...   \n",
              "38345  \"bringing in outside sun light through fiber o...   \n",
              "\n",
              "                                                      r'  q_count  r_count  \\\n",
              "0                                               \"True .\"       17        1   \n",
              "1                                                 \"True\"       17        1   \n",
              "2                                                 \"True\"       17        1   \n",
              "3      \"based on the idea that people are dispensible...       14       58   \n",
              "4        \"based on the idea that people are dispensible\"       14       58   \n",
              "...                                                  ...      ...      ...   \n",
              "38341  \"And teen sex does n't , by the very nature of...       39       37   \n",
              "38342  \"Was n't sinjin crowing about his plans to tak...      114       46   \n",
              "38343  \"Was n't sinjin crowing about his plans to tak...      114       46   \n",
              "38344  \"Hi Smallax , welcome to the forum . I did a s...       76      182   \n",
              "38345  \"might give you an idea about costs and concep...       76      182   \n",
              "\n",
              "       qr_count  q_sum_count  r_sum_count  qr_sum_count  \n",
              "0            18           17            1            18  \n",
              "1            18           16            1            17  \n",
              "2            18           17            1            18  \n",
              "3            72            8           14            22  \n",
              "4            72           12            8            20  \n",
              "...         ...          ...          ...           ...  \n",
              "38341        76           21           13            34  \n",
              "38342       160           16           14            30  \n",
              "38343       160           16           11            27  \n",
              "38344       258           19           23            42  \n",
              "38345       258           12           14            26  \n",
              "\n",
              "[38346 rows x 12 columns]"
            ],
            "text/html": [
              "\n",
              "  <div id=\"df-c25dda56-2302-4a80-99a3-56d0812214df\">\n",
              "    <div class=\"colab-df-container\">\n",
              "      <div>\n",
              "<style scoped>\n",
              "    .dataframe tbody tr th:only-of-type {\n",
              "        vertical-align: middle;\n",
              "    }\n",
              "\n",
              "    .dataframe tbody tr th {\n",
              "        vertical-align: top;\n",
              "    }\n",
              "\n",
              "    .dataframe thead th {\n",
              "        text-align: right;\n",
              "    }\n",
              "</style>\n",
              "<table border=\"1\" class=\"dataframe\">\n",
              "  <thead>\n",
              "    <tr style=\"text-align: right;\">\n",
              "      <th></th>\n",
              "      <th>id</th>\n",
              "      <th>q</th>\n",
              "      <th>r</th>\n",
              "      <th>s</th>\n",
              "      <th>q'</th>\n",
              "      <th>r'</th>\n",
              "      <th>q_count</th>\n",
              "      <th>r_count</th>\n",
              "      <th>qr_count</th>\n",
              "      <th>q_sum_count</th>\n",
              "      <th>r_sum_count</th>\n",
              "      <th>qr_sum_count</th>\n",
              "    </tr>\n",
              "  </thead>\n",
              "  <tbody>\n",
              "    <tr>\n",
              "      <th>0</th>\n",
              "      <td>8</td>\n",
              "      <td>\"It can go both ways . We all doubt . It is wh...</td>\n",
              "      <td>\"True .\"</td>\n",
              "      <td>AGREE</td>\n",
              "      <td>\"It can go both ways . We all doubt . It is wh...</td>\n",
              "      <td>\"True .\"</td>\n",
              "      <td>17</td>\n",
              "      <td>1</td>\n",
              "      <td>18</td>\n",
              "      <td>17</td>\n",
              "      <td>1</td>\n",
              "      <td>18</td>\n",
              "    </tr>\n",
              "    <tr>\n",
              "      <th>1</th>\n",
              "      <td>8</td>\n",
              "      <td>\"It can go both ways . We all doubt . It is wh...</td>\n",
              "      <td>\"True .\"</td>\n",
              "      <td>AGREE</td>\n",
              "      <td>\"can go both ways . We all doubt . It is what ...</td>\n",
              "      <td>\"True\"</td>\n",
              "      <td>17</td>\n",
              "      <td>1</td>\n",
              "      <td>18</td>\n",
              "      <td>16</td>\n",
              "      <td>1</td>\n",
              "      <td>17</td>\n",
              "    </tr>\n",
              "    <tr>\n",
              "      <th>2</th>\n",
              "      <td>8</td>\n",
              "      <td>\"It can go both ways . We all doubt . It is wh...</td>\n",
              "      <td>\"True .\"</td>\n",
              "      <td>AGREE</td>\n",
              "      <td>\"It can go both ways . We all doubt . It is wh...</td>\n",
              "      <td>\"True\"</td>\n",
              "      <td>17</td>\n",
              "      <td>1</td>\n",
              "      <td>18</td>\n",
              "      <td>17</td>\n",
              "      <td>1</td>\n",
              "      <td>18</td>\n",
              "    </tr>\n",
              "    <tr>\n",
              "      <th>3</th>\n",
              "      <td>9</td>\n",
              "      <td>\"once again , you seem to support the killing ...</td>\n",
              "      <td>\"based on the idea that people are dispensible...</td>\n",
              "      <td>AGREE</td>\n",
              "      <td>\"seem to support the killing of certain people\"</td>\n",
              "      <td>\"based on the idea that people are dispensible...</td>\n",
              "      <td>14</td>\n",
              "      <td>58</td>\n",
              "      <td>72</td>\n",
              "      <td>8</td>\n",
              "      <td>14</td>\n",
              "      <td>22</td>\n",
              "    </tr>\n",
              "    <tr>\n",
              "      <th>4</th>\n",
              "      <td>9</td>\n",
              "      <td>\"once again , you seem to support the killing ...</td>\n",
              "      <td>\"based on the idea that people are dispensible...</td>\n",
              "      <td>AGREE</td>\n",
              "      <td>\"you seem to support the killing of certain pe...</td>\n",
              "      <td>\"based on the idea that people are dispensible\"</td>\n",
              "      <td>14</td>\n",
              "      <td>58</td>\n",
              "      <td>72</td>\n",
              "      <td>12</td>\n",
              "      <td>8</td>\n",
              "      <td>20</td>\n",
              "    </tr>\n",
              "    <tr>\n",
              "      <th>...</th>\n",
              "      <td>...</td>\n",
              "      <td>...</td>\n",
              "      <td>...</td>\n",
              "      <td>...</td>\n",
              "      <td>...</td>\n",
              "      <td>...</td>\n",
              "      <td>...</td>\n",
              "      <td>...</td>\n",
              "      <td>...</td>\n",
              "      <td>...</td>\n",
              "      <td>...</td>\n",
              "      <td>...</td>\n",
              "    </tr>\n",
              "    <tr>\n",
              "      <th>38341</th>\n",
              "      <td>10001</td>\n",
              "      <td>\"good thing this argument has never been done ...</td>\n",
              "      <td>\"And teen sex does n't , by the very nature of...</td>\n",
              "      <td>DISAGREE</td>\n",
              "      <td>\"You are much better off making theft legal an...</td>\n",
              "      <td>\"And teen sex does n't , by the very nature of...</td>\n",
              "      <td>39</td>\n",
              "      <td>37</td>\n",
              "      <td>76</td>\n",
              "      <td>21</td>\n",
              "      <td>13</td>\n",
              "      <td>34</td>\n",
              "    </tr>\n",
              "    <tr>\n",
              "      <th>38342</th>\n",
              "      <td>10002</td>\n",
              "      <td>\"I know one thing , anything that happens , po...</td>\n",
              "      <td>\"Was n't sinjin crowing about his plans to tak...</td>\n",
              "      <td>DISAGREE</td>\n",
              "      <td>\"I know one thing , anything that happens , po...</td>\n",
              "      <td>\"Was n't sinjin crowing about his plans to tak...</td>\n",
              "      <td>114</td>\n",
              "      <td>46</td>\n",
              "      <td>160</td>\n",
              "      <td>16</td>\n",
              "      <td>14</td>\n",
              "      <td>30</td>\n",
              "    </tr>\n",
              "    <tr>\n",
              "      <th>38343</th>\n",
              "      <td>10002</td>\n",
              "      <td>\"I know one thing , anything that happens , po...</td>\n",
              "      <td>\"Was n't sinjin crowing about his plans to tak...</td>\n",
              "      <td>DISAGREE</td>\n",
              "      <td>\"FBI Arrests Three Men in Terror Plot that Tar...</td>\n",
              "      <td>\"Was n't sinjin crowing about his plans to tak...</td>\n",
              "      <td>114</td>\n",
              "      <td>46</td>\n",
              "      <td>160</td>\n",
              "      <td>16</td>\n",
              "      <td>11</td>\n",
              "      <td>27</td>\n",
              "    </tr>\n",
              "    <tr>\n",
              "      <th>38344</th>\n",
              "      <td>10003</td>\n",
              "      <td>\"I enjoy Botany more than most things and I ha...</td>\n",
              "      <td>\"Hi Smallax , welcome to the forum . I did a s...</td>\n",
              "      <td>AGREE</td>\n",
              "      <td>\"I enjoy Botany more than most things and I ha...</td>\n",
              "      <td>\"Hi Smallax , welcome to the forum . I did a s...</td>\n",
              "      <td>76</td>\n",
              "      <td>182</td>\n",
              "      <td>258</td>\n",
              "      <td>19</td>\n",
              "      <td>23</td>\n",
              "      <td>42</td>\n",
              "    </tr>\n",
              "    <tr>\n",
              "      <th>38345</th>\n",
              "      <td>10003</td>\n",
              "      <td>\"I enjoy Botany more than most things and I ha...</td>\n",
              "      <td>\"Hi Smallax , welcome to the forum . I did a s...</td>\n",
              "      <td>AGREE</td>\n",
              "      <td>\"bringing in outside sun light through fiber o...</td>\n",
              "      <td>\"might give you an idea about costs and concep...</td>\n",
              "      <td>76</td>\n",
              "      <td>182</td>\n",
              "      <td>258</td>\n",
              "      <td>12</td>\n",
              "      <td>14</td>\n",
              "      <td>26</td>\n",
              "    </tr>\n",
              "  </tbody>\n",
              "</table>\n",
              "<p>38346 rows × 12 columns</p>\n",
              "</div>\n",
              "      <button class=\"colab-df-convert\" onclick=\"convertToInteractive('df-c25dda56-2302-4a80-99a3-56d0812214df')\"\n",
              "              title=\"Convert this dataframe to an interactive table.\"\n",
              "              style=\"display:none;\">\n",
              "        \n",
              "  <svg xmlns=\"http://www.w3.org/2000/svg\" height=\"24px\"viewBox=\"0 0 24 24\"\n",
              "       width=\"24px\">\n",
              "    <path d=\"M0 0h24v24H0V0z\" fill=\"none\"/>\n",
              "    <path d=\"M18.56 5.44l.94 2.06.94-2.06 2.06-.94-2.06-.94-.94-2.06-.94 2.06-2.06.94zm-11 1L8.5 8.5l.94-2.06 2.06-.94-2.06-.94L8.5 2.5l-.94 2.06-2.06.94zm10 10l.94 2.06.94-2.06 2.06-.94-2.06-.94-.94-2.06-.94 2.06-2.06.94z\"/><path d=\"M17.41 7.96l-1.37-1.37c-.4-.4-.92-.59-1.43-.59-.52 0-1.04.2-1.43.59L10.3 9.45l-7.72 7.72c-.78.78-.78 2.05 0 2.83L4 21.41c.39.39.9.59 1.41.59.51 0 1.02-.2 1.41-.59l7.78-7.78 2.81-2.81c.8-.78.8-2.07 0-2.86zM5.41 20L4 18.59l7.72-7.72 1.47 1.35L5.41 20z\"/>\n",
              "  </svg>\n",
              "      </button>\n",
              "      \n",
              "  <style>\n",
              "    .colab-df-container {\n",
              "      display:flex;\n",
              "      flex-wrap:wrap;\n",
              "      gap: 12px;\n",
              "    }\n",
              "\n",
              "    .colab-df-convert {\n",
              "      background-color: #E8F0FE;\n",
              "      border: none;\n",
              "      border-radius: 50%;\n",
              "      cursor: pointer;\n",
              "      display: none;\n",
              "      fill: #1967D2;\n",
              "      height: 32px;\n",
              "      padding: 0 0 0 0;\n",
              "      width: 32px;\n",
              "    }\n",
              "\n",
              "    .colab-df-convert:hover {\n",
              "      background-color: #E2EBFA;\n",
              "      box-shadow: 0px 1px 2px rgba(60, 64, 67, 0.3), 0px 1px 3px 1px rgba(60, 64, 67, 0.15);\n",
              "      fill: #174EA6;\n",
              "    }\n",
              "\n",
              "    [theme=dark] .colab-df-convert {\n",
              "      background-color: #3B4455;\n",
              "      fill: #D2E3FC;\n",
              "    }\n",
              "\n",
              "    [theme=dark] .colab-df-convert:hover {\n",
              "      background-color: #434B5C;\n",
              "      box-shadow: 0px 1px 3px 1px rgba(0, 0, 0, 0.15);\n",
              "      filter: drop-shadow(0px 1px 2px rgba(0, 0, 0, 0.3));\n",
              "      fill: #FFFFFF;\n",
              "    }\n",
              "  </style>\n",
              "\n",
              "      <script>\n",
              "        const buttonEl =\n",
              "          document.querySelector('#df-c25dda56-2302-4a80-99a3-56d0812214df button.colab-df-convert');\n",
              "        buttonEl.style.display =\n",
              "          google.colab.kernel.accessAllowed ? 'block' : 'none';\n",
              "\n",
              "        async function convertToInteractive(key) {\n",
              "          const element = document.querySelector('#df-c25dda56-2302-4a80-99a3-56d0812214df');\n",
              "          const dataTable =\n",
              "            await google.colab.kernel.invokeFunction('convertToInteractive',\n",
              "                                                     [key], {});\n",
              "          if (!dataTable) return;\n",
              "\n",
              "          const docLinkHtml = 'Like what you see? Visit the ' +\n",
              "            '<a target=\"_blank\" href=https://colab.research.google.com/notebooks/data_table.ipynb>data table notebook</a>'\n",
              "            + ' to learn more about interactive tables.';\n",
              "          element.innerHTML = '';\n",
              "          dataTable['output_type'] = 'display_data';\n",
              "          await google.colab.output.renderOutput(dataTable, element);\n",
              "          const docLink = document.createElement('div');\n",
              "          docLink.innerHTML = docLinkHtml;\n",
              "          element.appendChild(docLink);\n",
              "        }\n",
              "      </script>\n",
              "    </div>\n",
              "  </div>\n",
              "  "
            ]
          },
          "metadata": {},
          "execution_count": 7
        }
      ],
      "source": [
        "# Training data\n",
        "train_raw['q_count'] = word_count('q')\n",
        "train_raw['r_count'] = word_count('r')\n",
        "train_raw['qr_count'] = train_raw['q_count'] + train_raw['r_count']\n",
        "train_raw['q_sum_count'] = word_count('q\\'')\n",
        "train_raw['r_sum_count'] = word_count('r\\'')\n",
        "train_raw['qr_sum_count'] = train_raw['q_sum_count'] + train_raw['r_sum_count']\n",
        "\n",
        "train_raw"
      ]
    },
    {
      "cell_type": "code",
      "execution_count": null,
      "metadata": {
        "colab": {
          "base_uri": "https://localhost:8080/",
          "height": 1000
        },
        "id": "rVAruSQ3GTUY",
        "outputId": "4a98951c-3a77-49f2-8a2d-0ebc9fc332e6"
      },
      "outputs": [
        {
          "output_type": "execute_result",
          "data": {
            "text/plain": [
              "        id                                                  q  \\\n",
              "0     6199  \"-- -- -- -- -- -- -- -- -- -- -- -- -- -- -- ...   \n",
              "1     5807  \"There 's a lot of discussion there on that is...   \n",
              "2     8487  \"`` It 's not helping . The guns these people ...   \n",
              "3     1760  \"Shooting : 3 seriously injured in Auburn shoo...   \n",
              "4     6228  \"This is the argument concerning 'choice ' tha...   \n",
              "...    ...                                                ...   \n",
              "2011  9499           \"You are betraying your belief system .\"   \n",
              "2012  4611  \"You are in a loud minority , railing against ...   \n",
              "2013  9328         \"You bet your XXX that 'd make me happy .\"   \n",
              "2014  5225          \"you say `` f * * * the Constitution. ``\"   \n",
              "2015    68  \"Your answers were without content or meaning ...   \n",
              "\n",
              "                                                      r         s  q_count  \\\n",
              "0     \"If so , why do we still have apes , and why a...  DISAGREE       17   \n",
              "1     \"Of course . The makers of Expelled were withi...  DISAGREE       17   \n",
              "2     \"Oh , I would wager about like Mexico , about ...  DISAGREE       17   \n",
              "3     \"Pickup strikes group of four youths | Houston...     AGREE       14   \n",
              "4     \"I believe there is a point at which we ( soci...  DISAGREE       14   \n",
              "...                                                 ...       ...      ...   \n",
              "2011  \"Yep . ( I 'm assuming that by `` belief syste...     AGREE       80   \n",
              "2012  \"Being in the minority or in the majority is i...  DISAGREE       80   \n",
              "2013  \"Well , first , I probably would n't bet my XX...  DISAGREE       80   \n",
              "2014  \"and gun nuts say f * * * the children when we...  DISAGREE       80   \n",
              "2015                                                \"k\"  DISAGREE       53   \n",
              "\n",
              "      r_count  qr_count  \n",
              "0           1        18  \n",
              "1           1        18  \n",
              "2           1        18  \n",
              "3          58        72  \n",
              "4          58        72  \n",
              "...       ...       ...  \n",
              "2011      197       277  \n",
              "2012      197       277  \n",
              "2013      197       277  \n",
              "2014      197       277  \n",
              "2015       14        67  \n",
              "\n",
              "[2016 rows x 7 columns]"
            ],
            "text/html": [
              "\n",
              "  <div id=\"df-a38dbe81-7bc2-4037-a067-3cfa8a859070\">\n",
              "    <div class=\"colab-df-container\">\n",
              "      <div>\n",
              "<style scoped>\n",
              "    .dataframe tbody tr th:only-of-type {\n",
              "        vertical-align: middle;\n",
              "    }\n",
              "\n",
              "    .dataframe tbody tr th {\n",
              "        vertical-align: top;\n",
              "    }\n",
              "\n",
              "    .dataframe thead th {\n",
              "        text-align: right;\n",
              "    }\n",
              "</style>\n",
              "<table border=\"1\" class=\"dataframe\">\n",
              "  <thead>\n",
              "    <tr style=\"text-align: right;\">\n",
              "      <th></th>\n",
              "      <th>id</th>\n",
              "      <th>q</th>\n",
              "      <th>r</th>\n",
              "      <th>s</th>\n",
              "      <th>q_count</th>\n",
              "      <th>r_count</th>\n",
              "      <th>qr_count</th>\n",
              "    </tr>\n",
              "  </thead>\n",
              "  <tbody>\n",
              "    <tr>\n",
              "      <th>0</th>\n",
              "      <td>6199</td>\n",
              "      <td>\"-- -- -- -- -- -- -- -- -- -- -- -- -- -- -- ...</td>\n",
              "      <td>\"If so , why do we still have apes , and why a...</td>\n",
              "      <td>DISAGREE</td>\n",
              "      <td>17</td>\n",
              "      <td>1</td>\n",
              "      <td>18</td>\n",
              "    </tr>\n",
              "    <tr>\n",
              "      <th>1</th>\n",
              "      <td>5807</td>\n",
              "      <td>\"There 's a lot of discussion there on that is...</td>\n",
              "      <td>\"Of course . The makers of Expelled were withi...</td>\n",
              "      <td>DISAGREE</td>\n",
              "      <td>17</td>\n",
              "      <td>1</td>\n",
              "      <td>18</td>\n",
              "    </tr>\n",
              "    <tr>\n",
              "      <th>2</th>\n",
              "      <td>8487</td>\n",
              "      <td>\"`` It 's not helping . The guns these people ...</td>\n",
              "      <td>\"Oh , I would wager about like Mexico , about ...</td>\n",
              "      <td>DISAGREE</td>\n",
              "      <td>17</td>\n",
              "      <td>1</td>\n",
              "      <td>18</td>\n",
              "    </tr>\n",
              "    <tr>\n",
              "      <th>3</th>\n",
              "      <td>1760</td>\n",
              "      <td>\"Shooting : 3 seriously injured in Auburn shoo...</td>\n",
              "      <td>\"Pickup strikes group of four youths | Houston...</td>\n",
              "      <td>AGREE</td>\n",
              "      <td>14</td>\n",
              "      <td>58</td>\n",
              "      <td>72</td>\n",
              "    </tr>\n",
              "    <tr>\n",
              "      <th>4</th>\n",
              "      <td>6228</td>\n",
              "      <td>\"This is the argument concerning 'choice ' tha...</td>\n",
              "      <td>\"I believe there is a point at which we ( soci...</td>\n",
              "      <td>DISAGREE</td>\n",
              "      <td>14</td>\n",
              "      <td>58</td>\n",
              "      <td>72</td>\n",
              "    </tr>\n",
              "    <tr>\n",
              "      <th>...</th>\n",
              "      <td>...</td>\n",
              "      <td>...</td>\n",
              "      <td>...</td>\n",
              "      <td>...</td>\n",
              "      <td>...</td>\n",
              "      <td>...</td>\n",
              "      <td>...</td>\n",
              "    </tr>\n",
              "    <tr>\n",
              "      <th>2011</th>\n",
              "      <td>9499</td>\n",
              "      <td>\"You are betraying your belief system .\"</td>\n",
              "      <td>\"Yep . ( I 'm assuming that by `` belief syste...</td>\n",
              "      <td>AGREE</td>\n",
              "      <td>80</td>\n",
              "      <td>197</td>\n",
              "      <td>277</td>\n",
              "    </tr>\n",
              "    <tr>\n",
              "      <th>2012</th>\n",
              "      <td>4611</td>\n",
              "      <td>\"You are in a loud minority , railing against ...</td>\n",
              "      <td>\"Being in the minority or in the majority is i...</td>\n",
              "      <td>DISAGREE</td>\n",
              "      <td>80</td>\n",
              "      <td>197</td>\n",
              "      <td>277</td>\n",
              "    </tr>\n",
              "    <tr>\n",
              "      <th>2013</th>\n",
              "      <td>9328</td>\n",
              "      <td>\"You bet your XXX that 'd make me happy .\"</td>\n",
              "      <td>\"Well , first , I probably would n't bet my XX...</td>\n",
              "      <td>DISAGREE</td>\n",
              "      <td>80</td>\n",
              "      <td>197</td>\n",
              "      <td>277</td>\n",
              "    </tr>\n",
              "    <tr>\n",
              "      <th>2014</th>\n",
              "      <td>5225</td>\n",
              "      <td>\"you say `` f * * * the Constitution. ``\"</td>\n",
              "      <td>\"and gun nuts say f * * * the children when we...</td>\n",
              "      <td>DISAGREE</td>\n",
              "      <td>80</td>\n",
              "      <td>197</td>\n",
              "      <td>277</td>\n",
              "    </tr>\n",
              "    <tr>\n",
              "      <th>2015</th>\n",
              "      <td>68</td>\n",
              "      <td>\"Your answers were without content or meaning ...</td>\n",
              "      <td>\"k\"</td>\n",
              "      <td>DISAGREE</td>\n",
              "      <td>53</td>\n",
              "      <td>14</td>\n",
              "      <td>67</td>\n",
              "    </tr>\n",
              "  </tbody>\n",
              "</table>\n",
              "<p>2016 rows × 7 columns</p>\n",
              "</div>\n",
              "      <button class=\"colab-df-convert\" onclick=\"convertToInteractive('df-a38dbe81-7bc2-4037-a067-3cfa8a859070')\"\n",
              "              title=\"Convert this dataframe to an interactive table.\"\n",
              "              style=\"display:none;\">\n",
              "        \n",
              "  <svg xmlns=\"http://www.w3.org/2000/svg\" height=\"24px\"viewBox=\"0 0 24 24\"\n",
              "       width=\"24px\">\n",
              "    <path d=\"M0 0h24v24H0V0z\" fill=\"none\"/>\n",
              "    <path d=\"M18.56 5.44l.94 2.06.94-2.06 2.06-.94-2.06-.94-.94-2.06-.94 2.06-2.06.94zm-11 1L8.5 8.5l.94-2.06 2.06-.94-2.06-.94L8.5 2.5l-.94 2.06-2.06.94zm10 10l.94 2.06.94-2.06 2.06-.94-2.06-.94-.94-2.06-.94 2.06-2.06.94z\"/><path d=\"M17.41 7.96l-1.37-1.37c-.4-.4-.92-.59-1.43-.59-.52 0-1.04.2-1.43.59L10.3 9.45l-7.72 7.72c-.78.78-.78 2.05 0 2.83L4 21.41c.39.39.9.59 1.41.59.51 0 1.02-.2 1.41-.59l7.78-7.78 2.81-2.81c.8-.78.8-2.07 0-2.86zM5.41 20L4 18.59l7.72-7.72 1.47 1.35L5.41 20z\"/>\n",
              "  </svg>\n",
              "      </button>\n",
              "      \n",
              "  <style>\n",
              "    .colab-df-container {\n",
              "      display:flex;\n",
              "      flex-wrap:wrap;\n",
              "      gap: 12px;\n",
              "    }\n",
              "\n",
              "    .colab-df-convert {\n",
              "      background-color: #E8F0FE;\n",
              "      border: none;\n",
              "      border-radius: 50%;\n",
              "      cursor: pointer;\n",
              "      display: none;\n",
              "      fill: #1967D2;\n",
              "      height: 32px;\n",
              "      padding: 0 0 0 0;\n",
              "      width: 32px;\n",
              "    }\n",
              "\n",
              "    .colab-df-convert:hover {\n",
              "      background-color: #E2EBFA;\n",
              "      box-shadow: 0px 1px 2px rgba(60, 64, 67, 0.3), 0px 1px 3px 1px rgba(60, 64, 67, 0.15);\n",
              "      fill: #174EA6;\n",
              "    }\n",
              "\n",
              "    [theme=dark] .colab-df-convert {\n",
              "      background-color: #3B4455;\n",
              "      fill: #D2E3FC;\n",
              "    }\n",
              "\n",
              "    [theme=dark] .colab-df-convert:hover {\n",
              "      background-color: #434B5C;\n",
              "      box-shadow: 0px 1px 3px 1px rgba(0, 0, 0, 0.15);\n",
              "      filter: drop-shadow(0px 1px 2px rgba(0, 0, 0, 0.3));\n",
              "      fill: #FFFFFF;\n",
              "    }\n",
              "  </style>\n",
              "\n",
              "      <script>\n",
              "        const buttonEl =\n",
              "          document.querySelector('#df-a38dbe81-7bc2-4037-a067-3cfa8a859070 button.colab-df-convert');\n",
              "        buttonEl.style.display =\n",
              "          google.colab.kernel.accessAllowed ? 'block' : 'none';\n",
              "\n",
              "        async function convertToInteractive(key) {\n",
              "          const element = document.querySelector('#df-a38dbe81-7bc2-4037-a067-3cfa8a859070');\n",
              "          const dataTable =\n",
              "            await google.colab.kernel.invokeFunction('convertToInteractive',\n",
              "                                                     [key], {});\n",
              "          if (!dataTable) return;\n",
              "\n",
              "          const docLinkHtml = 'Like what you see? Visit the ' +\n",
              "            '<a target=\"_blank\" href=https://colab.research.google.com/notebooks/data_table.ipynb>data table notebook</a>'\n",
              "            + ' to learn more about interactive tables.';\n",
              "          element.innerHTML = '';\n",
              "          dataTable['output_type'] = 'display_data';\n",
              "          await google.colab.output.renderOutput(dataTable, element);\n",
              "          const docLink = document.createElement('div');\n",
              "          docLink.innerHTML = docLinkHtml;\n",
              "          element.appendChild(docLink);\n",
              "        }\n",
              "      </script>\n",
              "    </div>\n",
              "  </div>\n",
              "  "
            ]
          },
          "metadata": {},
          "execution_count": 8
        }
      ],
      "source": [
        "# Testing data\n",
        "test_raw['q_count'] = word_count('q')\n",
        "test_raw['r_count'] = word_count('r')\n",
        "test_raw['qr_count'] = test_raw['q_count'] + test_raw['r_count']\n",
        "\n",
        "test_raw"
      ]
    },
    {
      "cell_type": "markdown",
      "metadata": {
        "id": "J-pnf0Ae0axm"
      },
      "source": [
        "## **Preprocessing**"
      ]
    },
    {
      "cell_type": "code",
      "execution_count": null,
      "metadata": {
        "id": "HDjQsXVvN0d0"
      },
      "outputs": [],
      "source": [
        "# Remove double quotes\n",
        "def remove_double_quotes(df, col):\n",
        "  df[col] = df[col].str.slice(1, -1)"
      ]
    },
    {
      "cell_type": "markdown",
      "metadata": {
        "id": "7SQtviICJepe"
      },
      "source": [
        "### **Training Set**"
      ]
    },
    {
      "cell_type": "markdown",
      "metadata": {
        "id": "Wzq_GuWjU-Ri"
      },
      "source": [
        "#### (1) Remove double quotes"
      ]
    },
    {
      "cell_type": "code",
      "execution_count": null,
      "metadata": {
        "id": "byGT1isUO7sb"
      },
      "outputs": [],
      "source": [
        "remove_double_quotes(train_raw, 'q')\n",
        "remove_double_quotes(train_raw, 'r')\n",
        "remove_double_quotes(train_raw, 'q\\'')\n",
        "remove_double_quotes(train_raw, 'r\\'')"
      ]
    },
    {
      "cell_type": "markdown",
      "metadata": {
        "id": "ZBadYA_-VGA2"
      },
      "source": [
        "#### (2) Unique id"
      ]
    },
    {
      "cell_type": "code",
      "execution_count": null,
      "metadata": {
        "colab": {
          "base_uri": "https://localhost:8080/"
        },
        "id": "kxL7FCJuzAmA",
        "outputId": "c7f8dadc-432b-4b10-b3ba-6a0f6dd1cdbd"
      },
      "outputs": [
        {
          "output_type": "stream",
          "name": "stdout",
          "text": [
            "Number of unique id: 7987\n",
            "There are duplicate ids.\n"
          ]
        }
      ],
      "source": [
        "# Unique id\n",
        "unique_id = len(pd.unique(train_raw['id']))  \n",
        "print(\"Number of unique id:\", unique_id)\n",
        "if unique_id != train_raw.shape[0]:\n",
        "  print(\"There are duplicate ids.\")"
      ]
    },
    {
      "cell_type": "code",
      "execution_count": null,
      "metadata": {
        "colab": {
          "base_uri": "https://localhost:8080/",
          "height": 1000
        },
        "id": "JWIr6GIw0otK",
        "outputId": "b4a48a5b-442c-4d51-b73b-9d19238f1b1e"
      },
      "outputs": [
        {
          "output_type": "execute_result",
          "data": {
            "text/plain": [
              "          id                                                  q  \\\n",
              "2          8  It can go both ways . We all doubt . It is wha...   \n",
              "3          9  once again , you seem to support the killing o...   \n",
              "9         10  I personly would not condone an abortion , how...   \n",
              "13        11  First , there is no `` us `` on your part rega...   \n",
              "18        12                  alright how did evolution start ?   \n",
              "...      ...                                                ...   \n",
              "38337   9999  The ID movements form of ID states that there ...   \n",
              "38338  10000  For me , it would therefore have made no diffe...   \n",
              "38340  10001  good thing this argument has never been done !...   \n",
              "38342  10002  I know one thing , anything that happens , pol...   \n",
              "38344  10003  I enjoy Botany more than most things and I hav...   \n",
              "\n",
              "                                                       r         s  \\\n",
              "2                                                 True .     AGREE   \n",
              "3      based on the idea that people are dispensible ...     AGREE   \n",
              "9      This is a pretty touchy issue , and I agree wi...     AGREE   \n",
              "13     Ah , I see . Your reasons are secret reasons ....  DISAGREE   \n",
              "18                                             See above  DISAGREE   \n",
              "...                                                  ...       ...   \n",
              "38337  That , of course , is the logical fallacy know...  DISAGREE   \n",
              "38338  It logically follows from the moral foundation...     AGREE   \n",
              "38340  And teen sex does n't , by the very nature of ...  DISAGREE   \n",
              "38342  Was n't sinjin crowing about his plans to take...  DISAGREE   \n",
              "38344  Hi Smallax , welcome to the forum . I did a se...     AGREE   \n",
              "\n",
              "                                                      q'  \\\n",
              "2      It can go both ways . We all doubt . It is wha...   \n",
              "3          seem to support the killing of certain people   \n",
              "9      personly would not condone an abortion , howev...   \n",
              "13     You should be giving justification for wanting...   \n",
              "18                     alright how did evolution start ?   \n",
              "...                                                  ...   \n",
              "38337  The ID movements form of ID states that there ...   \n",
              "38338  it would therefore have made no difference if ...   \n",
              "38340  good thing this argument has never been done !...   \n",
              "38342  I know one thing , anything that happens , pol...   \n",
              "38344  I enjoy Botany more than most things and I hav...   \n",
              "\n",
              "                                                      r'  q_count  r_count  \\\n",
              "2                                                   True       17        1   \n",
              "3      based on the idea that people are dispensible ...       14       58   \n",
              "9      This is a pretty touchy issue , and I agree wi...      244      293   \n",
              "13     Your reasons are secret reasons . On a debate ...      210      360   \n",
              "18                                             See above        5        2   \n",
              "...                                                  ...      ...      ...   \n",
              "38337  of course , is the logical fallacy known as 'P...      129      151   \n",
              "38338  It logically follows from the moral foundation...      101       54   \n",
              "38340  And teen sex does n't , by the very nature of ...       39       37   \n",
              "38342  Was n't sinjin crowing about his plans to take...      114       46   \n",
              "38344  Hi Smallax , welcome to the forum . I did a se...       76      182   \n",
              "\n",
              "       qr_count  q_sum_count  r_sum_count  qr_sum_count  \n",
              "2            18           17            1            18  \n",
              "3            72            8           14            22  \n",
              "9           537           70           45           115  \n",
              "13          570           43           45            88  \n",
              "18            7            5            2             7  \n",
              "...         ...          ...          ...           ...  \n",
              "38337       280           29           17            46  \n",
              "38338       155           25           21            46  \n",
              "38340        76           18           26            44  \n",
              "38342       160           16           14            30  \n",
              "38344       258           19           23            42  \n",
              "\n",
              "[7987 rows x 12 columns]"
            ],
            "text/html": [
              "\n",
              "  <div id=\"df-97e76328-2aa3-4857-9e22-746c70a50161\">\n",
              "    <div class=\"colab-df-container\">\n",
              "      <div>\n",
              "<style scoped>\n",
              "    .dataframe tbody tr th:only-of-type {\n",
              "        vertical-align: middle;\n",
              "    }\n",
              "\n",
              "    .dataframe tbody tr th {\n",
              "        vertical-align: top;\n",
              "    }\n",
              "\n",
              "    .dataframe thead th {\n",
              "        text-align: right;\n",
              "    }\n",
              "</style>\n",
              "<table border=\"1\" class=\"dataframe\">\n",
              "  <thead>\n",
              "    <tr style=\"text-align: right;\">\n",
              "      <th></th>\n",
              "      <th>id</th>\n",
              "      <th>q</th>\n",
              "      <th>r</th>\n",
              "      <th>s</th>\n",
              "      <th>q'</th>\n",
              "      <th>r'</th>\n",
              "      <th>q_count</th>\n",
              "      <th>r_count</th>\n",
              "      <th>qr_count</th>\n",
              "      <th>q_sum_count</th>\n",
              "      <th>r_sum_count</th>\n",
              "      <th>qr_sum_count</th>\n",
              "    </tr>\n",
              "  </thead>\n",
              "  <tbody>\n",
              "    <tr>\n",
              "      <th>2</th>\n",
              "      <td>8</td>\n",
              "      <td>It can go both ways . We all doubt . It is wha...</td>\n",
              "      <td>True .</td>\n",
              "      <td>AGREE</td>\n",
              "      <td>It can go both ways . We all doubt . It is wha...</td>\n",
              "      <td>True</td>\n",
              "      <td>17</td>\n",
              "      <td>1</td>\n",
              "      <td>18</td>\n",
              "      <td>17</td>\n",
              "      <td>1</td>\n",
              "      <td>18</td>\n",
              "    </tr>\n",
              "    <tr>\n",
              "      <th>3</th>\n",
              "      <td>9</td>\n",
              "      <td>once again , you seem to support the killing o...</td>\n",
              "      <td>based on the idea that people are dispensible ...</td>\n",
              "      <td>AGREE</td>\n",
              "      <td>seem to support the killing of certain people</td>\n",
              "      <td>based on the idea that people are dispensible ...</td>\n",
              "      <td>14</td>\n",
              "      <td>58</td>\n",
              "      <td>72</td>\n",
              "      <td>8</td>\n",
              "      <td>14</td>\n",
              "      <td>22</td>\n",
              "    </tr>\n",
              "    <tr>\n",
              "      <th>9</th>\n",
              "      <td>10</td>\n",
              "      <td>I personly would not condone an abortion , how...</td>\n",
              "      <td>This is a pretty touchy issue , and I agree wi...</td>\n",
              "      <td>AGREE</td>\n",
              "      <td>personly would not condone an abortion , howev...</td>\n",
              "      <td>This is a pretty touchy issue , and I agree wi...</td>\n",
              "      <td>244</td>\n",
              "      <td>293</td>\n",
              "      <td>537</td>\n",
              "      <td>70</td>\n",
              "      <td>45</td>\n",
              "      <td>115</td>\n",
              "    </tr>\n",
              "    <tr>\n",
              "      <th>13</th>\n",
              "      <td>11</td>\n",
              "      <td>First , there is no `` us `` on your part rega...</td>\n",
              "      <td>Ah , I see . Your reasons are secret reasons ....</td>\n",
              "      <td>DISAGREE</td>\n",
              "      <td>You should be giving justification for wanting...</td>\n",
              "      <td>Your reasons are secret reasons . On a debate ...</td>\n",
              "      <td>210</td>\n",
              "      <td>360</td>\n",
              "      <td>570</td>\n",
              "      <td>43</td>\n",
              "      <td>45</td>\n",
              "      <td>88</td>\n",
              "    </tr>\n",
              "    <tr>\n",
              "      <th>18</th>\n",
              "      <td>12</td>\n",
              "      <td>alright how did evolution start ?</td>\n",
              "      <td>See above</td>\n",
              "      <td>DISAGREE</td>\n",
              "      <td>alright how did evolution start ?</td>\n",
              "      <td>See above</td>\n",
              "      <td>5</td>\n",
              "      <td>2</td>\n",
              "      <td>7</td>\n",
              "      <td>5</td>\n",
              "      <td>2</td>\n",
              "      <td>7</td>\n",
              "    </tr>\n",
              "    <tr>\n",
              "      <th>...</th>\n",
              "      <td>...</td>\n",
              "      <td>...</td>\n",
              "      <td>...</td>\n",
              "      <td>...</td>\n",
              "      <td>...</td>\n",
              "      <td>...</td>\n",
              "      <td>...</td>\n",
              "      <td>...</td>\n",
              "      <td>...</td>\n",
              "      <td>...</td>\n",
              "      <td>...</td>\n",
              "      <td>...</td>\n",
              "    </tr>\n",
              "    <tr>\n",
              "      <th>38337</th>\n",
              "      <td>9999</td>\n",
              "      <td>The ID movements form of ID states that there ...</td>\n",
              "      <td>That , of course , is the logical fallacy know...</td>\n",
              "      <td>DISAGREE</td>\n",
              "      <td>The ID movements form of ID states that there ...</td>\n",
              "      <td>of course , is the logical fallacy known as 'P...</td>\n",
              "      <td>129</td>\n",
              "      <td>151</td>\n",
              "      <td>280</td>\n",
              "      <td>29</td>\n",
              "      <td>17</td>\n",
              "      <td>46</td>\n",
              "    </tr>\n",
              "    <tr>\n",
              "      <th>38338</th>\n",
              "      <td>10000</td>\n",
              "      <td>For me , it would therefore have made no diffe...</td>\n",
              "      <td>It logically follows from the moral foundation...</td>\n",
              "      <td>AGREE</td>\n",
              "      <td>it would therefore have made no difference if ...</td>\n",
              "      <td>It logically follows from the moral foundation...</td>\n",
              "      <td>101</td>\n",
              "      <td>54</td>\n",
              "      <td>155</td>\n",
              "      <td>25</td>\n",
              "      <td>21</td>\n",
              "      <td>46</td>\n",
              "    </tr>\n",
              "    <tr>\n",
              "      <th>38340</th>\n",
              "      <td>10001</td>\n",
              "      <td>good thing this argument has never been done !...</td>\n",
              "      <td>And teen sex does n't , by the very nature of ...</td>\n",
              "      <td>DISAGREE</td>\n",
              "      <td>good thing this argument has never been done !...</td>\n",
              "      <td>And teen sex does n't , by the very nature of ...</td>\n",
              "      <td>39</td>\n",
              "      <td>37</td>\n",
              "      <td>76</td>\n",
              "      <td>18</td>\n",
              "      <td>26</td>\n",
              "      <td>44</td>\n",
              "    </tr>\n",
              "    <tr>\n",
              "      <th>38342</th>\n",
              "      <td>10002</td>\n",
              "      <td>I know one thing , anything that happens , pol...</td>\n",
              "      <td>Was n't sinjin crowing about his plans to take...</td>\n",
              "      <td>DISAGREE</td>\n",
              "      <td>I know one thing , anything that happens , pol...</td>\n",
              "      <td>Was n't sinjin crowing about his plans to take...</td>\n",
              "      <td>114</td>\n",
              "      <td>46</td>\n",
              "      <td>160</td>\n",
              "      <td>16</td>\n",
              "      <td>14</td>\n",
              "      <td>30</td>\n",
              "    </tr>\n",
              "    <tr>\n",
              "      <th>38344</th>\n",
              "      <td>10003</td>\n",
              "      <td>I enjoy Botany more than most things and I hav...</td>\n",
              "      <td>Hi Smallax , welcome to the forum . I did a se...</td>\n",
              "      <td>AGREE</td>\n",
              "      <td>I enjoy Botany more than most things and I hav...</td>\n",
              "      <td>Hi Smallax , welcome to the forum . I did a se...</td>\n",
              "      <td>76</td>\n",
              "      <td>182</td>\n",
              "      <td>258</td>\n",
              "      <td>19</td>\n",
              "      <td>23</td>\n",
              "      <td>42</td>\n",
              "    </tr>\n",
              "  </tbody>\n",
              "</table>\n",
              "<p>7987 rows × 12 columns</p>\n",
              "</div>\n",
              "      <button class=\"colab-df-convert\" onclick=\"convertToInteractive('df-97e76328-2aa3-4857-9e22-746c70a50161')\"\n",
              "              title=\"Convert this dataframe to an interactive table.\"\n",
              "              style=\"display:none;\">\n",
              "        \n",
              "  <svg xmlns=\"http://www.w3.org/2000/svg\" height=\"24px\"viewBox=\"0 0 24 24\"\n",
              "       width=\"24px\">\n",
              "    <path d=\"M0 0h24v24H0V0z\" fill=\"none\"/>\n",
              "    <path d=\"M18.56 5.44l.94 2.06.94-2.06 2.06-.94-2.06-.94-.94-2.06-.94 2.06-2.06.94zm-11 1L8.5 8.5l.94-2.06 2.06-.94-2.06-.94L8.5 2.5l-.94 2.06-2.06.94zm10 10l.94 2.06.94-2.06 2.06-.94-2.06-.94-.94-2.06-.94 2.06-2.06.94z\"/><path d=\"M17.41 7.96l-1.37-1.37c-.4-.4-.92-.59-1.43-.59-.52 0-1.04.2-1.43.59L10.3 9.45l-7.72 7.72c-.78.78-.78 2.05 0 2.83L4 21.41c.39.39.9.59 1.41.59.51 0 1.02-.2 1.41-.59l7.78-7.78 2.81-2.81c.8-.78.8-2.07 0-2.86zM5.41 20L4 18.59l7.72-7.72 1.47 1.35L5.41 20z\"/>\n",
              "  </svg>\n",
              "      </button>\n",
              "      \n",
              "  <style>\n",
              "    .colab-df-container {\n",
              "      display:flex;\n",
              "      flex-wrap:wrap;\n",
              "      gap: 12px;\n",
              "    }\n",
              "\n",
              "    .colab-df-convert {\n",
              "      background-color: #E8F0FE;\n",
              "      border: none;\n",
              "      border-radius: 50%;\n",
              "      cursor: pointer;\n",
              "      display: none;\n",
              "      fill: #1967D2;\n",
              "      height: 32px;\n",
              "      padding: 0 0 0 0;\n",
              "      width: 32px;\n",
              "    }\n",
              "\n",
              "    .colab-df-convert:hover {\n",
              "      background-color: #E2EBFA;\n",
              "      box-shadow: 0px 1px 2px rgba(60, 64, 67, 0.3), 0px 1px 3px 1px rgba(60, 64, 67, 0.15);\n",
              "      fill: #174EA6;\n",
              "    }\n",
              "\n",
              "    [theme=dark] .colab-df-convert {\n",
              "      background-color: #3B4455;\n",
              "      fill: #D2E3FC;\n",
              "    }\n",
              "\n",
              "    [theme=dark] .colab-df-convert:hover {\n",
              "      background-color: #434B5C;\n",
              "      box-shadow: 0px 1px 3px 1px rgba(0, 0, 0, 0.15);\n",
              "      filter: drop-shadow(0px 1px 2px rgba(0, 0, 0, 0.3));\n",
              "      fill: #FFFFFF;\n",
              "    }\n",
              "  </style>\n",
              "\n",
              "      <script>\n",
              "        const buttonEl =\n",
              "          document.querySelector('#df-97e76328-2aa3-4857-9e22-746c70a50161 button.colab-df-convert');\n",
              "        buttonEl.style.display =\n",
              "          google.colab.kernel.accessAllowed ? 'block' : 'none';\n",
              "\n",
              "        async function convertToInteractive(key) {\n",
              "          const element = document.querySelector('#df-97e76328-2aa3-4857-9e22-746c70a50161');\n",
              "          const dataTable =\n",
              "            await google.colab.kernel.invokeFunction('convertToInteractive',\n",
              "                                                     [key], {});\n",
              "          if (!dataTable) return;\n",
              "\n",
              "          const docLinkHtml = 'Like what you see? Visit the ' +\n",
              "            '<a target=\"_blank\" href=https://colab.research.google.com/notebooks/data_table.ipynb>data table notebook</a>'\n",
              "            + ' to learn more about interactive tables.';\n",
              "          element.innerHTML = '';\n",
              "          dataTable['output_type'] = 'display_data';\n",
              "          await google.colab.output.renderOutput(dataTable, element);\n",
              "          const docLink = document.createElement('div');\n",
              "          docLink.innerHTML = docLinkHtml;\n",
              "          element.appendChild(docLink);\n",
              "        }\n",
              "      </script>\n",
              "    </div>\n",
              "  </div>\n",
              "  "
            ]
          },
          "metadata": {},
          "execution_count": 30
        }
      ],
      "source": [
        "# For rows with the same id, keep the one with the maximum summary word count (q'+r')\n",
        "train = train_raw.sort_values(by=['id', 'qr_sum_count']).drop_duplicates('id', keep='last')\n",
        "train"
      ]
    },
    {
      "cell_type": "markdown",
      "metadata": {
        "id": "lWCl8ThELOsF"
      },
      "source": [
        "### **Testing Set**"
      ]
    },
    {
      "cell_type": "markdown",
      "metadata": {
        "id": "UgBpIi7gcKsP"
      },
      "source": [
        "#### (1) Remove double quotes"
      ]
    },
    {
      "cell_type": "code",
      "execution_count": null,
      "metadata": {
        "id": "cZQIfc_qQs3G"
      },
      "outputs": [],
      "source": [
        "remove_double_quotes(test_raw, 'q')\n",
        "remove_double_quotes(test_raw, 'r')"
      ]
    },
    {
      "cell_type": "code",
      "execution_count": null,
      "metadata": {
        "colab": {
          "base_uri": "https://localhost:8080/",
          "height": 511
        },
        "id": "M3omdIpdRBQS",
        "outputId": "7b87cb15-f0ca-4532-b9fb-57e80b095205"
      },
      "outputs": [
        {
          "output_type": "execute_result",
          "data": {
            "text/plain": [
              "     id                                                  q  \\\n",
              "0  6199  -- -- -- -- -- -- -- -- -- -- -- -- -- -- -- -...   \n",
              "1  5807  There 's a lot of discussion there on that iss...   \n",
              "2  8487  `` It 's not helping . The guns these people h...   \n",
              "3  1760  Shooting : 3 seriously injured in Auburn shoot...   \n",
              "4  6228  This is the argument concerning 'choice ' that...   \n",
              "\n",
              "                                                   r         s  q_count  \\\n",
              "0  If so , why do we still have apes , and why ar...  DISAGREE       17   \n",
              "1  Of course . The makers of Expelled were within...  DISAGREE       17   \n",
              "2  Oh , I would wager about like Mexico , about 8...  DISAGREE       17   \n",
              "3  Pickup strikes group of four youths | Houston ...     AGREE       14   \n",
              "4  I believe there is a point at which we ( socie...  DISAGREE       14   \n",
              "\n",
              "   r_count  qr_count  \n",
              "0        1        18  \n",
              "1        1        18  \n",
              "2        1        18  \n",
              "3       58        72  \n",
              "4       58        72  "
            ],
            "text/html": [
              "\n",
              "  <div id=\"df-23dc2de5-0268-4488-9fb3-a686f8b38872\">\n",
              "    <div class=\"colab-df-container\">\n",
              "      <div>\n",
              "<style scoped>\n",
              "    .dataframe tbody tr th:only-of-type {\n",
              "        vertical-align: middle;\n",
              "    }\n",
              "\n",
              "    .dataframe tbody tr th {\n",
              "        vertical-align: top;\n",
              "    }\n",
              "\n",
              "    .dataframe thead th {\n",
              "        text-align: right;\n",
              "    }\n",
              "</style>\n",
              "<table border=\"1\" class=\"dataframe\">\n",
              "  <thead>\n",
              "    <tr style=\"text-align: right;\">\n",
              "      <th></th>\n",
              "      <th>id</th>\n",
              "      <th>q</th>\n",
              "      <th>r</th>\n",
              "      <th>s</th>\n",
              "      <th>q_count</th>\n",
              "      <th>r_count</th>\n",
              "      <th>qr_count</th>\n",
              "    </tr>\n",
              "  </thead>\n",
              "  <tbody>\n",
              "    <tr>\n",
              "      <th>0</th>\n",
              "      <td>6199</td>\n",
              "      <td>-- -- -- -- -- -- -- -- -- -- -- -- -- -- -- -...</td>\n",
              "      <td>If so , why do we still have apes , and why ar...</td>\n",
              "      <td>DISAGREE</td>\n",
              "      <td>17</td>\n",
              "      <td>1</td>\n",
              "      <td>18</td>\n",
              "    </tr>\n",
              "    <tr>\n",
              "      <th>1</th>\n",
              "      <td>5807</td>\n",
              "      <td>There 's a lot of discussion there on that iss...</td>\n",
              "      <td>Of course . The makers of Expelled were within...</td>\n",
              "      <td>DISAGREE</td>\n",
              "      <td>17</td>\n",
              "      <td>1</td>\n",
              "      <td>18</td>\n",
              "    </tr>\n",
              "    <tr>\n",
              "      <th>2</th>\n",
              "      <td>8487</td>\n",
              "      <td>`` It 's not helping . The guns these people h...</td>\n",
              "      <td>Oh , I would wager about like Mexico , about 8...</td>\n",
              "      <td>DISAGREE</td>\n",
              "      <td>17</td>\n",
              "      <td>1</td>\n",
              "      <td>18</td>\n",
              "    </tr>\n",
              "    <tr>\n",
              "      <th>3</th>\n",
              "      <td>1760</td>\n",
              "      <td>Shooting : 3 seriously injured in Auburn shoot...</td>\n",
              "      <td>Pickup strikes group of four youths | Houston ...</td>\n",
              "      <td>AGREE</td>\n",
              "      <td>14</td>\n",
              "      <td>58</td>\n",
              "      <td>72</td>\n",
              "    </tr>\n",
              "    <tr>\n",
              "      <th>4</th>\n",
              "      <td>6228</td>\n",
              "      <td>This is the argument concerning 'choice ' that...</td>\n",
              "      <td>I believe there is a point at which we ( socie...</td>\n",
              "      <td>DISAGREE</td>\n",
              "      <td>14</td>\n",
              "      <td>58</td>\n",
              "      <td>72</td>\n",
              "    </tr>\n",
              "  </tbody>\n",
              "</table>\n",
              "</div>\n",
              "      <button class=\"colab-df-convert\" onclick=\"convertToInteractive('df-23dc2de5-0268-4488-9fb3-a686f8b38872')\"\n",
              "              title=\"Convert this dataframe to an interactive table.\"\n",
              "              style=\"display:none;\">\n",
              "        \n",
              "  <svg xmlns=\"http://www.w3.org/2000/svg\" height=\"24px\"viewBox=\"0 0 24 24\"\n",
              "       width=\"24px\">\n",
              "    <path d=\"M0 0h24v24H0V0z\" fill=\"none\"/>\n",
              "    <path d=\"M18.56 5.44l.94 2.06.94-2.06 2.06-.94-2.06-.94-.94-2.06-.94 2.06-2.06.94zm-11 1L8.5 8.5l.94-2.06 2.06-.94-2.06-.94L8.5 2.5l-.94 2.06-2.06.94zm10 10l.94 2.06.94-2.06 2.06-.94-2.06-.94-.94-2.06-.94 2.06-2.06.94z\"/><path d=\"M17.41 7.96l-1.37-1.37c-.4-.4-.92-.59-1.43-.59-.52 0-1.04.2-1.43.59L10.3 9.45l-7.72 7.72c-.78.78-.78 2.05 0 2.83L4 21.41c.39.39.9.59 1.41.59.51 0 1.02-.2 1.41-.59l7.78-7.78 2.81-2.81c.8-.78.8-2.07 0-2.86zM5.41 20L4 18.59l7.72-7.72 1.47 1.35L5.41 20z\"/>\n",
              "  </svg>\n",
              "      </button>\n",
              "      \n",
              "  <style>\n",
              "    .colab-df-container {\n",
              "      display:flex;\n",
              "      flex-wrap:wrap;\n",
              "      gap: 12px;\n",
              "    }\n",
              "\n",
              "    .colab-df-convert {\n",
              "      background-color: #E8F0FE;\n",
              "      border: none;\n",
              "      border-radius: 50%;\n",
              "      cursor: pointer;\n",
              "      display: none;\n",
              "      fill: #1967D2;\n",
              "      height: 32px;\n",
              "      padding: 0 0 0 0;\n",
              "      width: 32px;\n",
              "    }\n",
              "\n",
              "    .colab-df-convert:hover {\n",
              "      background-color: #E2EBFA;\n",
              "      box-shadow: 0px 1px 2px rgba(60, 64, 67, 0.3), 0px 1px 3px 1px rgba(60, 64, 67, 0.15);\n",
              "      fill: #174EA6;\n",
              "    }\n",
              "\n",
              "    [theme=dark] .colab-df-convert {\n",
              "      background-color: #3B4455;\n",
              "      fill: #D2E3FC;\n",
              "    }\n",
              "\n",
              "    [theme=dark] .colab-df-convert:hover {\n",
              "      background-color: #434B5C;\n",
              "      box-shadow: 0px 1px 3px 1px rgba(0, 0, 0, 0.15);\n",
              "      filter: drop-shadow(0px 1px 2px rgba(0, 0, 0, 0.3));\n",
              "      fill: #FFFFFF;\n",
              "    }\n",
              "  </style>\n",
              "\n",
              "      <script>\n",
              "        const buttonEl =\n",
              "          document.querySelector('#df-23dc2de5-0268-4488-9fb3-a686f8b38872 button.colab-df-convert');\n",
              "        buttonEl.style.display =\n",
              "          google.colab.kernel.accessAllowed ? 'block' : 'none';\n",
              "\n",
              "        async function convertToInteractive(key) {\n",
              "          const element = document.querySelector('#df-23dc2de5-0268-4488-9fb3-a686f8b38872');\n",
              "          const dataTable =\n",
              "            await google.colab.kernel.invokeFunction('convertToInteractive',\n",
              "                                                     [key], {});\n",
              "          if (!dataTable) return;\n",
              "\n",
              "          const docLinkHtml = 'Like what you see? Visit the ' +\n",
              "            '<a target=\"_blank\" href=https://colab.research.google.com/notebooks/data_table.ipynb>data table notebook</a>'\n",
              "            + ' to learn more about interactive tables.';\n",
              "          element.innerHTML = '';\n",
              "          dataTable['output_type'] = 'display_data';\n",
              "          await google.colab.output.renderOutput(dataTable, element);\n",
              "          const docLink = document.createElement('div');\n",
              "          docLink.innerHTML = docLinkHtml;\n",
              "          element.appendChild(docLink);\n",
              "        }\n",
              "      </script>\n",
              "    </div>\n",
              "  </div>\n",
              "  "
            ]
          },
          "metadata": {},
          "execution_count": 14
        }
      ],
      "source": [
        "test_raw.head()"
      ]
    },
    {
      "cell_type": "markdown",
      "metadata": {
        "id": "bSjbc5QKcRP8"
      },
      "source": [
        "#### (2) Unique id"
      ]
    },
    {
      "cell_type": "code",
      "execution_count": null,
      "metadata": {
        "colab": {
          "base_uri": "https://localhost:8080/"
        },
        "id": "GCzauYBcLOsO",
        "outputId": "3124778e-6492-4aeb-bde7-1627f130bb57"
      },
      "outputs": [
        {
          "output_type": "stream",
          "name": "stdout",
          "text": [
            "Number of unique id: 2016\n"
          ]
        }
      ],
      "source": [
        "# Unique id\n",
        "unique_id = len(pd.unique(test_raw['id']))  \n",
        "print(\"Number of unique id:\", unique_id)\n",
        "if unique_id != test_raw.shape[0]:\n",
        "  print(\"There are duplicate ids.\")"
      ]
    },
    {
      "cell_type": "markdown",
      "metadata": {
        "id": "tBKhsc2er9dM"
      },
      "source": [
        "## **Evaluation - LCS**"
      ]
    },
    {
      "cell_type": "code",
      "execution_count": null,
      "metadata": {
        "id": "ETd_fffGOolj"
      },
      "outputs": [],
      "source": [
        "# Tokenize\n",
        "def tokenization(text1: str, text2: str):\n",
        "    text1 = [i for i in nltk.word_tokenize(text1) if len(i)>1 or i not in string.punctuation]\n",
        "    text2 = [i for i in nltk.word_tokenize(text2) if len(i)>1 or i not in string.punctuation]\n",
        "    return text1, text2"
      ]
    },
    {
      "cell_type": "code",
      "execution_count": null,
      "metadata": {
        "id": "aAijHXxTtJH6"
      },
      "outputs": [],
      "source": [
        "# LCS\n",
        "def longestCommonSubsequence(text1: str, text2: str) -> int:\n",
        "    text1, text2 = tokenization(text1, text2)\n",
        "    if len(text2) > len(text1):\n",
        "        text1, text2 = text2, text1\n",
        "    lcs = [[0]*(len(text2)+1) for _ in range(2)]\n",
        "    for i in range(1, len(text1)+1):\n",
        "        for j in range(1, len(text2)+1):\n",
        "            if text1[i-1]== text2[j-1]:\n",
        "                lcs[i%2][j] = lcs[(i-1) % 2][j-1] +1\n",
        "            else:\n",
        "                lcs[i%2][j]= max(lcs[(i-1)%2][j], lcs[i % 2][j-1])\n",
        "    return lcs[len(text1)% 2][len(text2)]"
      ]
    },
    {
      "cell_type": "code",
      "execution_count": null,
      "metadata": {
        "id": "sms1h846OSo9"
      },
      "outputs": [],
      "source": [
        "# LCS score\n",
        "def lcs_score(text1: str, text2: str):\n",
        "  lcs = longestCommonSubsequence(text1, text2)\n",
        "  text1, text2 = tokenization(text1, text2)\n",
        "  return lcs / (len(text1)+len(text2)-lcs)"
      ]
    },
    {
      "cell_type": "markdown",
      "source": [
        "## **Baseline LCS Score**"
      ],
      "metadata": {
        "id": "vQMbnduilTxo"
      }
    },
    {
      "cell_type": "code",
      "source": [
        "train.reset_index(drop=True, inplace=True)"
      ],
      "metadata": {
        "id": "plaDrkHCo9hW"
      },
      "execution_count": null,
      "outputs": []
    },
    {
      "cell_type": "code",
      "source": [
        "# Calculate the average LCS score of (q_pred, q') and (r_pred, r')\n",
        "train['baseline'] = 0\n",
        "for i in range(len(train)):\n",
        "    train.loc[i, 'baseline'] = (lcs_score(train.iloc[i]['q'], train.iloc[i]['q\\'']) + lcs_score(train.iloc[i]['r'], train.iloc[i]['r\\''])) / 2"
      ],
      "metadata": {
        "id": "HGfTCI7lln7K"
      },
      "execution_count": null,
      "outputs": []
    },
    {
      "cell_type": "code",
      "source": [
        "# Calcualte the baseline average LCS score of all the data\n",
        "lcs_score_base = train['baseline'].mean()\n",
        "print(\"Baseline LCS score:\", lcs_score_base)"
      ],
      "metadata": {
        "colab": {
          "base_uri": "https://localhost:8080/"
        },
        "id": "HcSBXtsWfgnO",
        "outputId": "b55a0b99-8385-416e-bdda-1d5f5986efb8"
      },
      "execution_count": null,
      "outputs": [
        {
          "output_type": "stream",
          "name": "stdout",
          "text": [
            "Baseline LCS score: 0.6892455925359274\n"
          ]
        }
      ]
    },
    {
      "cell_type": "code",
      "source": [
        "def categorise(row):  \n",
        "    if row['baseline'] > 0.9 and row['baseline'] <= 1.0:\n",
        "        return 1.0\n",
        "    elif row['baseline'] > 0.8 and row['baseline'] <= 0.9:\n",
        "        return 0.9\n",
        "    elif row['baseline'] > 0.7  and row['baseline'] <= 0.8:\n",
        "        return 0.8\n",
        "    elif row['baseline'] > 0.6 and row['baseline'] <= 0.7:\n",
        "        return 0.7\n",
        "    elif row['baseline'] > 0.5 and row['baseline'] <= 0.6:\n",
        "        return 0.6\n",
        "    elif row['baseline'] > 0.4  and row['baseline'] <= 0.5:\n",
        "        return 0.5\n",
        "    elif row['baseline'] > 0.3 and row['baseline'] <= 0.4:\n",
        "        return 0.4\n",
        "    elif row['baseline'] > 0.2  and row['baseline'] <= 0.3:\n",
        "        return 0.3\n",
        "    elif row['baseline'] > 0.1 and row['baseline'] <= 0.2:\n",
        "        return 0.2\n",
        "    elif row['baseline'] > 0.0 and row['baseline'] <= 0.1:\n",
        "        return 0.1\n",
        "    else:\n",
        "        return 0.0"
      ],
      "metadata": {
        "id": "3oBbQsbAnXel"
      },
      "execution_count": null,
      "outputs": []
    },
    {
      "cell_type": "code",
      "source": [
        "train['baseline category'] = train.apply(lambda row: categorise(row), axis=1)\n",
        "print(train.shape)\n",
        "train"
      ],
      "metadata": {
        "colab": {
          "base_uri": "https://localhost:8080/",
          "height": 1000
        },
        "id": "Bb4obNfK2tdn",
        "outputId": "370e7ed7-5639-4799-902a-0be6b4ab7ac9"
      },
      "execution_count": null,
      "outputs": [
        {
          "output_type": "stream",
          "name": "stdout",
          "text": [
            "(7987, 14)\n"
          ]
        },
        {
          "output_type": "execute_result",
          "data": {
            "text/plain": [
              "         id                                                  q  \\\n",
              "0         8  It can go both ways . We all doubt . It is wha...   \n",
              "1         9  once again , you seem to support the killing o...   \n",
              "2        10  I personly would not condone an abortion , how...   \n",
              "3        11  First , there is no `` us `` on your part rega...   \n",
              "4        12                  alright how did evolution start ?   \n",
              "...     ...                                                ...   \n",
              "7982   9999  The ID movements form of ID states that there ...   \n",
              "7983  10000  For me , it would therefore have made no diffe...   \n",
              "7984  10001  good thing this argument has never been done !...   \n",
              "7985  10002  I know one thing , anything that happens , pol...   \n",
              "7986  10003  I enjoy Botany more than most things and I hav...   \n",
              "\n",
              "                                                      r         s  \\\n",
              "0                                                True .     AGREE   \n",
              "1     based on the idea that people are dispensible ...     AGREE   \n",
              "2     This is a pretty touchy issue , and I agree wi...     AGREE   \n",
              "3     Ah , I see . Your reasons are secret reasons ....  DISAGREE   \n",
              "4                                             See above  DISAGREE   \n",
              "...                                                 ...       ...   \n",
              "7982  That , of course , is the logical fallacy know...  DISAGREE   \n",
              "7983  It logically follows from the moral foundation...     AGREE   \n",
              "7984  And teen sex does n't , by the very nature of ...  DISAGREE   \n",
              "7985  Was n't sinjin crowing about his plans to take...  DISAGREE   \n",
              "7986  Hi Smallax , welcome to the forum . I did a se...     AGREE   \n",
              "\n",
              "                                                     q'  \\\n",
              "0     It can go both ways . We all doubt . It is wha...   \n",
              "1         seem to support the killing of certain people   \n",
              "2     personly would not condone an abortion , howev...   \n",
              "3     You should be giving justification for wanting...   \n",
              "4                     alright how did evolution start ?   \n",
              "...                                                 ...   \n",
              "7982  The ID movements form of ID states that there ...   \n",
              "7983  it would therefore have made no difference if ...   \n",
              "7984  good thing this argument has never been done !...   \n",
              "7985  I know one thing , anything that happens , pol...   \n",
              "7986  I enjoy Botany more than most things and I hav...   \n",
              "\n",
              "                                                     r'  q_count  r_count  \\\n",
              "0                                                  True       17        1   \n",
              "1     based on the idea that people are dispensible ...       14       58   \n",
              "2     This is a pretty touchy issue , and I agree wi...      244      293   \n",
              "3     Your reasons are secret reasons . On a debate ...      210      360   \n",
              "4                                             See above        5        2   \n",
              "...                                                 ...      ...      ...   \n",
              "7982  of course , is the logical fallacy known as 'P...      129      151   \n",
              "7983  It logically follows from the moral foundation...      101       54   \n",
              "7984  And teen sex does n't , by the very nature of ...       39       37   \n",
              "7985  Was n't sinjin crowing about his plans to take...      114       46   \n",
              "7986  Hi Smallax , welcome to the forum . I did a se...       76      182   \n",
              "\n",
              "      qr_count  q_sum_count  r_sum_count  qr_sum_count  baseline  \\\n",
              "0           18           17            1            18  1.000000   \n",
              "1           72            8           14            22  0.387356   \n",
              "2          537           70           45           115  0.222302   \n",
              "3          570           43           45            88  0.160286   \n",
              "4            7            5            2             7  1.000000   \n",
              "...        ...          ...          ...           ...       ...   \n",
              "7982       280           29           17            46  0.177832   \n",
              "7983       155           25           21            46  0.326716   \n",
              "7984        76           18           26            44  0.579605   \n",
              "7985       160           16           14            30  0.216009   \n",
              "7986       258           19           23            42  0.186497   \n",
              "\n",
              "      baseline category  \n",
              "0                   1.0  \n",
              "1                   0.4  \n",
              "2                   0.3  \n",
              "3                   0.2  \n",
              "4                   1.0  \n",
              "...                 ...  \n",
              "7982                0.2  \n",
              "7983                0.4  \n",
              "7984                0.6  \n",
              "7985                0.3  \n",
              "7986                0.2  \n",
              "\n",
              "[7987 rows x 14 columns]"
            ],
            "text/html": [
              "\n",
              "  <div id=\"df-6bfe7e2b-f72f-4b6a-9f7b-8dd8eb1844c3\">\n",
              "    <div class=\"colab-df-container\">\n",
              "      <div>\n",
              "<style scoped>\n",
              "    .dataframe tbody tr th:only-of-type {\n",
              "        vertical-align: middle;\n",
              "    }\n",
              "\n",
              "    .dataframe tbody tr th {\n",
              "        vertical-align: top;\n",
              "    }\n",
              "\n",
              "    .dataframe thead th {\n",
              "        text-align: right;\n",
              "    }\n",
              "</style>\n",
              "<table border=\"1\" class=\"dataframe\">\n",
              "  <thead>\n",
              "    <tr style=\"text-align: right;\">\n",
              "      <th></th>\n",
              "      <th>id</th>\n",
              "      <th>q</th>\n",
              "      <th>r</th>\n",
              "      <th>s</th>\n",
              "      <th>q'</th>\n",
              "      <th>r'</th>\n",
              "      <th>q_count</th>\n",
              "      <th>r_count</th>\n",
              "      <th>qr_count</th>\n",
              "      <th>q_sum_count</th>\n",
              "      <th>r_sum_count</th>\n",
              "      <th>qr_sum_count</th>\n",
              "      <th>baseline</th>\n",
              "      <th>baseline category</th>\n",
              "    </tr>\n",
              "  </thead>\n",
              "  <tbody>\n",
              "    <tr>\n",
              "      <th>0</th>\n",
              "      <td>8</td>\n",
              "      <td>It can go both ways . We all doubt . It is wha...</td>\n",
              "      <td>True .</td>\n",
              "      <td>AGREE</td>\n",
              "      <td>It can go both ways . We all doubt . It is wha...</td>\n",
              "      <td>True</td>\n",
              "      <td>17</td>\n",
              "      <td>1</td>\n",
              "      <td>18</td>\n",
              "      <td>17</td>\n",
              "      <td>1</td>\n",
              "      <td>18</td>\n",
              "      <td>1.000000</td>\n",
              "      <td>1.0</td>\n",
              "    </tr>\n",
              "    <tr>\n",
              "      <th>1</th>\n",
              "      <td>9</td>\n",
              "      <td>once again , you seem to support the killing o...</td>\n",
              "      <td>based on the idea that people are dispensible ...</td>\n",
              "      <td>AGREE</td>\n",
              "      <td>seem to support the killing of certain people</td>\n",
              "      <td>based on the idea that people are dispensible ...</td>\n",
              "      <td>14</td>\n",
              "      <td>58</td>\n",
              "      <td>72</td>\n",
              "      <td>8</td>\n",
              "      <td>14</td>\n",
              "      <td>22</td>\n",
              "      <td>0.387356</td>\n",
              "      <td>0.4</td>\n",
              "    </tr>\n",
              "    <tr>\n",
              "      <th>2</th>\n",
              "      <td>10</td>\n",
              "      <td>I personly would not condone an abortion , how...</td>\n",
              "      <td>This is a pretty touchy issue , and I agree wi...</td>\n",
              "      <td>AGREE</td>\n",
              "      <td>personly would not condone an abortion , howev...</td>\n",
              "      <td>This is a pretty touchy issue , and I agree wi...</td>\n",
              "      <td>244</td>\n",
              "      <td>293</td>\n",
              "      <td>537</td>\n",
              "      <td>70</td>\n",
              "      <td>45</td>\n",
              "      <td>115</td>\n",
              "      <td>0.222302</td>\n",
              "      <td>0.3</td>\n",
              "    </tr>\n",
              "    <tr>\n",
              "      <th>3</th>\n",
              "      <td>11</td>\n",
              "      <td>First , there is no `` us `` on your part rega...</td>\n",
              "      <td>Ah , I see . Your reasons are secret reasons ....</td>\n",
              "      <td>DISAGREE</td>\n",
              "      <td>You should be giving justification for wanting...</td>\n",
              "      <td>Your reasons are secret reasons . On a debate ...</td>\n",
              "      <td>210</td>\n",
              "      <td>360</td>\n",
              "      <td>570</td>\n",
              "      <td>43</td>\n",
              "      <td>45</td>\n",
              "      <td>88</td>\n",
              "      <td>0.160286</td>\n",
              "      <td>0.2</td>\n",
              "    </tr>\n",
              "    <tr>\n",
              "      <th>4</th>\n",
              "      <td>12</td>\n",
              "      <td>alright how did evolution start ?</td>\n",
              "      <td>See above</td>\n",
              "      <td>DISAGREE</td>\n",
              "      <td>alright how did evolution start ?</td>\n",
              "      <td>See above</td>\n",
              "      <td>5</td>\n",
              "      <td>2</td>\n",
              "      <td>7</td>\n",
              "      <td>5</td>\n",
              "      <td>2</td>\n",
              "      <td>7</td>\n",
              "      <td>1.000000</td>\n",
              "      <td>1.0</td>\n",
              "    </tr>\n",
              "    <tr>\n",
              "      <th>...</th>\n",
              "      <td>...</td>\n",
              "      <td>...</td>\n",
              "      <td>...</td>\n",
              "      <td>...</td>\n",
              "      <td>...</td>\n",
              "      <td>...</td>\n",
              "      <td>...</td>\n",
              "      <td>...</td>\n",
              "      <td>...</td>\n",
              "      <td>...</td>\n",
              "      <td>...</td>\n",
              "      <td>...</td>\n",
              "      <td>...</td>\n",
              "      <td>...</td>\n",
              "    </tr>\n",
              "    <tr>\n",
              "      <th>7982</th>\n",
              "      <td>9999</td>\n",
              "      <td>The ID movements form of ID states that there ...</td>\n",
              "      <td>That , of course , is the logical fallacy know...</td>\n",
              "      <td>DISAGREE</td>\n",
              "      <td>The ID movements form of ID states that there ...</td>\n",
              "      <td>of course , is the logical fallacy known as 'P...</td>\n",
              "      <td>129</td>\n",
              "      <td>151</td>\n",
              "      <td>280</td>\n",
              "      <td>29</td>\n",
              "      <td>17</td>\n",
              "      <td>46</td>\n",
              "      <td>0.177832</td>\n",
              "      <td>0.2</td>\n",
              "    </tr>\n",
              "    <tr>\n",
              "      <th>7983</th>\n",
              "      <td>10000</td>\n",
              "      <td>For me , it would therefore have made no diffe...</td>\n",
              "      <td>It logically follows from the moral foundation...</td>\n",
              "      <td>AGREE</td>\n",
              "      <td>it would therefore have made no difference if ...</td>\n",
              "      <td>It logically follows from the moral foundation...</td>\n",
              "      <td>101</td>\n",
              "      <td>54</td>\n",
              "      <td>155</td>\n",
              "      <td>25</td>\n",
              "      <td>21</td>\n",
              "      <td>46</td>\n",
              "      <td>0.326716</td>\n",
              "      <td>0.4</td>\n",
              "    </tr>\n",
              "    <tr>\n",
              "      <th>7984</th>\n",
              "      <td>10001</td>\n",
              "      <td>good thing this argument has never been done !...</td>\n",
              "      <td>And teen sex does n't , by the very nature of ...</td>\n",
              "      <td>DISAGREE</td>\n",
              "      <td>good thing this argument has never been done !...</td>\n",
              "      <td>And teen sex does n't , by the very nature of ...</td>\n",
              "      <td>39</td>\n",
              "      <td>37</td>\n",
              "      <td>76</td>\n",
              "      <td>18</td>\n",
              "      <td>26</td>\n",
              "      <td>44</td>\n",
              "      <td>0.579605</td>\n",
              "      <td>0.6</td>\n",
              "    </tr>\n",
              "    <tr>\n",
              "      <th>7985</th>\n",
              "      <td>10002</td>\n",
              "      <td>I know one thing , anything that happens , pol...</td>\n",
              "      <td>Was n't sinjin crowing about his plans to take...</td>\n",
              "      <td>DISAGREE</td>\n",
              "      <td>I know one thing , anything that happens , pol...</td>\n",
              "      <td>Was n't sinjin crowing about his plans to take...</td>\n",
              "      <td>114</td>\n",
              "      <td>46</td>\n",
              "      <td>160</td>\n",
              "      <td>16</td>\n",
              "      <td>14</td>\n",
              "      <td>30</td>\n",
              "      <td>0.216009</td>\n",
              "      <td>0.3</td>\n",
              "    </tr>\n",
              "    <tr>\n",
              "      <th>7986</th>\n",
              "      <td>10003</td>\n",
              "      <td>I enjoy Botany more than most things and I hav...</td>\n",
              "      <td>Hi Smallax , welcome to the forum . I did a se...</td>\n",
              "      <td>AGREE</td>\n",
              "      <td>I enjoy Botany more than most things and I hav...</td>\n",
              "      <td>Hi Smallax , welcome to the forum . I did a se...</td>\n",
              "      <td>76</td>\n",
              "      <td>182</td>\n",
              "      <td>258</td>\n",
              "      <td>19</td>\n",
              "      <td>23</td>\n",
              "      <td>42</td>\n",
              "      <td>0.186497</td>\n",
              "      <td>0.2</td>\n",
              "    </tr>\n",
              "  </tbody>\n",
              "</table>\n",
              "<p>7987 rows × 14 columns</p>\n",
              "</div>\n",
              "      <button class=\"colab-df-convert\" onclick=\"convertToInteractive('df-6bfe7e2b-f72f-4b6a-9f7b-8dd8eb1844c3')\"\n",
              "              title=\"Convert this dataframe to an interactive table.\"\n",
              "              style=\"display:none;\">\n",
              "        \n",
              "  <svg xmlns=\"http://www.w3.org/2000/svg\" height=\"24px\"viewBox=\"0 0 24 24\"\n",
              "       width=\"24px\">\n",
              "    <path d=\"M0 0h24v24H0V0z\" fill=\"none\"/>\n",
              "    <path d=\"M18.56 5.44l.94 2.06.94-2.06 2.06-.94-2.06-.94-.94-2.06-.94 2.06-2.06.94zm-11 1L8.5 8.5l.94-2.06 2.06-.94-2.06-.94L8.5 2.5l-.94 2.06-2.06.94zm10 10l.94 2.06.94-2.06 2.06-.94-2.06-.94-.94-2.06-.94 2.06-2.06.94z\"/><path d=\"M17.41 7.96l-1.37-1.37c-.4-.4-.92-.59-1.43-.59-.52 0-1.04.2-1.43.59L10.3 9.45l-7.72 7.72c-.78.78-.78 2.05 0 2.83L4 21.41c.39.39.9.59 1.41.59.51 0 1.02-.2 1.41-.59l7.78-7.78 2.81-2.81c.8-.78.8-2.07 0-2.86zM5.41 20L4 18.59l7.72-7.72 1.47 1.35L5.41 20z\"/>\n",
              "  </svg>\n",
              "      </button>\n",
              "      \n",
              "  <style>\n",
              "    .colab-df-container {\n",
              "      display:flex;\n",
              "      flex-wrap:wrap;\n",
              "      gap: 12px;\n",
              "    }\n",
              "\n",
              "    .colab-df-convert {\n",
              "      background-color: #E8F0FE;\n",
              "      border: none;\n",
              "      border-radius: 50%;\n",
              "      cursor: pointer;\n",
              "      display: none;\n",
              "      fill: #1967D2;\n",
              "      height: 32px;\n",
              "      padding: 0 0 0 0;\n",
              "      width: 32px;\n",
              "    }\n",
              "\n",
              "    .colab-df-convert:hover {\n",
              "      background-color: #E2EBFA;\n",
              "      box-shadow: 0px 1px 2px rgba(60, 64, 67, 0.3), 0px 1px 3px 1px rgba(60, 64, 67, 0.15);\n",
              "      fill: #174EA6;\n",
              "    }\n",
              "\n",
              "    [theme=dark] .colab-df-convert {\n",
              "      background-color: #3B4455;\n",
              "      fill: #D2E3FC;\n",
              "    }\n",
              "\n",
              "    [theme=dark] .colab-df-convert:hover {\n",
              "      background-color: #434B5C;\n",
              "      box-shadow: 0px 1px 3px 1px rgba(0, 0, 0, 0.15);\n",
              "      filter: drop-shadow(0px 1px 2px rgba(0, 0, 0, 0.3));\n",
              "      fill: #FFFFFF;\n",
              "    }\n",
              "  </style>\n",
              "\n",
              "      <script>\n",
              "        const buttonEl =\n",
              "          document.querySelector('#df-6bfe7e2b-f72f-4b6a-9f7b-8dd8eb1844c3 button.colab-df-convert');\n",
              "        buttonEl.style.display =\n",
              "          google.colab.kernel.accessAllowed ? 'block' : 'none';\n",
              "\n",
              "        async function convertToInteractive(key) {\n",
              "          const element = document.querySelector('#df-6bfe7e2b-f72f-4b6a-9f7b-8dd8eb1844c3');\n",
              "          const dataTable =\n",
              "            await google.colab.kernel.invokeFunction('convertToInteractive',\n",
              "                                                     [key], {});\n",
              "          if (!dataTable) return;\n",
              "\n",
              "          const docLinkHtml = 'Like what you see? Visit the ' +\n",
              "            '<a target=\"_blank\" href=https://colab.research.google.com/notebooks/data_table.ipynb>data table notebook</a>'\n",
              "            + ' to learn more about interactive tables.';\n",
              "          element.innerHTML = '';\n",
              "          dataTable['output_type'] = 'display_data';\n",
              "          await google.colab.output.renderOutput(dataTable, element);\n",
              "          const docLink = document.createElement('div');\n",
              "          docLink.innerHTML = docLinkHtml;\n",
              "          element.appendChild(docLink);\n",
              "        }\n",
              "      </script>\n",
              "    </div>\n",
              "  </div>\n",
              "  "
            ]
          },
          "metadata": {},
          "execution_count": 35
        }
      ]
    },
    {
      "cell_type": "code",
      "source": [
        "train['baseline category'].hist()\n",
        "plt.show()"
      ],
      "metadata": {
        "colab": {
          "base_uri": "https://localhost:8080/",
          "height": 265
        },
        "id": "G04vT6-Xg-XG",
        "outputId": "01a373cc-26a5-4b0a-bd10-db074ca17f23"
      },
      "execution_count": null,
      "outputs": [
        {
          "output_type": "display_data",
          "data": {
            "text/plain": [
              "<Figure size 432x288 with 1 Axes>"
            ],
            "image/png": "[encoded data removed]"
          },
          "metadata": {
            "needs_background": "light"
          }
        }
      ]
    },
    {
      "cell_type": "markdown",
      "source": [
        "## **EDA**"
      ],
      "metadata": {
        "id": "RnzvZpiZAeD1"
      }
    },
    {
      "cell_type": "markdown",
      "source": [
        "### **Testing Set**"
      ],
      "metadata": {
        "id": "B4KFMNVhA1Fb"
      }
    },
    {
      "cell_type": "markdown",
      "source": [
        "#### (1) Split to \"AGREE\" and \"DISAGREE\""
      ],
      "metadata": {
        "id": "pVp-4Wi5HGNz"
      }
    },
    {
      "cell_type": "code",
      "source": [
        "test_agree = test_raw[test_raw['s'] == \"AGREE\"].copy()\n",
        "test_disagree = test_raw[test_raw['s'] == \"DISAGREE\"].copy()\n",
        "print(test_agree.shape)\n",
        "print(test_disagree.shape)"
      ],
      "metadata": {
        "colab": {
          "base_uri": "https://localhost:8080/"
        },
        "outputId": "6764d6aa-f2d5-4039-d149-c69b95a1e1f0",
        "id": "9RZIZ3BmHGNz"
      },
      "execution_count": null,
      "outputs": [
        {
          "output_type": "stream",
          "name": "stdout",
          "text": [
            "(367, 7)\n",
            "(1649, 7)\n"
          ]
        }
      ]
    },
    {
      "cell_type": "markdown",
      "metadata": {
        "id": "ziCjsjQ0ciU-"
      },
      "source": [
        "#### (2) Word count distribution"
      ]
    },
    {
      "cell_type": "markdown",
      "source": [
        "##### AGREE"
      ],
      "metadata": {
        "id": "q0TqdJyeJ2C1"
      }
    },
    {
      "cell_type": "code",
      "execution_count": null,
      "metadata": {
        "colab": {
          "base_uri": "https://localhost:8080/"
        },
        "id": "wbBffz4cLOsP",
        "outputId": "9386d68d-f3eb-485b-935a-4c254a804750"
      },
      "outputs": [
        {
          "output_type": "execute_result",
          "data": {
            "text/plain": [
              "                id     q_count     r_count    qr_count\n",
              "count   367.000000  367.000000  367.000000  367.000000\n",
              "mean   4737.659401   52.765668   56.079019  108.844687\n",
              "std    2796.688491   77.272066   71.348002  110.504656\n",
              "min       5.000000    3.000000    2.000000    7.000000\n",
              "25%    2563.500000   17.000000   15.000000   42.500000\n",
              "50%    4475.000000   28.000000   34.000000   66.000000\n",
              "75%    6764.000000   55.000000   62.000000  132.000000\n",
              "max    9850.000000  713.000000  630.000000  729.000000"
            ],
            "text/html": [
              "\n",
              "  <div id=\"df-0ea003c0-7d3c-4197-9197-5f49a66e2439\">\n",
              "    <div class=\"colab-df-container\">\n",
              "      <div>\n",
              "<style scoped>\n",
              "    .dataframe tbody tr th:only-of-type {\n",
              "        vertical-align: middle;\n",
              "    }\n",
              "\n",
              "    .dataframe tbody tr th {\n",
              "        vertical-align: top;\n",
              "    }\n",
              "\n",
              "    .dataframe thead th {\n",
              "        text-align: right;\n",
              "    }\n",
              "</style>\n",
              "<table border=\"1\" class=\"dataframe\">\n",
              "  <thead>\n",
              "    <tr style=\"text-align: right;\">\n",
              "      <th></th>\n",
              "      <th>id</th>\n",
              "      <th>q_count</th>\n",
              "      <th>r_count</th>\n",
              "      <th>qr_count</th>\n",
              "    </tr>\n",
              "  </thead>\n",
              "  <tbody>\n",
              "    <tr>\n",
              "      <th>count</th>\n",
              "      <td>367.000000</td>\n",
              "      <td>367.000000</td>\n",
              "      <td>367.000000</td>\n",
              "      <td>367.000000</td>\n",
              "    </tr>\n",
              "    <tr>\n",
              "      <th>mean</th>\n",
              "      <td>4737.659401</td>\n",
              "      <td>52.765668</td>\n",
              "      <td>56.079019</td>\n",
              "      <td>108.844687</td>\n",
              "    </tr>\n",
              "    <tr>\n",
              "      <th>std</th>\n",
              "      <td>2796.688491</td>\n",
              "      <td>77.272066</td>\n",
              "      <td>71.348002</td>\n",
              "      <td>110.504656</td>\n",
              "    </tr>\n",
              "    <tr>\n",
              "      <th>min</th>\n",
              "      <td>5.000000</td>\n",
              "      <td>3.000000</td>\n",
              "      <td>2.000000</td>\n",
              "      <td>7.000000</td>\n",
              "    </tr>\n",
              "    <tr>\n",
              "      <th>25%</th>\n",
              "      <td>2563.500000</td>\n",
              "      <td>17.000000</td>\n",
              "      <td>15.000000</td>\n",
              "      <td>42.500000</td>\n",
              "    </tr>\n",
              "    <tr>\n",
              "      <th>50%</th>\n",
              "      <td>4475.000000</td>\n",
              "      <td>28.000000</td>\n",
              "      <td>34.000000</td>\n",
              "      <td>66.000000</td>\n",
              "    </tr>\n",
              "    <tr>\n",
              "      <th>75%</th>\n",
              "      <td>6764.000000</td>\n",
              "      <td>55.000000</td>\n",
              "      <td>62.000000</td>\n",
              "      <td>132.000000</td>\n",
              "    </tr>\n",
              "    <tr>\n",
              "      <th>max</th>\n",
              "      <td>9850.000000</td>\n",
              "      <td>713.000000</td>\n",
              "      <td>630.000000</td>\n",
              "      <td>729.000000</td>\n",
              "    </tr>\n",
              "  </tbody>\n",
              "</table>\n",
              "</div>\n",
              "      <button class=\"colab-df-convert\" onclick=\"convertToInteractive('df-0ea003c0-7d3c-4197-9197-5f49a66e2439')\"\n",
              "              title=\"Convert this dataframe to an interactive table.\"\n",
              "              style=\"display:none;\">\n",
              "        \n",
              "  <svg xmlns=\"http://www.w3.org/2000/svg\" height=\"24px\"viewBox=\"0 0 24 24\"\n",
              "       width=\"24px\">\n",
              "    <path d=\"M0 0h24v24H0V0z\" fill=\"none\"/>\n",
              "    <path d=\"M18.56 5.44l.94 2.06.94-2.06 2.06-.94-2.06-.94-.94-2.06-.94 2.06-2.06.94zm-11 1L8.5 8.5l.94-2.06 2.06-.94-2.06-.94L8.5 2.5l-.94 2.06-2.06.94zm10 10l.94 2.06.94-2.06 2.06-.94-2.06-.94-.94-2.06-.94 2.06-2.06.94z\"/><path d=\"M17.41 7.96l-1.37-1.37c-.4-.4-.92-.59-1.43-.59-.52 0-1.04.2-1.43.59L10.3 9.45l-7.72 7.72c-.78.78-.78 2.05 0 2.83L4 21.41c.39.39.9.59 1.41.59.51 0 1.02-.2 1.41-.59l7.78-7.78 2.81-2.81c.8-.78.8-2.07 0-2.86zM5.41 20L4 18.59l7.72-7.72 1.47 1.35L5.41 20z\"/>\n",
              "  </svg>\n",
              "      </button>\n",
              "      \n",
              "  <style>\n",
              "    .colab-df-container {\n",
              "      display:flex;\n",
              "      flex-wrap:wrap;\n",
              "      gap: 12px;\n",
              "    }\n",
              "\n",
              "    .colab-df-convert {\n",
              "      background-color: #E8F0FE;\n",
              "      border: none;\n",
              "      border-radius: 50%;\n",
              "      cursor: pointer;\n",
              "      display: none;\n",
              "      fill: #1967D2;\n",
              "      height: 32px;\n",
              "      padding: 0 0 0 0;\n",
              "      width: 32px;\n",
              "    }\n",
              "\n",
              "    .colab-df-convert:hover {\n",
              "      background-color: #E2EBFA;\n",
              "      box-shadow: 0px 1px 2px rgba(60, 64, 67, 0.3), 0px 1px 3px 1px rgba(60, 64, 67, 0.15);\n",
              "      fill: #174EA6;\n",
              "    }\n",
              "\n",
              "    [theme=dark] .colab-df-convert {\n",
              "      background-color: #3B4455;\n",
              "      fill: #D2E3FC;\n",
              "    }\n",
              "\n",
              "    [theme=dark] .colab-df-convert:hover {\n",
              "      background-color: #434B5C;\n",
              "      box-shadow: 0px 1px 3px 1px rgba(0, 0, 0, 0.15);\n",
              "      filter: drop-shadow(0px 1px 2px rgba(0, 0, 0, 0.3));\n",
              "      fill: #FFFFFF;\n",
              "    }\n",
              "  </style>\n",
              "\n",
              "      <script>\n",
              "        const buttonEl =\n",
              "          document.querySelector('#df-0ea003c0-7d3c-4197-9197-5f49a66e2439 button.colab-df-convert');\n",
              "        buttonEl.style.display =\n",
              "          google.colab.kernel.accessAllowed ? 'block' : 'none';\n",
              "\n",
              "        async function convertToInteractive(key) {\n",
              "          const element = document.querySelector('#df-0ea003c0-7d3c-4197-9197-5f49a66e2439');\n",
              "          const dataTable =\n",
              "            await google.colab.kernel.invokeFunction('convertToInteractive',\n",
              "                                                     [key], {});\n",
              "          if (!dataTable) return;\n",
              "\n",
              "          const docLinkHtml = 'Like what you see? Visit the ' +\n",
              "            '<a target=\"_blank\" href=https://colab.research.google.com/notebooks/data_table.ipynb>data table notebook</a>'\n",
              "            + ' to learn more about interactive tables.';\n",
              "          element.innerHTML = '';\n",
              "          dataTable['output_type'] = 'display_data';\n",
              "          await google.colab.output.renderOutput(dataTable, element);\n",
              "          const docLink = document.createElement('div');\n",
              "          docLink.innerHTML = docLinkHtml;\n",
              "          element.appendChild(docLink);\n",
              "        }\n",
              "      </script>\n",
              "    </div>\n",
              "  </div>\n",
              "  "
            ]
          },
          "metadata": {},
          "execution_count": 37
        }
      ],
      "source": [
        "test_agree.describe()"
      ]
    },
    {
      "cell_type": "code",
      "source": [
        "def testWordCountDist(df):\n",
        "    fig, (ax0, ax1) = plt.subplots(nrows=1, ncols=2, figsize=(10, 4))\n",
        "\n",
        "    ax0.hist(df[\"q_count\"], bins=30)\n",
        "    ax0.set_title('Word count distribution of q')\n",
        "\n",
        "    ax1.hist(df[\"r_count\"], bins=25)\n",
        "    ax1.set_title('Word count distribution of r')\n",
        "\n",
        "    plt.show()\n",
        "\n",
        "testWordCountDist(test_agree)"
      ],
      "metadata": {
        "colab": {
          "base_uri": "https://localhost:8080/"
        },
        "id": "_pbNeHc3HjwP",
        "outputId": "e1f931cc-2d4f-47b1-ca79-5fb73571ceca"
      },
      "execution_count": null,
      "outputs": [
        {
          "output_type": "display_data",
          "data": {
            "text/plain": [
              "<Figure size 720x288 with 2 Axes>"
            ],
            "image/png": "[encoded data removed]"
          },
          "metadata": {
            "needs_background": "light"
          }
        }
      ]
    },
    {
      "cell_type": "markdown",
      "source": [
        "##### DISAGREE"
      ],
      "metadata": {
        "id": "VXTCb24-KB0Z"
      }
    },
    {
      "cell_type": "code",
      "execution_count": null,
      "metadata": {
        "colab": {
          "base_uri": "https://localhost:8080/"
        },
        "outputId": "eb49f8b9-cded-456b-c84b-4734e6cbe18d",
        "id": "8A9MkkVZKB0a"
      },
      "outputs": [
        {
          "output_type": "execute_result",
          "data": {
            "text/plain": [
              "                id      q_count      r_count     qr_count\n",
              "count  1649.000000  1649.000000  1649.000000  1649.000000\n",
              "mean   4982.532444    49.651304    57.857489   107.508793\n",
              "std    2715.164220    68.268541    74.793005   109.795784\n",
              "min       1.000000     3.000000     1.000000     5.000000\n",
              "25%    2869.000000    16.000000    15.000000    43.000000\n",
              "50%    4923.000000    29.000000    34.000000    70.000000\n",
              "75%    7095.000000    55.000000    66.000000   124.000000\n",
              "max    9856.000000   713.000000   630.000000   729.000000"
            ],
            "text/html": [
              "\n",
              "  <div id=\"df-7b067feb-4b15-4717-b54d-b4e70b606a55\">\n",
              "    <div class=\"colab-df-container\">\n",
              "      <div>\n",
              "<style scoped>\n",
              "    .dataframe tbody tr th:only-of-type {\n",
              "        vertical-align: middle;\n",
              "    }\n",
              "\n",
              "    .dataframe tbody tr th {\n",
              "        vertical-align: top;\n",
              "    }\n",
              "\n",
              "    .dataframe thead th {\n",
              "        text-align: right;\n",
              "    }\n",
              "</style>\n",
              "<table border=\"1\" class=\"dataframe\">\n",
              "  <thead>\n",
              "    <tr style=\"text-align: right;\">\n",
              "      <th></th>\n",
              "      <th>id</th>\n",
              "      <th>q_count</th>\n",
              "      <th>r_count</th>\n",
              "      <th>qr_count</th>\n",
              "    </tr>\n",
              "  </thead>\n",
              "  <tbody>\n",
              "    <tr>\n",
              "      <th>count</th>\n",
              "      <td>1649.000000</td>\n",
              "      <td>1649.000000</td>\n",
              "      <td>1649.000000</td>\n",
              "      <td>1649.000000</td>\n",
              "    </tr>\n",
              "    <tr>\n",
              "      <th>mean</th>\n",
              "      <td>4982.532444</td>\n",
              "      <td>49.651304</td>\n",
              "      <td>57.857489</td>\n",
              "      <td>107.508793</td>\n",
              "    </tr>\n",
              "    <tr>\n",
              "      <th>std</th>\n",
              "      <td>2715.164220</td>\n",
              "      <td>68.268541</td>\n",
              "      <td>74.793005</td>\n",
              "      <td>109.795784</td>\n",
              "    </tr>\n",
              "    <tr>\n",
              "      <th>min</th>\n",
              "      <td>1.000000</td>\n",
              "      <td>3.000000</td>\n",
              "      <td>1.000000</td>\n",
              "      <td>5.000000</td>\n",
              "    </tr>\n",
              "    <tr>\n",
              "      <th>25%</th>\n",
              "      <td>2869.000000</td>\n",
              "      <td>16.000000</td>\n",
              "      <td>15.000000</td>\n",
              "      <td>43.000000</td>\n",
              "    </tr>\n",
              "    <tr>\n",
              "      <th>50%</th>\n",
              "      <td>4923.000000</td>\n",
              "      <td>29.000000</td>\n",
              "      <td>34.000000</td>\n",
              "      <td>70.000000</td>\n",
              "    </tr>\n",
              "    <tr>\n",
              "      <th>75%</th>\n",
              "      <td>7095.000000</td>\n",
              "      <td>55.000000</td>\n",
              "      <td>66.000000</td>\n",
              "      <td>124.000000</td>\n",
              "    </tr>\n",
              "    <tr>\n",
              "      <th>max</th>\n",
              "      <td>9856.000000</td>\n",
              "      <td>713.000000</td>\n",
              "      <td>630.000000</td>\n",
              "      <td>729.000000</td>\n",
              "    </tr>\n",
              "  </tbody>\n",
              "</table>\n",
              "</div>\n",
              "      <button class=\"colab-df-convert\" onclick=\"convertToInteractive('df-7b067feb-4b15-4717-b54d-b4e70b606a55')\"\n",
              "              title=\"Convert this dataframe to an interactive table.\"\n",
              "              style=\"display:none;\">\n",
              "        \n",
              "  <svg xmlns=\"http://www.w3.org/2000/svg\" height=\"24px\"viewBox=\"0 0 24 24\"\n",
              "       width=\"24px\">\n",
              "    <path d=\"M0 0h24v24H0V0z\" fill=\"none\"/>\n",
              "    <path d=\"M18.56 5.44l.94 2.06.94-2.06 2.06-.94-2.06-.94-.94-2.06-.94 2.06-2.06.94zm-11 1L8.5 8.5l.94-2.06 2.06-.94-2.06-.94L8.5 2.5l-.94 2.06-2.06.94zm10 10l.94 2.06.94-2.06 2.06-.94-2.06-.94-.94-2.06-.94 2.06-2.06.94z\"/><path d=\"M17.41 7.96l-1.37-1.37c-.4-.4-.92-.59-1.43-.59-.52 0-1.04.2-1.43.59L10.3 9.45l-7.72 7.72c-.78.78-.78 2.05 0 2.83L4 21.41c.39.39.9.59 1.41.59.51 0 1.02-.2 1.41-.59l7.78-7.78 2.81-2.81c.8-.78.8-2.07 0-2.86zM5.41 20L4 18.59l7.72-7.72 1.47 1.35L5.41 20z\"/>\n",
              "  </svg>\n",
              "      </button>\n",
              "      \n",
              "  <style>\n",
              "    .colab-df-container {\n",
              "      display:flex;\n",
              "      flex-wrap:wrap;\n",
              "      gap: 12px;\n",
              "    }\n",
              "\n",
              "    .colab-df-convert {\n",
              "      background-color: #E8F0FE;\n",
              "      border: none;\n",
              "      border-radius: 50%;\n",
              "      cursor: pointer;\n",
              "      display: none;\n",
              "      fill: #1967D2;\n",
              "      height: 32px;\n",
              "      padding: 0 0 0 0;\n",
              "      width: 32px;\n",
              "    }\n",
              "\n",
              "    .colab-df-convert:hover {\n",
              "      background-color: #E2EBFA;\n",
              "      box-shadow: 0px 1px 2px rgba(60, 64, 67, 0.3), 0px 1px 3px 1px rgba(60, 64, 67, 0.15);\n",
              "      fill: #174EA6;\n",
              "    }\n",
              "\n",
              "    [theme=dark] .colab-df-convert {\n",
              "      background-color: #3B4455;\n",
              "      fill: #D2E3FC;\n",
              "    }\n",
              "\n",
              "    [theme=dark] .colab-df-convert:hover {\n",
              "      background-color: #434B5C;\n",
              "      box-shadow: 0px 1px 3px 1px rgba(0, 0, 0, 0.15);\n",
              "      filter: drop-shadow(0px 1px 2px rgba(0, 0, 0, 0.3));\n",
              "      fill: #FFFFFF;\n",
              "    }\n",
              "  </style>\n",
              "\n",
              "      <script>\n",
              "        const buttonEl =\n",
              "          document.querySelector('#df-7b067feb-4b15-4717-b54d-b4e70b606a55 button.colab-df-convert');\n",
              "        buttonEl.style.display =\n",
              "          google.colab.kernel.accessAllowed ? 'block' : 'none';\n",
              "\n",
              "        async function convertToInteractive(key) {\n",
              "          const element = document.querySelector('#df-7b067feb-4b15-4717-b54d-b4e70b606a55');\n",
              "          const dataTable =\n",
              "            await google.colab.kernel.invokeFunction('convertToInteractive',\n",
              "                                                     [key], {});\n",
              "          if (!dataTable) return;\n",
              "\n",
              "          const docLinkHtml = 'Like what you see? Visit the ' +\n",
              "            '<a target=\"_blank\" href=https://colab.research.google.com/notebooks/data_table.ipynb>data table notebook</a>'\n",
              "            + ' to learn more about interactive tables.';\n",
              "          element.innerHTML = '';\n",
              "          dataTable['output_type'] = 'display_data';\n",
              "          await google.colab.output.renderOutput(dataTable, element);\n",
              "          const docLink = document.createElement('div');\n",
              "          docLink.innerHTML = docLinkHtml;\n",
              "          element.appendChild(docLink);\n",
              "        }\n",
              "      </script>\n",
              "    </div>\n",
              "  </div>\n",
              "  "
            ]
          },
          "metadata": {},
          "execution_count": 39
        }
      ],
      "source": [
        "test_disagree.describe()"
      ]
    },
    {
      "cell_type": "code",
      "source": [
        "testWordCountDist(test_disagree)"
      ],
      "metadata": {
        "colab": {
          "base_uri": "https://localhost:8080/"
        },
        "outputId": "cf700ab6-87ac-433e-896a-4dcd6c38c90f",
        "id": "BFYCS7w7KB0a"
      },
      "execution_count": null,
      "outputs": [
        {
          "output_type": "display_data",
          "data": {
            "text/plain": [
              "<Figure size 720x288 with 2 Axes>"
            ],
            "image/png": "[encoded data removed]"
          },
          "metadata": {
            "needs_background": "light"
          }
        }
      ]
    },
    {
      "cell_type": "markdown",
      "metadata": {
        "id": "CFD6sUB6OVhm"
      },
      "source": [
        "#### (3) String length distribution"
      ]
    },
    {
      "cell_type": "code",
      "execution_count": null,
      "metadata": {
        "id": "Tw4Z6O4jOtVG"
      },
      "outputs": [],
      "source": [
        "# test_raw['q_len'] = test_raw['q'].str.len()\n",
        "# test_raw['r_len'] = test_raw['r'].str.len()\n",
        "# test_raw"
      ]
    },
    {
      "cell_type": "code",
      "execution_count": null,
      "metadata": {
        "id": "IEfKtadpOVvq"
      },
      "outputs": [],
      "source": [
        "# String length distribution of q\n",
        "# test_raw[\"q_len\"].hist(bins=15, grid=False)\n",
        "# plt.show()"
      ]
    },
    {
      "cell_type": "code",
      "execution_count": null,
      "metadata": {
        "id": "ktsGlJfVPjZn"
      },
      "outputs": [],
      "source": [
        "# String length distribution of r\n",
        "# test_raw[\"r_len\"].hist(bins=15, grid=False)\n",
        "# plt.show()"
      ]
    },
    {
      "cell_type": "markdown",
      "source": [
        "### **Training Set**"
      ],
      "metadata": {
        "id": "a-hZZdQsAiYe"
      }
    },
    {
      "cell_type": "code",
      "execution_count": null,
      "metadata": {
        "colab": {
          "base_uri": "https://localhost:8080/"
        },
        "id": "DTF-8lIBYP50",
        "outputId": "254e4336-34a3-4971-b1f0-7055ce01d23f"
      },
      "outputs": [
        {
          "output_type": "stream",
          "name": "stdout",
          "text": [
            "q_count > 800:  28\n",
            "r_count > 800:  28\n"
          ]
        }
      ],
      "source": [
        "print(\"q_count > 800: \", len(train[(train.q_count > 800)]))\n",
        "print(\"r_count > 800: \", len(train[(train.r_count > 800)]))"
      ]
    },
    {
      "cell_type": "code",
      "execution_count": null,
      "metadata": {
        "colab": {
          "base_uri": "https://localhost:8080/"
        },
        "id": "pbnc-6ADVuPg",
        "outputId": "b864e2ac-cfd4-4be3-ab41-112ad764666c"
      },
      "outputs": [
        {
          "output_type": "execute_result",
          "data": {
            "text/plain": [
              "(7931, 14)"
            ]
          },
          "metadata": {},
          "execution_count": 46
        }
      ],
      "source": [
        "# Remove data that has more than 800 words\n",
        "train = train[(train.q_count < 800) & (train.r_count < 800)]\n",
        "train.shape"
      ]
    },
    {
      "cell_type": "markdown",
      "source": [
        "#### (1) Split to \"AGREE\" and \"DISAGREE\""
      ],
      "metadata": {
        "id": "Ctw0abBhDRHq"
      }
    },
    {
      "cell_type": "code",
      "source": [
        "train_agree = train[train['s'] == \"AGREE\"].copy()\n",
        "train_disagree = train[train['s'] == \"DISAGREE\"].copy()\n",
        "print(train_agree.shape)\n",
        "print(train_disagree.shape)"
      ],
      "metadata": {
        "colab": {
          "base_uri": "https://localhost:8080/"
        },
        "id": "96a2Bmf2DavV",
        "outputId": "2c378ddf-d37a-4b03-f050-a2b417aea683"
      },
      "execution_count": null,
      "outputs": [
        {
          "output_type": "stream",
          "name": "stdout",
          "text": [
            "(1433, 14)\n",
            "(6498, 14)\n"
          ]
        }
      ]
    },
    {
      "cell_type": "markdown",
      "metadata": {
        "id": "3qMNb73lVMt4"
      },
      "source": [
        "#### (2) Word count distribution"
      ]
    },
    {
      "cell_type": "markdown",
      "source": [
        "##### AGREE"
      ],
      "metadata": {
        "id": "5e0Ek44RE7-u"
      }
    },
    {
      "cell_type": "code",
      "execution_count": null,
      "metadata": {
        "colab": {
          "base_uri": "https://localhost:8080/",
          "height": 382
        },
        "id": "dG74c1iColSR",
        "outputId": "40fdd780-139c-4554-e125-5f856a439fdb"
      },
      "outputs": [
        {
          "output_type": "execute_result",
          "data": {
            "text/plain": [
              "                 id      q_count      r_count     qr_count  q_sum_count  \\\n",
              "count   1433.000000  1433.000000  1433.000000  1433.000000  1433.000000   \n",
              "mean    4869.445220    58.551989    53.958130   112.510119    26.335659   \n",
              "std     2917.079594    81.699435    70.010621   113.339112    23.932569   \n",
              "min        8.000000     1.000000     1.000000     4.000000     0.000000   \n",
              "25%     2385.000000    16.000000    14.000000    40.000000    13.000000   \n",
              "50%     4698.000000    32.000000    30.000000    75.000000    20.000000   \n",
              "75%     7471.000000    67.000000    67.000000   144.000000    32.000000   \n",
              "max    10003.000000   789.000000   636.000000   867.000000   324.000000   \n",
              "\n",
              "       r_sum_count  qr_sum_count     baseline  baseline category  \n",
              "count  1433.000000   1433.000000  1433.000000        1433.000000  \n",
              "mean     23.376832     49.712491     0.696665           0.734822  \n",
              "std      21.736624     35.425344     0.253529           0.240159  \n",
              "min       1.000000      4.000000     0.082616           0.100000  \n",
              "25%      11.000000     29.000000     0.509444           0.600000  \n",
              "50%      18.000000     41.000000     0.705479           0.800000  \n",
              "75%      29.000000     59.000000     0.976636           1.000000  \n",
              "max     271.000000    358.000000     1.000000           1.000000  "
            ],
            "text/html": [
              "\n",
              "  <div id=\"df-2727bd1d-1b25-439c-b9b2-0d2ce2b6bfc9\">\n",
              "    <div class=\"colab-df-container\">\n",
              "      <div>\n",
              "<style scoped>\n",
              "    .dataframe tbody tr th:only-of-type {\n",
              "        vertical-align: middle;\n",
              "    }\n",
              "\n",
              "    .dataframe tbody tr th {\n",
              "        vertical-align: top;\n",
              "    }\n",
              "\n",
              "    .dataframe thead th {\n",
              "        text-align: right;\n",
              "    }\n",
              "</style>\n",
              "<table border=\"1\" class=\"dataframe\">\n",
              "  <thead>\n",
              "    <tr style=\"text-align: right;\">\n",
              "      <th></th>\n",
              "      <th>id</th>\n",
              "      <th>q_count</th>\n",
              "      <th>r_count</th>\n",
              "      <th>qr_count</th>\n",
              "      <th>q_sum_count</th>\n",
              "      <th>r_sum_count</th>\n",
              "      <th>qr_sum_count</th>\n",
              "      <th>baseline</th>\n",
              "      <th>baseline category</th>\n",
              "    </tr>\n",
              "  </thead>\n",
              "  <tbody>\n",
              "    <tr>\n",
              "      <th>count</th>\n",
              "      <td>1433.000000</td>\n",
              "      <td>1433.000000</td>\n",
              "      <td>1433.000000</td>\n",
              "      <td>1433.000000</td>\n",
              "      <td>1433.000000</td>\n",
              "      <td>1433.000000</td>\n",
              "      <td>1433.000000</td>\n",
              "      <td>1433.000000</td>\n",
              "      <td>1433.000000</td>\n",
              "    </tr>\n",
              "    <tr>\n",
              "      <th>mean</th>\n",
              "      <td>4869.445220</td>\n",
              "      <td>58.551989</td>\n",
              "      <td>53.958130</td>\n",
              "      <td>112.510119</td>\n",
              "      <td>26.335659</td>\n",
              "      <td>23.376832</td>\n",
              "      <td>49.712491</td>\n",
              "      <td>0.696665</td>\n",
              "      <td>0.734822</td>\n",
              "    </tr>\n",
              "    <tr>\n",
              "      <th>std</th>\n",
              "      <td>2917.079594</td>\n",
              "      <td>81.699435</td>\n",
              "      <td>70.010621</td>\n",
              "      <td>113.339112</td>\n",
              "      <td>23.932569</td>\n",
              "      <td>21.736624</td>\n",
              "      <td>35.425344</td>\n",
              "      <td>0.253529</td>\n",
              "      <td>0.240159</td>\n",
              "    </tr>\n",
              "    <tr>\n",
              "      <th>min</th>\n",
              "      <td>8.000000</td>\n",
              "      <td>1.000000</td>\n",
              "      <td>1.000000</td>\n",
              "      <td>4.000000</td>\n",
              "      <td>0.000000</td>\n",
              "      <td>1.000000</td>\n",
              "      <td>4.000000</td>\n",
              "      <td>0.082616</td>\n",
              "      <td>0.100000</td>\n",
              "    </tr>\n",
              "    <tr>\n",
              "      <th>25%</th>\n",
              "      <td>2385.000000</td>\n",
              "      <td>16.000000</td>\n",
              "      <td>14.000000</td>\n",
              "      <td>40.000000</td>\n",
              "      <td>13.000000</td>\n",
              "      <td>11.000000</td>\n",
              "      <td>29.000000</td>\n",
              "      <td>0.509444</td>\n",
              "      <td>0.600000</td>\n",
              "    </tr>\n",
              "    <tr>\n",
              "      <th>50%</th>\n",
              "      <td>4698.000000</td>\n",
              "      <td>32.000000</td>\n",
              "      <td>30.000000</td>\n",
              "      <td>75.000000</td>\n",
              "      <td>20.000000</td>\n",
              "      <td>18.000000</td>\n",
              "      <td>41.000000</td>\n",
              "      <td>0.705479</td>\n",
              "      <td>0.800000</td>\n",
              "    </tr>\n",
              "    <tr>\n",
              "      <th>75%</th>\n",
              "      <td>7471.000000</td>\n",
              "      <td>67.000000</td>\n",
              "      <td>67.000000</td>\n",
              "      <td>144.000000</td>\n",
              "      <td>32.000000</td>\n",
              "      <td>29.000000</td>\n",
              "      <td>59.000000</td>\n",
              "      <td>0.976636</td>\n",
              "      <td>1.000000</td>\n",
              "    </tr>\n",
              "    <tr>\n",
              "      <th>max</th>\n",
              "      <td>10003.000000</td>\n",
              "      <td>789.000000</td>\n",
              "      <td>636.000000</td>\n",
              "      <td>867.000000</td>\n",
              "      <td>324.000000</td>\n",
              "      <td>271.000000</td>\n",
              "      <td>358.000000</td>\n",
              "      <td>1.000000</td>\n",
              "      <td>1.000000</td>\n",
              "    </tr>\n",
              "  </tbody>\n",
              "</table>\n",
              "</div>\n",
              "      <button class=\"colab-df-convert\" onclick=\"convertToInteractive('df-2727bd1d-1b25-439c-b9b2-0d2ce2b6bfc9')\"\n",
              "              title=\"Convert this dataframe to an interactive table.\"\n",
              "              style=\"display:none;\">\n",
              "        \n",
              "  <svg xmlns=\"http://www.w3.org/2000/svg\" height=\"24px\"viewBox=\"0 0 24 24\"\n",
              "       width=\"24px\">\n",
              "    <path d=\"M0 0h24v24H0V0z\" fill=\"none\"/>\n",
              "    <path d=\"M18.56 5.44l.94 2.06.94-2.06 2.06-.94-2.06-.94-.94-2.06-.94 2.06-2.06.94zm-11 1L8.5 8.5l.94-2.06 2.06-.94-2.06-.94L8.5 2.5l-.94 2.06-2.06.94zm10 10l.94 2.06.94-2.06 2.06-.94-2.06-.94-.94-2.06-.94 2.06-2.06.94z\"/><path d=\"M17.41 7.96l-1.37-1.37c-.4-.4-.92-.59-1.43-.59-.52 0-1.04.2-1.43.59L10.3 9.45l-7.72 7.72c-.78.78-.78 2.05 0 2.83L4 21.41c.39.39.9.59 1.41.59.51 0 1.02-.2 1.41-.59l7.78-7.78 2.81-2.81c.8-.78.8-2.07 0-2.86zM5.41 20L4 18.59l7.72-7.72 1.47 1.35L5.41 20z\"/>\n",
              "  </svg>\n",
              "      </button>\n",
              "      \n",
              "  <style>\n",
              "    .colab-df-container {\n",
              "      display:flex;\n",
              "      flex-wrap:wrap;\n",
              "      gap: 12px;\n",
              "    }\n",
              "\n",
              "    .colab-df-convert {\n",
              "      background-color: #E8F0FE;\n",
              "      border: none;\n",
              "      border-radius: 50%;\n",
              "      cursor: pointer;\n",
              "      display: none;\n",
              "      fill: #1967D2;\n",
              "      height: 32px;\n",
              "      padding: 0 0 0 0;\n",
              "      width: 32px;\n",
              "    }\n",
              "\n",
              "    .colab-df-convert:hover {\n",
              "      background-color: #E2EBFA;\n",
              "      box-shadow: 0px 1px 2px rgba(60, 64, 67, 0.3), 0px 1px 3px 1px rgba(60, 64, 67, 0.15);\n",
              "      fill: #174EA6;\n",
              "    }\n",
              "\n",
              "    [theme=dark] .colab-df-convert {\n",
              "      background-color: #3B4455;\n",
              "      fill: #D2E3FC;\n",
              "    }\n",
              "\n",
              "    [theme=dark] .colab-df-convert:hover {\n",
              "      background-color: #434B5C;\n",
              "      box-shadow: 0px 1px 3px 1px rgba(0, 0, 0, 0.15);\n",
              "      filter: drop-shadow(0px 1px 2px rgba(0, 0, 0, 0.3));\n",
              "      fill: #FFFFFF;\n",
              "    }\n",
              "  </style>\n",
              "\n",
              "      <script>\n",
              "        const buttonEl =\n",
              "          document.querySelector('#df-2727bd1d-1b25-439c-b9b2-0d2ce2b6bfc9 button.colab-df-convert');\n",
              "        buttonEl.style.display =\n",
              "          google.colab.kernel.accessAllowed ? 'block' : 'none';\n",
              "\n",
              "        async function convertToInteractive(key) {\n",
              "          const element = document.querySelector('#df-2727bd1d-1b25-439c-b9b2-0d2ce2b6bfc9');\n",
              "          const dataTable =\n",
              "            await google.colab.kernel.invokeFunction('convertToInteractive',\n",
              "                                                     [key], {});\n",
              "          if (!dataTable) return;\n",
              "\n",
              "          const docLinkHtml = 'Like what you see? Visit the ' +\n",
              "            '<a target=\"_blank\" href=https://colab.research.google.com/notebooks/data_table.ipynb>data table notebook</a>'\n",
              "            + ' to learn more about interactive tables.';\n",
              "          element.innerHTML = '';\n",
              "          dataTable['output_type'] = 'display_data';\n",
              "          await google.colab.output.renderOutput(dataTable, element);\n",
              "          const docLink = document.createElement('div');\n",
              "          docLink.innerHTML = docLinkHtml;\n",
              "          element.appendChild(docLink);\n",
              "        }\n",
              "      </script>\n",
              "    </div>\n",
              "  </div>\n",
              "  "
            ]
          },
          "metadata": {},
          "execution_count": 48
        }
      ],
      "source": [
        "train_agree.describe()"
      ]
    },
    {
      "cell_type": "code",
      "execution_count": null,
      "metadata": {
        "colab": {
          "base_uri": "https://localhost:8080/",
          "height": 249
        },
        "id": "nLitvIIIpI1D",
        "outputId": "923e0110-188b-49ee-ff04-5d1ca7a779b9"
      },
      "outputs": [
        {
          "output_type": "execute_result",
          "data": {
            "text/plain": [
              "        id             q                                                  r  \\\n",
              "7213  9076  < giggle > .  And being an evil old darwinist I should add <...   \n",
              "\n",
              "          s q'                                            r'  q_count  \\\n",
              "7213  AGREE  .  And being an evil old darwinist I should add        1   \n",
              "\n",
              "      r_count  qr_count  q_sum_count  r_sum_count  qr_sum_count  baseline  \\\n",
              "7213       10        11            0            9             9      0.45   \n",
              "\n",
              "      baseline category  \n",
              "7213                0.5  "
            ],
            "text/html": [
              "\n",
              "  <div id=\"df-46d206f1-3b69-4bd7-a087-92f52cbe2ecd\">\n",
              "    <div class=\"colab-df-container\">\n",
              "      <div>\n",
              "<style scoped>\n",
              "    .dataframe tbody tr th:only-of-type {\n",
              "        vertical-align: middle;\n",
              "    }\n",
              "\n",
              "    .dataframe tbody tr th {\n",
              "        vertical-align: top;\n",
              "    }\n",
              "\n",
              "    .dataframe thead th {\n",
              "        text-align: right;\n",
              "    }\n",
              "</style>\n",
              "<table border=\"1\" class=\"dataframe\">\n",
              "  <thead>\n",
              "    <tr style=\"text-align: right;\">\n",
              "      <th></th>\n",
              "      <th>id</th>\n",
              "      <th>q</th>\n",
              "      <th>r</th>\n",
              "      <th>s</th>\n",
              "      <th>q'</th>\n",
              "      <th>r'</th>\n",
              "      <th>q_count</th>\n",
              "      <th>r_count</th>\n",
              "      <th>qr_count</th>\n",
              "      <th>q_sum_count</th>\n",
              "      <th>r_sum_count</th>\n",
              "      <th>qr_sum_count</th>\n",
              "      <th>baseline</th>\n",
              "      <th>baseline category</th>\n",
              "    </tr>\n",
              "  </thead>\n",
              "  <tbody>\n",
              "    <tr>\n",
              "      <th>7213</th>\n",
              "      <td>9076</td>\n",
              "      <td>&lt; giggle &gt; .</td>\n",
              "      <td>And being an evil old darwinist I should add &lt;...</td>\n",
              "      <td>AGREE</td>\n",
              "      <td>.</td>\n",
              "      <td>And being an evil old darwinist I should add</td>\n",
              "      <td>1</td>\n",
              "      <td>10</td>\n",
              "      <td>11</td>\n",
              "      <td>0</td>\n",
              "      <td>9</td>\n",
              "      <td>9</td>\n",
              "      <td>0.45</td>\n",
              "      <td>0.5</td>\n",
              "    </tr>\n",
              "  </tbody>\n",
              "</table>\n",
              "</div>\n",
              "      <button class=\"colab-df-convert\" onclick=\"convertToInteractive('df-46d206f1-3b69-4bd7-a087-92f52cbe2ecd')\"\n",
              "              title=\"Convert this dataframe to an interactive table.\"\n",
              "              style=\"display:none;\">\n",
              "        \n",
              "  <svg xmlns=\"http://www.w3.org/2000/svg\" height=\"24px\"viewBox=\"0 0 24 24\"\n",
              "       width=\"24px\">\n",
              "    <path d=\"M0 0h24v24H0V0z\" fill=\"none\"/>\n",
              "    <path d=\"M18.56 5.44l.94 2.06.94-2.06 2.06-.94-2.06-.94-.94-2.06-.94 2.06-2.06.94zm-11 1L8.5 8.5l.94-2.06 2.06-.94-2.06-.94L8.5 2.5l-.94 2.06-2.06.94zm10 10l.94 2.06.94-2.06 2.06-.94-2.06-.94-.94-2.06-.94 2.06-2.06.94z\"/><path d=\"M17.41 7.96l-1.37-1.37c-.4-.4-.92-.59-1.43-.59-.52 0-1.04.2-1.43.59L10.3 9.45l-7.72 7.72c-.78.78-.78 2.05 0 2.83L4 21.41c.39.39.9.59 1.41.59.51 0 1.02-.2 1.41-.59l7.78-7.78 2.81-2.81c.8-.78.8-2.07 0-2.86zM5.41 20L4 18.59l7.72-7.72 1.47 1.35L5.41 20z\"/>\n",
              "  </svg>\n",
              "      </button>\n",
              "      \n",
              "  <style>\n",
              "    .colab-df-container {\n",
              "      display:flex;\n",
              "      flex-wrap:wrap;\n",
              "      gap: 12px;\n",
              "    }\n",
              "\n",
              "    .colab-df-convert {\n",
              "      background-color: #E8F0FE;\n",
              "      border: none;\n",
              "      border-radius: 50%;\n",
              "      cursor: pointer;\n",
              "      display: none;\n",
              "      fill: #1967D2;\n",
              "      height: 32px;\n",
              "      padding: 0 0 0 0;\n",
              "      width: 32px;\n",
              "    }\n",
              "\n",
              "    .colab-df-convert:hover {\n",
              "      background-color: #E2EBFA;\n",
              "      box-shadow: 0px 1px 2px rgba(60, 64, 67, 0.3), 0px 1px 3px 1px rgba(60, 64, 67, 0.15);\n",
              "      fill: #174EA6;\n",
              "    }\n",
              "\n",
              "    [theme=dark] .colab-df-convert {\n",
              "      background-color: #3B4455;\n",
              "      fill: #D2E3FC;\n",
              "    }\n",
              "\n",
              "    [theme=dark] .colab-df-convert:hover {\n",
              "      background-color: #434B5C;\n",
              "      box-shadow: 0px 1px 3px 1px rgba(0, 0, 0, 0.15);\n",
              "      filter: drop-shadow(0px 1px 2px rgba(0, 0, 0, 0.3));\n",
              "      fill: #FFFFFF;\n",
              "    }\n",
              "  </style>\n",
              "\n",
              "      <script>\n",
              "        const buttonEl =\n",
              "          document.querySelector('#df-46d206f1-3b69-4bd7-a087-92f52cbe2ecd button.colab-df-convert');\n",
              "        buttonEl.style.display =\n",
              "          google.colab.kernel.accessAllowed ? 'block' : 'none';\n",
              "\n",
              "        async function convertToInteractive(key) {\n",
              "          const element = document.querySelector('#df-46d206f1-3b69-4bd7-a087-92f52cbe2ecd');\n",
              "          const dataTable =\n",
              "            await google.colab.kernel.invokeFunction('convertToInteractive',\n",
              "                                                     [key], {});\n",
              "          if (!dataTable) return;\n",
              "\n",
              "          const docLinkHtml = 'Like what you see? Visit the ' +\n",
              "            '<a target=\"_blank\" href=https://colab.research.google.com/notebooks/data_table.ipynb>data table notebook</a>'\n",
              "            + ' to learn more about interactive tables.';\n",
              "          element.innerHTML = '';\n",
              "          dataTable['output_type'] = 'display_data';\n",
              "          await google.colab.output.renderOutput(dataTable, element);\n",
              "          const docLink = document.createElement('div');\n",
              "          docLink.innerHTML = docLinkHtml;\n",
              "          element.appendChild(docLink);\n",
              "        }\n",
              "      </script>\n",
              "    </div>\n",
              "  </div>\n",
              "  "
            ]
          },
          "metadata": {},
          "execution_count": 49
        }
      ],
      "source": [
        "train_agree[train_agree['q_sum_count'] == 0] "
      ]
    },
    {
      "cell_type": "code",
      "source": [
        "train_agree = train_agree[train_agree['q_sum_count'] > 0] \n",
        "train_agree.shape"
      ],
      "metadata": {
        "colab": {
          "base_uri": "https://localhost:8080/"
        },
        "id": "1qlZBm_KEsd2",
        "outputId": "753142dd-24bd-440d-9e8a-934b42e46fd8"
      },
      "execution_count": null,
      "outputs": [
        {
          "output_type": "execute_result",
          "data": {
            "text/plain": [
              "(1432, 14)"
            ]
          },
          "metadata": {},
          "execution_count": 50
        }
      ]
    },
    {
      "cell_type": "code",
      "execution_count": null,
      "metadata": {
        "colab": {
          "base_uri": "https://localhost:8080/",
          "height": 499
        },
        "id": "eh685slM5CIn",
        "outputId": "b75ad6e9-395f-471a-f90e-d9fe477edb62"
      },
      "outputs": [
        {
          "output_type": "display_data",
          "data": {
            "text/plain": [
              "<Figure size 720x576 with 4 Axes>"
            ],
            "image/png": "[encoded data removed]"
          },
          "metadata": {
            "needs_background": "light"
          }
        }
      ],
      "source": [
        "# Word count distribution\n",
        "def wordCountDist(df, binq, binr, binqq, binrr):\n",
        "    fig, ((ax0, ax1), (ax2, ax3)) = plt.subplots(nrows=2, ncols=2, figsize=(10, 8))\n",
        "\n",
        "    ax0.hist(df[\"q_count\"], bins=binq)\n",
        "    ax0.set_title('Word count distribution of q')\n",
        "\n",
        "    ax1.hist(df[\"r_count\"], bins=binr)\n",
        "    ax1.set_title('Word count distribution of r')\n",
        "\n",
        "    ax2.hist(df[\"q_sum_count\"], bins=binqq)\n",
        "    ax2.set_title('Word count distribution of q\\'')\n",
        "\n",
        "    ax3.hist(df[\"r_sum_count\"], bins=binrr)\n",
        "    ax3.set_title('Word count distribution of r\\'')\n",
        "\n",
        "    plt.show()\n",
        "\n",
        "wordCountDist(train_agree, 30, 25, 13, 10)"
      ]
    },
    {
      "cell_type": "markdown",
      "source": [
        "##### DISAGREE"
      ],
      "metadata": {
        "id": "qsqdQdR5LfcJ"
      }
    },
    {
      "cell_type": "code",
      "execution_count": null,
      "metadata": {
        "colab": {
          "base_uri": "https://localhost:8080/",
          "height": 382
        },
        "outputId": "c0e39eef-bd7c-47f5-bce7-c77b9612a40e",
        "id": "aZldcB3qLfcK"
      },
      "outputs": [
        {
          "output_type": "execute_result",
          "data": {
            "text/plain": [
              "                 id      q_count      r_count     qr_count  q_sum_count  \\\n",
              "count   6498.000000  6498.000000  6498.000000  6498.000000  6498.000000   \n",
              "mean    5053.471222    49.841490    62.265005   112.106494    24.480302   \n",
              "std     2928.000223    64.909723    74.486629   106.351865    18.280660   \n",
              "min       11.000000     0.000000     0.000000     3.000000     0.000000   \n",
              "25%     2440.250000    17.000000    19.000000    47.000000    13.000000   \n",
              "50%     5093.500000    31.000000    39.000000    80.000000    21.000000   \n",
              "75%     7616.750000    56.000000    77.000000   138.000000    31.000000   \n",
              "max    10002.000000   737.000000   761.000000  1190.000000   292.000000   \n",
              "\n",
              "       r_sum_count  qr_sum_count     baseline  baseline category  \n",
              "count  6498.000000   6498.000000  6498.000000        6498.000000  \n",
              "mean     26.794244     51.274546     0.687609           0.726223  \n",
              "std      24.486890     34.307329     0.245869           0.234487  \n",
              "min       0.000000      3.000000     0.062304           0.100000  \n",
              "25%      14.000000     32.000000     0.510356           0.600000  \n",
              "50%      22.000000     44.000000     0.693878           0.700000  \n",
              "75%      33.000000     61.000000     0.934783           1.000000  \n",
              "max     396.000000    494.000000     1.000000           1.000000  "
            ],
            "text/html": [
              "\n",
              "  <div id=\"df-e701fe4d-734f-4f15-b5ba-165099114ccf\">\n",
              "    <div class=\"colab-df-container\">\n",
              "      <div>\n",
              "<style scoped>\n",
              "    .dataframe tbody tr th:only-of-type {\n",
              "        vertical-align: middle;\n",
              "    }\n",
              "\n",
              "    .dataframe tbody tr th {\n",
              "        vertical-align: top;\n",
              "    }\n",
              "\n",
              "    .dataframe thead th {\n",
              "        text-align: right;\n",
              "    }\n",
              "</style>\n",
              "<table border=\"1\" class=\"dataframe\">\n",
              "  <thead>\n",
              "    <tr style=\"text-align: right;\">\n",
              "      <th></th>\n",
              "      <th>id</th>\n",
              "      <th>q_count</th>\n",
              "      <th>r_count</th>\n",
              "      <th>qr_count</th>\n",
              "      <th>q_sum_count</th>\n",
              "      <th>r_sum_count</th>\n",
              "      <th>qr_sum_count</th>\n",
              "      <th>baseline</th>\n",
              "      <th>baseline category</th>\n",
              "    </tr>\n",
              "  </thead>\n",
              "  <tbody>\n",
              "    <tr>\n",
              "      <th>count</th>\n",
              "      <td>6498.000000</td>\n",
              "      <td>6498.000000</td>\n",
              "      <td>6498.000000</td>\n",
              "      <td>6498.000000</td>\n",
              "      <td>6498.000000</td>\n",
              "      <td>6498.000000</td>\n",
              "      <td>6498.000000</td>\n",
              "      <td>6498.000000</td>\n",
              "      <td>6498.000000</td>\n",
              "    </tr>\n",
              "    <tr>\n",
              "      <th>mean</th>\n",
              "      <td>5053.471222</td>\n",
              "      <td>49.841490</td>\n",
              "      <td>62.265005</td>\n",
              "      <td>112.106494</td>\n",
              "      <td>24.480302</td>\n",
              "      <td>26.794244</td>\n",
              "      <td>51.274546</td>\n",
              "      <td>0.687609</td>\n",
              "      <td>0.726223</td>\n",
              "    </tr>\n",
              "    <tr>\n",
              "      <th>std</th>\n",
              "      <td>2928.000223</td>\n",
              "      <td>64.909723</td>\n",
              "      <td>74.486629</td>\n",
              "      <td>106.351865</td>\n",
              "      <td>18.280660</td>\n",
              "      <td>24.486890</td>\n",
              "      <td>34.307329</td>\n",
              "      <td>0.245869</td>\n",
              "      <td>0.234487</td>\n",
              "    </tr>\n",
              "    <tr>\n",
              "      <th>min</th>\n",
              "      <td>11.000000</td>\n",
              "      <td>0.000000</td>\n",
              "      <td>0.000000</td>\n",
              "      <td>3.000000</td>\n",
              "      <td>0.000000</td>\n",
              "      <td>0.000000</td>\n",
              "      <td>3.000000</td>\n",
              "      <td>0.062304</td>\n",
              "      <td>0.100000</td>\n",
              "    </tr>\n",
              "    <tr>\n",
              "      <th>25%</th>\n",
              "      <td>2440.250000</td>\n",
              "      <td>17.000000</td>\n",
              "      <td>19.000000</td>\n",
              "      <td>47.000000</td>\n",
              "      <td>13.000000</td>\n",
              "      <td>14.000000</td>\n",
              "      <td>32.000000</td>\n",
              "      <td>0.510356</td>\n",
              "      <td>0.600000</td>\n",
              "    </tr>\n",
              "    <tr>\n",
              "      <th>50%</th>\n",
              "      <td>5093.500000</td>\n",
              "      <td>31.000000</td>\n",
              "      <td>39.000000</td>\n",
              "      <td>80.000000</td>\n",
              "      <td>21.000000</td>\n",
              "      <td>22.000000</td>\n",
              "      <td>44.000000</td>\n",
              "      <td>0.693878</td>\n",
              "      <td>0.700000</td>\n",
              "    </tr>\n",
              "    <tr>\n",
              "      <th>75%</th>\n",
              "      <td>7616.750000</td>\n",
              "      <td>56.000000</td>\n",
              "      <td>77.000000</td>\n",
              "      <td>138.000000</td>\n",
              "      <td>31.000000</td>\n",
              "      <td>33.000000</td>\n",
              "      <td>61.000000</td>\n",
              "      <td>0.934783</td>\n",
              "      <td>1.000000</td>\n",
              "    </tr>\n",
              "    <tr>\n",
              "      <th>max</th>\n",
              "      <td>10002.000000</td>\n",
              "      <td>737.000000</td>\n",
              "      <td>761.000000</td>\n",
              "      <td>1190.000000</td>\n",
              "      <td>292.000000</td>\n",
              "      <td>396.000000</td>\n",
              "      <td>494.000000</td>\n",
              "      <td>1.000000</td>\n",
              "      <td>1.000000</td>\n",
              "    </tr>\n",
              "  </tbody>\n",
              "</table>\n",
              "</div>\n",
              "      <button class=\"colab-df-convert\" onclick=\"convertToInteractive('df-e701fe4d-734f-4f15-b5ba-165099114ccf')\"\n",
              "              title=\"Convert this dataframe to an interactive table.\"\n",
              "              style=\"display:none;\">\n",
              "        \n",
              "  <svg xmlns=\"http://www.w3.org/2000/svg\" height=\"24px\"viewBox=\"0 0 24 24\"\n",
              "       width=\"24px\">\n",
              "    <path d=\"M0 0h24v24H0V0z\" fill=\"none\"/>\n",
              "    <path d=\"M18.56 5.44l.94 2.06.94-2.06 2.06-.94-2.06-.94-.94-2.06-.94 2.06-2.06.94zm-11 1L8.5 8.5l.94-2.06 2.06-.94-2.06-.94L8.5 2.5l-.94 2.06-2.06.94zm10 10l.94 2.06.94-2.06 2.06-.94-2.06-.94-.94-2.06-.94 2.06-2.06.94z\"/><path d=\"M17.41 7.96l-1.37-1.37c-.4-.4-.92-.59-1.43-.59-.52 0-1.04.2-1.43.59L10.3 9.45l-7.72 7.72c-.78.78-.78 2.05 0 2.83L4 21.41c.39.39.9.59 1.41.59.51 0 1.02-.2 1.41-.59l7.78-7.78 2.81-2.81c.8-.78.8-2.07 0-2.86zM5.41 20L4 18.59l7.72-7.72 1.47 1.35L5.41 20z\"/>\n",
              "  </svg>\n",
              "      </button>\n",
              "      \n",
              "  <style>\n",
              "    .colab-df-container {\n",
              "      display:flex;\n",
              "      flex-wrap:wrap;\n",
              "      gap: 12px;\n",
              "    }\n",
              "\n",
              "    .colab-df-convert {\n",
              "      background-color: #E8F0FE;\n",
              "      border: none;\n",
              "      border-radius: 50%;\n",
              "      cursor: pointer;\n",
              "      display: none;\n",
              "      fill: #1967D2;\n",
              "      height: 32px;\n",
              "      padding: 0 0 0 0;\n",
              "      width: 32px;\n",
              "    }\n",
              "\n",
              "    .colab-df-convert:hover {\n",
              "      background-color: #E2EBFA;\n",
              "      box-shadow: 0px 1px 2px rgba(60, 64, 67, 0.3), 0px 1px 3px 1px rgba(60, 64, 67, 0.15);\n",
              "      fill: #174EA6;\n",
              "    }\n",
              "\n",
              "    [theme=dark] .colab-df-convert {\n",
              "      background-color: #3B4455;\n",
              "      fill: #D2E3FC;\n",
              "    }\n",
              "\n",
              "    [theme=dark] .colab-df-convert:hover {\n",
              "      background-color: #434B5C;\n",
              "      box-shadow: 0px 1px 3px 1px rgba(0, 0, 0, 0.15);\n",
              "      filter: drop-shadow(0px 1px 2px rgba(0, 0, 0, 0.3));\n",
              "      fill: #FFFFFF;\n",
              "    }\n",
              "  </style>\n",
              "\n",
              "      <script>\n",
              "        const buttonEl =\n",
              "          document.querySelector('#df-e701fe4d-734f-4f15-b5ba-165099114ccf button.colab-df-convert');\n",
              "        buttonEl.style.display =\n",
              "          google.colab.kernel.accessAllowed ? 'block' : 'none';\n",
              "\n",
              "        async function convertToInteractive(key) {\n",
              "          const element = document.querySelector('#df-e701fe4d-734f-4f15-b5ba-165099114ccf');\n",
              "          const dataTable =\n",
              "            await google.colab.kernel.invokeFunction('convertToInteractive',\n",
              "                                                     [key], {});\n",
              "          if (!dataTable) return;\n",
              "\n",
              "          const docLinkHtml = 'Like what you see? Visit the ' +\n",
              "            '<a target=\"_blank\" href=https://colab.research.google.com/notebooks/data_table.ipynb>data table notebook</a>'\n",
              "            + ' to learn more about interactive tables.';\n",
              "          element.innerHTML = '';\n",
              "          dataTable['output_type'] = 'display_data';\n",
              "          await google.colab.output.renderOutput(dataTable, element);\n",
              "          const docLink = document.createElement('div');\n",
              "          docLink.innerHTML = docLinkHtml;\n",
              "          element.appendChild(docLink);\n",
              "        }\n",
              "      </script>\n",
              "    </div>\n",
              "  </div>\n",
              "  "
            ]
          },
          "metadata": {},
          "execution_count": 52
        }
      ],
      "source": [
        "train_disagree.describe()"
      ]
    },
    {
      "cell_type": "code",
      "execution_count": null,
      "metadata": {
        "colab": {
          "base_uri": "https://localhost:8080/",
          "height": 350
        },
        "outputId": "4b7c55f6-d32a-499d-bee7-c691ca3ec36a",
        "id": "2BOm6cROLfcK"
      },
      "outputs": [
        {
          "output_type": "execute_result",
          "data": {
            "text/plain": [
              "        id                                                  q          r  \\\n",
              "2001  2429  Well , considering that quote comes from someb...        ...   \n",
              "7940  9957  Some would say , the answer is that man is bot...  .........   \n",
              "\n",
              "             s                                                 q'         r'  \\\n",
              "2001  DISAGREE  Well considering that comes from somebody whos...        ...   \n",
              "7940  DISAGREE  the answer is that man is both a physical bein...  .........   \n",
              "\n",
              "      q_count  r_count  qr_count  q_sum_count  r_sum_count  qr_sum_count  \\\n",
              "2001       27        0        27           26            0            26   \n",
              "7940       76        0        76           20            0            20   \n",
              "\n",
              "      baseline  baseline category  \n",
              "2001  0.981481                1.0  \n",
              "7940  0.631579                0.7  "
            ],
            "text/html": [
              "\n",
              "  <div id=\"df-acb5ff67-4623-4151-bd9a-4dd267db5f2d\">\n",
              "    <div class=\"colab-df-container\">\n",
              "      <div>\n",
              "<style scoped>\n",
              "    .dataframe tbody tr th:only-of-type {\n",
              "        vertical-align: middle;\n",
              "    }\n",
              "\n",
              "    .dataframe tbody tr th {\n",
              "        vertical-align: top;\n",
              "    }\n",
              "\n",
              "    .dataframe thead th {\n",
              "        text-align: right;\n",
              "    }\n",
              "</style>\n",
              "<table border=\"1\" class=\"dataframe\">\n",
              "  <thead>\n",
              "    <tr style=\"text-align: right;\">\n",
              "      <th></th>\n",
              "      <th>id</th>\n",
              "      <th>q</th>\n",
              "      <th>r</th>\n",
              "      <th>s</th>\n",
              "      <th>q'</th>\n",
              "      <th>r'</th>\n",
              "      <th>q_count</th>\n",
              "      <th>r_count</th>\n",
              "      <th>qr_count</th>\n",
              "      <th>q_sum_count</th>\n",
              "      <th>r_sum_count</th>\n",
              "      <th>qr_sum_count</th>\n",
              "      <th>baseline</th>\n",
              "      <th>baseline category</th>\n",
              "    </tr>\n",
              "  </thead>\n",
              "  <tbody>\n",
              "    <tr>\n",
              "      <th>2001</th>\n",
              "      <td>2429</td>\n",
              "      <td>Well , considering that quote comes from someb...</td>\n",
              "      <td>...</td>\n",
              "      <td>DISAGREE</td>\n",
              "      <td>Well considering that comes from somebody whos...</td>\n",
              "      <td>...</td>\n",
              "      <td>27</td>\n",
              "      <td>0</td>\n",
              "      <td>27</td>\n",
              "      <td>26</td>\n",
              "      <td>0</td>\n",
              "      <td>26</td>\n",
              "      <td>0.981481</td>\n",
              "      <td>1.0</td>\n",
              "    </tr>\n",
              "    <tr>\n",
              "      <th>7940</th>\n",
              "      <td>9957</td>\n",
              "      <td>Some would say , the answer is that man is bot...</td>\n",
              "      <td>.........</td>\n",
              "      <td>DISAGREE</td>\n",
              "      <td>the answer is that man is both a physical bein...</td>\n",
              "      <td>.........</td>\n",
              "      <td>76</td>\n",
              "      <td>0</td>\n",
              "      <td>76</td>\n",
              "      <td>20</td>\n",
              "      <td>0</td>\n",
              "      <td>20</td>\n",
              "      <td>0.631579</td>\n",
              "      <td>0.7</td>\n",
              "    </tr>\n",
              "  </tbody>\n",
              "</table>\n",
              "</div>\n",
              "      <button class=\"colab-df-convert\" onclick=\"convertToInteractive('df-acb5ff67-4623-4151-bd9a-4dd267db5f2d')\"\n",
              "              title=\"Convert this dataframe to an interactive table.\"\n",
              "              style=\"display:none;\">\n",
              "        \n",
              "  <svg xmlns=\"http://www.w3.org/2000/svg\" height=\"24px\"viewBox=\"0 0 24 24\"\n",
              "       width=\"24px\">\n",
              "    <path d=\"M0 0h24v24H0V0z\" fill=\"none\"/>\n",
              "    <path d=\"M18.56 5.44l.94 2.06.94-2.06 2.06-.94-2.06-.94-.94-2.06-.94 2.06-2.06.94zm-11 1L8.5 8.5l.94-2.06 2.06-.94-2.06-.94L8.5 2.5l-.94 2.06-2.06.94zm10 10l.94 2.06.94-2.06 2.06-.94-2.06-.94-.94-2.06-.94 2.06-2.06.94z\"/><path d=\"M17.41 7.96l-1.37-1.37c-.4-.4-.92-.59-1.43-.59-.52 0-1.04.2-1.43.59L10.3 9.45l-7.72 7.72c-.78.78-.78 2.05 0 2.83L4 21.41c.39.39.9.59 1.41.59.51 0 1.02-.2 1.41-.59l7.78-7.78 2.81-2.81c.8-.78.8-2.07 0-2.86zM5.41 20L4 18.59l7.72-7.72 1.47 1.35L5.41 20z\"/>\n",
              "  </svg>\n",
              "      </button>\n",
              "      \n",
              "  <style>\n",
              "    .colab-df-container {\n",
              "      display:flex;\n",
              "      flex-wrap:wrap;\n",
              "      gap: 12px;\n",
              "    }\n",
              "\n",
              "    .colab-df-convert {\n",
              "      background-color: #E8F0FE;\n",
              "      border: none;\n",
              "      border-radius: 50%;\n",
              "      cursor: pointer;\n",
              "      display: none;\n",
              "      fill: #1967D2;\n",
              "      height: 32px;\n",
              "      padding: 0 0 0 0;\n",
              "      width: 32px;\n",
              "    }\n",
              "\n",
              "    .colab-df-convert:hover {\n",
              "      background-color: #E2EBFA;\n",
              "      box-shadow: 0px 1px 2px rgba(60, 64, 67, 0.3), 0px 1px 3px 1px rgba(60, 64, 67, 0.15);\n",
              "      fill: #174EA6;\n",
              "    }\n",
              "\n",
              "    [theme=dark] .colab-df-convert {\n",
              "      background-color: #3B4455;\n",
              "      fill: #D2E3FC;\n",
              "    }\n",
              "\n",
              "    [theme=dark] .colab-df-convert:hover {\n",
              "      background-color: #434B5C;\n",
              "      box-shadow: 0px 1px 3px 1px rgba(0, 0, 0, 0.15);\n",
              "      filter: drop-shadow(0px 1px 2px rgba(0, 0, 0, 0.3));\n",
              "      fill: #FFFFFF;\n",
              "    }\n",
              "  </style>\n",
              "\n",
              "      <script>\n",
              "        const buttonEl =\n",
              "          document.querySelector('#df-acb5ff67-4623-4151-bd9a-4dd267db5f2d button.colab-df-convert');\n",
              "        buttonEl.style.display =\n",
              "          google.colab.kernel.accessAllowed ? 'block' : 'none';\n",
              "\n",
              "        async function convertToInteractive(key) {\n",
              "          const element = document.querySelector('#df-acb5ff67-4623-4151-bd9a-4dd267db5f2d');\n",
              "          const dataTable =\n",
              "            await google.colab.kernel.invokeFunction('convertToInteractive',\n",
              "                                                     [key], {});\n",
              "          if (!dataTable) return;\n",
              "\n",
              "          const docLinkHtml = 'Like what you see? Visit the ' +\n",
              "            '<a target=\"_blank\" href=https://colab.research.google.com/notebooks/data_table.ipynb>data table notebook</a>'\n",
              "            + ' to learn more about interactive tables.';\n",
              "          element.innerHTML = '';\n",
              "          dataTable['output_type'] = 'display_data';\n",
              "          await google.colab.output.renderOutput(dataTable, element);\n",
              "          const docLink = document.createElement('div');\n",
              "          docLink.innerHTML = docLinkHtml;\n",
              "          element.appendChild(docLink);\n",
              "        }\n",
              "      </script>\n",
              "    </div>\n",
              "  </div>\n",
              "  "
            ]
          },
          "metadata": {},
          "execution_count": 53
        }
      ],
      "source": [
        "train_disagree[train_disagree['q_count'] == 0] \n",
        "train_disagree[train_disagree['r_count'] == 0] "
      ]
    },
    {
      "cell_type": "code",
      "source": [
        "train_disagree = train_disagree[train_disagree['q_count'] > 0] \n",
        "train_disagree = train_disagree[train_disagree['r_count'] > 0] \n",
        "train_disagree.shape"
      ],
      "metadata": {
        "colab": {
          "base_uri": "https://localhost:8080/"
        },
        "outputId": "413931af-55d5-4979-805e-8a1b117dca85",
        "id": "FIdjKQZ9LfcK"
      },
      "execution_count": null,
      "outputs": [
        {
          "output_type": "execute_result",
          "data": {
            "text/plain": [
              "(6495, 14)"
            ]
          },
          "metadata": {},
          "execution_count": 54
        }
      ]
    },
    {
      "cell_type": "code",
      "execution_count": null,
      "metadata": {
        "colab": {
          "base_uri": "https://localhost:8080/",
          "height": 499
        },
        "outputId": "9104f3ca-be61-4884-bc57-80d1d9bab3fb",
        "id": "gHrr2MZyLfcL"
      },
      "outputs": [
        {
          "output_type": "display_data",
          "data": {
            "text/plain": [
              "<Figure size 720x576 with 4 Axes>"
            ],
            "image/png": "[encoded data removed]"
          },
          "metadata": {
            "needs_background": "light"
          }
        }
      ],
      "source": [
        "# Word count distribution\n",
        "wordCountDist(train_disagree, 30, 30, 10, 15)"
      ]
    },
    {
      "cell_type": "markdown",
      "metadata": {
        "id": "oc2lAjTduqmW"
      },
      "source": [
        "#### (3) Find the summary that is the same as the original text"
      ]
    },
    {
      "cell_type": "markdown",
      "source": [
        "##### AGREE"
      ],
      "metadata": {
        "id": "5NBLVt0oNnbg"
      }
    },
    {
      "cell_type": "code",
      "execution_count": null,
      "metadata": {
        "colab": {
          "base_uri": "https://localhost:8080/"
        },
        "id": "av4DX-yYr8_w",
        "outputId": "7987560a-f90a-41fe-d5d1-31d4b804e2e9"
      },
      "outputs": [
        {
          "output_type": "stream",
          "name": "stdout",
          "text": [
            "Total AGREE: (1432, 14)\n",
            "AGREE q = q':\n"
          ]
        },
        {
          "output_type": "execute_result",
          "data": {
            "text/plain": [
              "count    582.000000\n",
              "mean      22.024055\n",
              "std       23.219363\n",
              "min        1.000000\n",
              "25%       10.000000\n",
              "50%       16.000000\n",
              "75%       26.000000\n",
              "max      260.000000\n",
              "Name: q_count, dtype: float64"
            ]
          },
          "metadata": {},
          "execution_count": 56
        }
      ],
      "source": [
        "print(\"Total AGREE:\", train_agree.shape)\n",
        "print(\"AGREE q = q':\")\n",
        "q_agree_same = train_agree[train_agree['q_count'] == train_agree['q_sum_count']] \n",
        "q_agree_same['q_count'].describe()"
      ]
    },
    {
      "cell_type": "code",
      "execution_count": null,
      "metadata": {
        "colab": {
          "base_uri": "https://localhost:8080/"
        },
        "id": "tHdU8fV0uJNQ",
        "outputId": "bcd27a2b-d4a6-43e4-a5f8-1e3e03752f3d"
      },
      "outputs": [
        {
          "output_type": "stream",
          "name": "stdout",
          "text": [
            "Total AGREE: (1432, 14)\n",
            "AGREE r = r':\n"
          ]
        },
        {
          "output_type": "execute_result",
          "data": {
            "text/plain": [
              "count    592.000000\n",
              "mean      17.505068\n",
              "std       19.938738\n",
              "min        1.000000\n",
              "25%        7.000000\n",
              "50%       13.000000\n",
              "75%       21.000000\n",
              "max      271.000000\n",
              "Name: r_count, dtype: float64"
            ]
          },
          "metadata": {},
          "execution_count": 57
        }
      ],
      "source": [
        "print(\"Total AGREE:\", train_agree.shape)\n",
        "print(\"AGREE r = r':\")\n",
        "r_agree_same = train_agree[train_agree['r_count'] == train_agree['r_sum_count']] \n",
        "r_agree_same['r_count'].describe()"
      ]
    },
    {
      "cell_type": "code",
      "execution_count": null,
      "metadata": {
        "colab": {
          "base_uri": "https://localhost:8080/",
          "height": 281
        },
        "id": "iCYOjS9b7ouH",
        "outputId": "44cbaa68-08b6-4a44-9025-a3243efbac11"
      },
      "outputs": [
        {
          "output_type": "display_data",
          "data": {
            "text/plain": [
              "<Figure size 720x288 with 2 Axes>"
            ],
            "image/png": "[encoded data removed]"
          },
          "metadata": {
            "needs_background": "light"
          }
        }
      ],
      "source": [
        "fig, (ax0, ax1) = plt.subplots(nrows=1, ncols=2, figsize=(10, 4))\n",
        "\n",
        "ax0.hist(q_agree_same[\"q_count\"], bins=10)\n",
        "ax0.set_title('Word count distribution of q')\n",
        "\n",
        "ax1.hist(r_agree_same[\"r_count\"], bins=10)\n",
        "ax1.set_title('Word count distribution of r')\n",
        "\n",
        "plt.show()"
      ]
    },
    {
      "cell_type": "markdown",
      "source": [
        "##### DISAGREE"
      ],
      "metadata": {
        "id": "v-WXzfi0PMJv"
      }
    },
    {
      "cell_type": "code",
      "execution_count": null,
      "metadata": {
        "colab": {
          "base_uri": "https://localhost:8080/"
        },
        "outputId": "8580521c-3143-4e8c-c439-4924eefeaa19",
        "id": "hoDcVMeCPMJv"
      },
      "outputs": [
        {
          "output_type": "stream",
          "name": "stdout",
          "text": [
            "Total DISAGREE: (6495, 14)\n",
            "DISAGREE q = q':\n"
          ]
        },
        {
          "output_type": "execute_result",
          "data": {
            "text/plain": [
              "count    2565.000000\n",
              "mean       21.022222\n",
              "std        18.087969\n",
              "min         1.000000\n",
              "25%        11.000000\n",
              "50%        17.000000\n",
              "75%        26.000000\n",
              "max       292.000000\n",
              "Name: q_count, dtype: float64"
            ]
          },
          "metadata": {},
          "execution_count": 59
        }
      ],
      "source": [
        "print(\"Total DISAGREE:\", train_disagree.shape)\n",
        "print(\"DISAGREE q = q':\")\n",
        "q_disagree_same = train_disagree[train_disagree['q_count'] == train_disagree['q_sum_count']] \n",
        "q_disagree_same['q_count'].describe()"
      ]
    },
    {
      "cell_type": "code",
      "execution_count": null,
      "metadata": {
        "colab": {
          "base_uri": "https://localhost:8080/"
        },
        "outputId": "51bc206f-4352-434a-85bc-bf7b59071957",
        "id": "rEGNLBA6PMJw"
      },
      "outputs": [
        {
          "output_type": "stream",
          "name": "stdout",
          "text": [
            "Total DISAGREE: (6495, 14)\n",
            "DISAGREE r = r':\n"
          ]
        },
        {
          "output_type": "execute_result",
          "data": {
            "text/plain": [
              "count    2234.000000\n",
              "mean       21.322739\n",
              "std        23.786013\n",
              "min         1.000000\n",
              "25%         9.000000\n",
              "50%        15.000000\n",
              "75%        26.000000\n",
              "max       369.000000\n",
              "Name: r_count, dtype: float64"
            ]
          },
          "metadata": {},
          "execution_count": 60
        }
      ],
      "source": [
        "print(\"Total DISAGREE:\", train_disagree.shape)\n",
        "print(\"DISAGREE r = r':\")\n",
        "r_disagree_same = train_disagree[train_disagree['r_count'] == train_disagree['r_sum_count']] \n",
        "r_disagree_same['r_count'].describe()"
      ]
    },
    {
      "cell_type": "code",
      "execution_count": null,
      "metadata": {
        "colab": {
          "base_uri": "https://localhost:8080/",
          "height": 281
        },
        "outputId": "b5b704a0-827d-4ee7-9fca-f8703163239a",
        "id": "jcsBS0xGPMJw"
      },
      "outputs": [
        {
          "output_type": "display_data",
          "data": {
            "text/plain": [
              "<Figure size 720x288 with 2 Axes>"
            ],
            "image/png": "[encoded data removed]"
          },
          "metadata": {
            "needs_background": "light"
          }
        }
      ],
      "source": [
        "fig, (ax0, ax1) = plt.subplots(nrows=1, ncols=2, figsize=(10, 4))\n",
        "\n",
        "ax0.hist(q_disagree_same[\"q_count\"], bins=12)\n",
        "ax0.set_title('Word count distribution of q')\n",
        "\n",
        "ax1.hist(r_disagree_same[\"r_count\"], bins=15)\n",
        "ax1.set_title('Word count distribution of r')\n",
        "\n",
        "plt.show()"
      ]
    },
    {
      "cell_type": "markdown",
      "metadata": {
        "id": "DXeYGW_QPGH0"
      },
      "source": [
        "#### (4) LCS Distribution"
      ]
    },
    {
      "cell_type": "markdown",
      "source": [
        "##### AGREE"
      ],
      "metadata": {
        "id": "MsBoFjErQgVb"
      }
    },
    {
      "cell_type": "code",
      "source": [
        "# q_count\n",
        "train_agree.plot(x='q_count', y='baseline category', kind='scatter')\n",
        "plt.show()"
      ],
      "metadata": {
        "id": "GJYs-ibGmxOO",
        "colab": {
          "base_uri": "https://localhost:8080/",
          "height": 280
        },
        "outputId": "a0abe604-65d3-4cb2-c0fd-d0124837026c"
      },
      "execution_count": null,
      "outputs": [
        {
          "output_type": "display_data",
          "data": {
            "text/plain": [
              "<Figure size 432x288 with 1 Axes>"
            ],
            "image/png": "[encoded data removed]"
          },
          "metadata": {
            "needs_background": "light"
          }
        }
      ]
    },
    {
      "cell_type": "markdown",
      "source": [
        "切點：200"
      ],
      "metadata": {
        "id": "hYZXaD0_RSMP"
      }
    },
    {
      "cell_type": "code",
      "source": [
        "# r_count\n",
        "train_agree.plot(x='r_count', y='baseline category', kind='scatter')\n",
        "plt.show()"
      ],
      "metadata": {
        "colab": {
          "base_uri": "https://localhost:8080/",
          "height": 280
        },
        "id": "hvgVsR1j4FO-",
        "outputId": "a8844c7b-42d8-4a1c-a040-57676cdf8700"
      },
      "execution_count": null,
      "outputs": [
        {
          "output_type": "display_data",
          "data": {
            "text/plain": [
              "<Figure size 432x288 with 1 Axes>"
            ],
            "image/png": "[encoded data removed]"
          },
          "metadata": {
            "needs_background": "light"
          }
        }
      ]
    },
    {
      "cell_type": "markdown",
      "source": [
        "切點：200"
      ],
      "metadata": {
        "id": "nEtuFI-nRcl7"
      }
    },
    {
      "cell_type": "code",
      "source": [
        "# qr_count\n",
        "train_agree.plot(x='qr_count', y='baseline category', kind='scatter')\n",
        "plt.show()"
      ],
      "metadata": {
        "colab": {
          "base_uri": "https://localhost:8080/",
          "height": 280
        },
        "id": "QHmeQsL2RCW9",
        "outputId": "d7328577-caf2-49e1-beb4-0102895fa0ec"
      },
      "execution_count": null,
      "outputs": [
        {
          "output_type": "display_data",
          "data": {
            "text/plain": [
              "<Figure size 432x288 with 1 Axes>"
            ],
            "image/png": "[encoded data removed]"
          },
          "metadata": {
            "needs_background": "light"
          }
        }
      ]
    },
    {
      "cell_type": "markdown",
      "source": [
        "切點：400"
      ],
      "metadata": {
        "id": "hXStzvo942pe"
      }
    },
    {
      "cell_type": "markdown",
      "source": [
        "###### AGREE - q"
      ],
      "metadata": {
        "id": "vRospi0uSmQ4"
      }
    },
    {
      "cell_type": "code",
      "source": [
        "# Calcualte the baseline average LCS score of all the sample\n",
        "def baselineLCS(df, col, threshold1, threshold2):\n",
        "  subset = df[df[col] > threshold1]\n",
        "  subset = subset[subset[col] <= threshold2]\n",
        "  print(subset.shape)\n",
        "  lcs_score_base = subset['baseline'].mean()\n",
        "  print(\"Baseline LCS score:\", lcs_score_base)\n",
        "  subset.plot(x=col, y='baseline category', kind='scatter')\n",
        "  plt.show()"
      ],
      "metadata": {
        "id": "_mpFsZrjUDJY"
      },
      "execution_count": null,
      "outputs": []
    },
    {
      "cell_type": "code",
      "source": [
        "baselineLCS(train_agree, 'q_count', 0, 25)"
      ],
      "metadata": {
        "colab": {
          "base_uri": "https://localhost:8080/",
          "height": 315
        },
        "id": "OBrbyOIQSnkV",
        "outputId": "61b662ea-8699-4bc1-d144-40b7039b3c7b"
      },
      "execution_count": null,
      "outputs": [
        {
          "output_type": "stream",
          "name": "stdout",
          "text": [
            "(598, 14)\n",
            "Baseline LCS score: 0.8343048908032717\n"
          ]
        },
        {
          "output_type": "display_data",
          "data": {
            "text/plain": [
              "<Figure size 432x288 with 1 Axes>"
            ],
            "image/png": "[encoded data removed]"
          },
          "metadata": {
            "needs_background": "light"
          }
        }
      ]
    },
    {
      "cell_type": "code",
      "source": [
        "baselineLCS(train_agree, 'q_count', 25, 90)"
      ],
      "metadata": {
        "colab": {
          "base_uri": "https://localhost:8080/",
          "height": 315
        },
        "id": "X4SLAHUeTcgC",
        "outputId": "d63a36cf-fac8-4711-8cd9-61e3bb77913b"
      },
      "execution_count": null,
      "outputs": [
        {
          "output_type": "stream",
          "name": "stdout",
          "text": [
            "(588, 14)\n",
            "Baseline LCS score: 0.6569313727550216\n"
          ]
        },
        {
          "output_type": "display_data",
          "data": {
            "text/plain": [
              "<Figure size 432x288 with 1 Axes>"
            ],
            "image/png": "[encoded data removed]"
          },
          "metadata": {
            "needs_background": "light"
          }
        }
      ]
    },
    {
      "cell_type": "code",
      "source": [
        "baselineLCS(train_agree, 'q_count', 90, 800)"
      ],
      "metadata": {
        "colab": {
          "base_uri": "https://localhost:8080/",
          "height": 315
        },
        "id": "3P8FQEE9TnFL",
        "outputId": "4713dd1c-286c-43ff-9029-4566ab9d3c72"
      },
      "execution_count": null,
      "outputs": [
        {
          "output_type": "stream",
          "name": "stdout",
          "text": [
            "(246, 14)\n",
            "Baseline LCS score: 0.4580509630991654\n"
          ]
        },
        {
          "output_type": "display_data",
          "data": {
            "text/plain": [
              "<Figure size 432x288 with 1 Axes>"
            ],
            "image/png": "[encoded data removed]"
          },
          "metadata": {
            "needs_background": "light"
          }
        }
      ]
    },
    {
      "cell_type": "markdown",
      "source": [
        "###### AGREE - r"
      ],
      "metadata": {
        "id": "BU7W5-cuZxQG"
      }
    },
    {
      "cell_type": "code",
      "source": [
        "baselineLCS(train_agree, 'r_count', 0, 25)"
      ],
      "metadata": {
        "colab": {
          "base_uri": "https://localhost:8080/",
          "height": 315
        },
        "id": "QTNOF4y0ZwFU",
        "outputId": "ea854b65-fa84-4050-8a06-c45390eb482b"
      },
      "execution_count": null,
      "outputs": [
        {
          "output_type": "stream",
          "name": "stdout",
          "text": [
            "(626, 14)\n",
            "Baseline LCS score: 0.8451584789856521\n"
          ]
        },
        {
          "output_type": "display_data",
          "data": {
            "text/plain": [
              "<Figure size 432x288 with 1 Axes>"
            ],
            "image/png": "[encoded data removed]"
          },
          "metadata": {
            "needs_background": "light"
          }
        }
      ]
    },
    {
      "cell_type": "code",
      "source": [
        "baselineLCS(train_agree, 'r_count', 25, 90)"
      ],
      "metadata": {
        "colab": {
          "base_uri": "https://localhost:8080/",
          "height": 315
        },
        "id": "S2BtgqJUTnOB",
        "outputId": "24a74dd8-27fe-499a-fe31-7da782d00529"
      },
      "execution_count": null,
      "outputs": [
        {
          "output_type": "stream",
          "name": "stdout",
          "text": [
            "(573, 14)\n",
            "Baseline LCS score: 0.6358064237389449\n"
          ]
        },
        {
          "output_type": "display_data",
          "data": {
            "text/plain": [
              "<Figure size 432x288 with 1 Axes>"
            ],
            "image/png": "[encoded data removed]"
          },
          "metadata": {
            "needs_background": "light"
          }
        }
      ]
    },
    {
      "cell_type": "code",
      "source": [
        "baselineLCS(train_agree, 'r_count', 90, 800)"
      ],
      "metadata": {
        "colab": {
          "base_uri": "https://localhost:8080/",
          "height": 315
        },
        "id": "9Lx6QVbNTnTb",
        "outputId": "5aa4b046-3e2e-4da5-981c-d6b917404261"
      },
      "execution_count": null,
      "outputs": [
        {
          "output_type": "stream",
          "name": "stdout",
          "text": [
            "(233, 14)\n",
            "Baseline LCS score: 0.4484301294217605\n"
          ]
        },
        {
          "output_type": "display_data",
          "data": {
            "text/plain": [
              "<Figure size 432x288 with 1 Axes>"
            ],
            "image/png": "[encoded data removed]"
          },
          "metadata": {
            "needs_background": "light"
          }
        }
      ]
    },
    {
      "cell_type": "markdown",
      "source": [
        "##### DISAGREE"
      ],
      "metadata": {
        "id": "esM-JcU3PGH1"
      }
    },
    {
      "cell_type": "code",
      "source": [
        "# q_count\n",
        "train_disagree.plot(x='q_count', y='baseline category', kind='scatter')\n",
        "plt.show()"
      ],
      "metadata": {
        "colab": {
          "base_uri": "https://localhost:8080/",
          "height": 280
        },
        "outputId": "90268f03-e6b7-4bc1-c832-d4cd385fce60",
        "id": "LP2g04Xba4-X"
      },
      "execution_count": null,
      "outputs": [
        {
          "output_type": "display_data",
          "data": {
            "text/plain": [
              "<Figure size 432x288 with 1 Axes>"
            ],
            "image/png": "[encoded data removed]"
          },
          "metadata": {
            "needs_background": "light"
          }
        }
      ]
    },
    {
      "cell_type": "markdown",
      "source": [
        "切點：250"
      ],
      "metadata": {
        "id": "idz7hP3pa4-X"
      }
    },
    {
      "cell_type": "code",
      "source": [
        "# r_count\n",
        "train_disagree.plot(x='r_count', y='baseline category', kind='scatter')\n",
        "plt.show()"
      ],
      "metadata": {
        "colab": {
          "base_uri": "https://localhost:8080/",
          "height": 280
        },
        "outputId": "fa06c685-c112-42cd-e3b3-dc5e0f1338a0",
        "id": "c06bUO84a4-X"
      },
      "execution_count": null,
      "outputs": [
        {
          "output_type": "display_data",
          "data": {
            "text/plain": [
              "<Figure size 432x288 with 1 Axes>"
            ],
            "image/png": "[encoded data removed]"
          },
          "metadata": {
            "needs_background": "light"
          }
        }
      ]
    },
    {
      "cell_type": "markdown",
      "source": [
        "切點：300"
      ],
      "metadata": {
        "id": "Cm_iKnGka4-X"
      }
    },
    {
      "cell_type": "markdown",
      "source": [
        "###### DISAGREE - q"
      ],
      "metadata": {
        "id": "VEwnifexa4-Y"
      }
    },
    {
      "cell_type": "code",
      "source": [
        "baselineLCS(train_disagree, 'q_count', 0, 15)"
      ],
      "metadata": {
        "colab": {
          "base_uri": "https://localhost:8080/",
          "height": 315
        },
        "id": "AKc-NlxYdVas",
        "outputId": "17586085-70cf-42db-c04f-f27445c2f2d0"
      },
      "execution_count": null,
      "outputs": [
        {
          "output_type": "stream",
          "name": "stdout",
          "text": [
            "(1445, 14)\n",
            "Baseline LCS score: 0.848101996613443\n"
          ]
        },
        {
          "output_type": "display_data",
          "data": {
            "text/plain": [
              "<Figure size 432x288 with 1 Axes>"
            ],
            "image/png": "[encoded data removed]"
          },
          "metadata": {
            "needs_background": "light"
          }
        }
      ]
    },
    {
      "cell_type": "code",
      "source": [
        "baselineLCS(train_agree, 'q_count', 15, 55)"
      ],
      "metadata": {
        "colab": {
          "base_uri": "https://localhost:8080/",
          "height": 315
        },
        "outputId": "238d6d86-d8ff-4db0-d072-349942c794a6",
        "id": "JZcFDiT4a4-Y"
      },
      "execution_count": null,
      "outputs": [
        {
          "output_type": "stream",
          "name": "stdout",
          "text": [
            "(671, 14)\n",
            "Baseline LCS score: 0.7331846767947348\n"
          ]
        },
        {
          "output_type": "display_data",
          "data": {
            "text/plain": [
              "<Figure size 432x288 with 1 Axes>"
            ],
            "image/png": "[encoded data removed]"
          },
          "metadata": {
            "needs_background": "light"
          }
        }
      ]
    },
    {
      "cell_type": "code",
      "source": [
        "baselineLCS(train_agree, 'q_count', 55, 800)"
      ],
      "metadata": {
        "colab": {
          "base_uri": "https://localhost:8080/",
          "height": 315
        },
        "id": "4ddC9DKtduHj",
        "outputId": "279db77e-e335-4fc6-fd2e-08cb94069a4f"
      },
      "execution_count": null,
      "outputs": [
        {
          "output_type": "stream",
          "name": "stdout",
          "text": [
            "(419, 14)\n",
            "Baseline LCS score: 0.5036841918585871\n"
          ]
        },
        {
          "output_type": "display_data",
          "data": {
            "text/plain": [
              "<Figure size 432x288 with 1 Axes>"
            ],
            "image/png": "[encoded data removed]"
          },
          "metadata": {
            "needs_background": "light"
          }
        }
      ]
    },
    {
      "cell_type": "markdown",
      "source": [
        "###### DISAGREE - r"
      ],
      "metadata": {
        "id": "B2-PF9Kta4-Z"
      }
    },
    {
      "cell_type": "code",
      "source": [
        "baselineLCS(train_agree, 'r_count', 0, 15)"
      ],
      "metadata": {
        "colab": {
          "base_uri": "https://localhost:8080/",
          "height": 315
        },
        "outputId": "645130f1-55a6-4b70-e13a-345a9b668e5c",
        "id": "cFF4zh7Ha4-Z"
      },
      "execution_count": null,
      "outputs": [
        {
          "output_type": "stream",
          "name": "stdout",
          "text": [
            "(407, 14)\n",
            "Baseline LCS score: 0.8682333551920102\n"
          ]
        },
        {
          "output_type": "display_data",
          "data": {
            "text/plain": [
              "<Figure size 432x288 with 1 Axes>"
            ],
            "image/png": "[encoded data removed]"
          },
          "metadata": {
            "needs_background": "light"
          }
        }
      ]
    },
    {
      "cell_type": "code",
      "source": [
        "baselineLCS(train_agree, 'r_count', 15, 90)"
      ],
      "metadata": {
        "colab": {
          "base_uri": "https://localhost:8080/",
          "height": 315
        },
        "outputId": "ce716d6a-dd3c-4227-86bb-acebec15952b",
        "id": "RKBlvHi7a4-Z"
      },
      "execution_count": null,
      "outputs": [
        {
          "output_type": "stream",
          "name": "stdout",
          "text": [
            "(792, 14)\n",
            "Baseline LCS score: 0.6818375165205626\n"
          ]
        },
        {
          "output_type": "display_data",
          "data": {
            "text/plain": [
              "<Figure size 432x288 with 1 Axes>"
            ],
            "image/png": "[encoded data removed]"
          },
          "metadata": {
            "needs_background": "light"
          }
        }
      ]
    },
    {
      "cell_type": "code",
      "source": [
        "baselineLCS(train_agree, 'r_count', 90, 800)"
      ],
      "metadata": {
        "colab": {
          "base_uri": "https://localhost:8080/",
          "height": 315
        },
        "outputId": "4ad9598d-9938-40b4-b83d-9c6ea9445f4a",
        "id": "OI8Qc6cQa4-Z"
      },
      "execution_count": null,
      "outputs": [
        {
          "output_type": "stream",
          "name": "stdout",
          "text": [
            "(233, 14)\n",
            "Baseline LCS score: 0.4484301294217605\n"
          ]
        },
        {
          "output_type": "display_data",
          "data": {
            "text/plain": [
              "<Figure size 432x288 with 1 Axes>"
            ],
            "image/png": "[encoded data removed]"
          },
          "metadata": {
            "needs_background": "light"
          }
        }
      ]
    },
    {
      "cell_type": "markdown",
      "source": [
        "## **Split the dataset**\n",
        "(1-25), (26-90), (90-800)"
      ],
      "metadata": {
        "id": "5KDyvbKfjeEy"
      }
    },
    {
      "cell_type": "markdown",
      "source": [
        "### **Training Set**"
      ],
      "metadata": {
        "id": "n_Auv_ZjPufV"
      }
    },
    {
      "cell_type": "code",
      "source": [
        "threshold_min = 0\n",
        "threshold_1 = 25\n",
        "threshold_2 = 90\n",
        "threshold_max = 800\n",
        "\n",
        "def wordCountCategorize(q_or_r: str):\n",
        "  if q_or_r == 'q':\n",
        "    subset1 = train[(train.q_count > threshold_min) & (train.q_count <= threshold_1)]\n",
        "    subset1 = subset1[['id', 'q', 'q\\'', 'q_count', 'q_sum_count']]\n",
        "    subset2 = train[(train.q_count > threshold_1) & (train.q_count <= threshold_2)]\n",
        "    subset2 = subset2[['id', 'q', 'q\\'', 'q_count', 'q_sum_count']]\n",
        "    subset3 = train[(train.q_count > threshold_2) & (train.q_count <= threshold_max)]\n",
        "    subset3 = subset3[['id', 'q', 'q\\'', 'q_count', 'q_sum_count']]\n",
        "  elif q_or_r == 'r':\n",
        "    subset1 = train[(train.r_count > threshold_min) & (train.r_count <= threshold_1)]\n",
        "    subset1 = subset1[['id', 'r', 'r\\'', 'r_count', 'r_sum_count']]\n",
        "    subset2 = train[(train.r_count > threshold_1) & (train.r_count <= threshold_2)]\n",
        "    subset2 = subset2[['id', 'r', 'r\\'', 'r_count', 'r_sum_count']]\n",
        "    subset3 = train[(train.r_count > threshold_2) & (train.r_count <= threshold_max)]\n",
        "    subset3 = subset3[['id', 'r', 'r\\'', 'r_count', 'r_sum_count']]\n",
        "  return subset1, subset2, subset3"
      ],
      "metadata": {
        "id": "qv81C-_8lw4S"
      },
      "execution_count": null,
      "outputs": []
    },
    {
      "cell_type": "code",
      "source": [
        "train_q_25, train_q_90, train_q_800 = wordCountCategorize(\"q\")\n",
        "\n",
        "print(train_q_25.shape)\n",
        "print(train_q_90.shape)\n",
        "print(train_q_800.shape)"
      ],
      "metadata": {
        "colab": {
          "base_uri": "https://localhost:8080/"
        },
        "id": "NbJ8Xhodlri_",
        "outputId": "639b457e-5130-4bbf-ac12-5f9ed21d835b"
      },
      "execution_count": null,
      "outputs": [
        {
          "output_type": "stream",
          "name": "stdout",
          "text": [
            "(3292, 5)\n",
            "(3583, 5)\n",
            "(1055, 5)\n"
          ]
        }
      ]
    },
    {
      "cell_type": "code",
      "source": [
        "train_r_25, train_r_90, train_r_800 = wordCountCategorize(\"r\")\n",
        "\n",
        "print(train_r_25.shape)\n",
        "print(train_r_90.shape)\n",
        "print(train_r_800.shape)"
      ],
      "metadata": {
        "colab": {
          "base_uri": "https://localhost:8080/"
        },
        "id": "ZVWQUFUZn1dv",
        "outputId": "7ba3ce19-cff9-4ea7-c360-f8cd97536324"
      },
      "execution_count": null,
      "outputs": [
        {
          "output_type": "stream",
          "name": "stdout",
          "text": [
            "(2863, 5)\n",
            "(3563, 5)\n",
            "(1503, 5)\n"
          ]
        }
      ]
    },
    {
      "cell_type": "markdown",
      "metadata": {
        "id": "eAN7b9vb2n1m"
      },
      "source": [
        "### **Testing Set**"
      ]
    },
    {
      "cell_type": "code",
      "source": [
        "def wordCountCategorize(q_or_r: str):\n",
        "  if q_or_r == 'q':\n",
        "    subset1 = test_raw[(test_raw.q_count > threshold_min) & (test_raw.q_count <= threshold_1)]\n",
        "    subset1 = subset1[['id', 'q', 'q_count']]\n",
        "    subset2 = test_raw[(test_raw.q_count > threshold_1) & (test_raw.q_count <= threshold_2)]\n",
        "    subset2 = subset2[['id', 'q', 'q_count']]\n",
        "    subset3 = test_raw[(test_raw.q_count > threshold_2) & (test_raw.q_count <= threshold_max)]\n",
        "    subset3 = subset3[['id', 'q', 'q_count']]\n",
        "  elif q_or_r == 'r':\n",
        "    subset1 = test_raw[(test_raw.r_count > threshold_min) & (test_raw.r_count <= threshold_1)]\n",
        "    subset1 = subset1[['id', 'r', 'r_count']]\n",
        "    subset2 = test_raw[(test_raw.r_count > threshold_1) & (test_raw.r_count <= threshold_2)]\n",
        "    subset2 = subset2[['id', 'r', 'r_count']]\n",
        "    subset3 = test_raw[(test_raw.r_count > threshold_2) & (test_raw.r_count <= threshold_max)]\n",
        "    subset3 = subset3[['id', 'r', 'r_count']]\n",
        "  return subset1, subset2, subset3"
      ],
      "metadata": {
        "id": "j3uGPq5SL766"
      },
      "execution_count": null,
      "outputs": []
    },
    {
      "cell_type": "code",
      "source": [
        "test_q_25, test_q_90, test_q_800 = wordCountCategorize(\"q\")\n",
        "\n",
        "print(test_q_25.shape)\n",
        "print(test_q_90.shape)\n",
        "print(test_q_800.shape)\n",
        "test_q_800.head()"
      ],
      "metadata": {
        "colab": {
          "base_uri": "https://localhost:8080/",
          "height": 258
        },
        "id": "Hk0vGdW8NDoG",
        "outputId": "85276edf-4e95-4103-9cc8-060868105466"
      },
      "execution_count": null,
      "outputs": [
        {
          "output_type": "stream",
          "name": "stdout",
          "text": [
            "(858, 3)\n",
            "(922, 3)\n",
            "(236, 3)\n"
          ]
        },
        {
          "output_type": "execute_result",
          "data": {
            "text/plain": [
              "      id                                                  q  q_count\n",
              "7   6223  Really , so you are totally knowable ? See abo...      244\n",
              "8    963  In essence , it seems as though the central cl...      244\n",
              "9   1420  STUTTGART , Germany - A 17-year-old gunman dre...      244\n",
              "10  2066  In principle , there is no difference between ...      244\n",
              "11  5826  This book stands alone among many other public...      210"
            ],
            "text/html": [
              "\n",
              "  <div id=\"df-746803d8-b3c2-420d-a5a9-7bfa74c6e088\">\n",
              "    <div class=\"colab-df-container\">\n",
              "      <div>\n",
              "<style scoped>\n",
              "    .dataframe tbody tr th:only-of-type {\n",
              "        vertical-align: middle;\n",
              "    }\n",
              "\n",
              "    .dataframe tbody tr th {\n",
              "        vertical-align: top;\n",
              "    }\n",
              "\n",
              "    .dataframe thead th {\n",
              "        text-align: right;\n",
              "    }\n",
              "</style>\n",
              "<table border=\"1\" class=\"dataframe\">\n",
              "  <thead>\n",
              "    <tr style=\"text-align: right;\">\n",
              "      <th></th>\n",
              "      <th>id</th>\n",
              "      <th>q</th>\n",
              "      <th>q_count</th>\n",
              "    </tr>\n",
              "  </thead>\n",
              "  <tbody>\n",
              "    <tr>\n",
              "      <th>7</th>\n",
              "      <td>6223</td>\n",
              "      <td>Really , so you are totally knowable ? See abo...</td>\n",
              "      <td>244</td>\n",
              "    </tr>\n",
              "    <tr>\n",
              "      <th>8</th>\n",
              "      <td>963</td>\n",
              "      <td>In essence , it seems as though the central cl...</td>\n",
              "      <td>244</td>\n",
              "    </tr>\n",
              "    <tr>\n",
              "      <th>9</th>\n",
              "      <td>1420</td>\n",
              "      <td>STUTTGART , Germany - A 17-year-old gunman dre...</td>\n",
              "      <td>244</td>\n",
              "    </tr>\n",
              "    <tr>\n",
              "      <th>10</th>\n",
              "      <td>2066</td>\n",
              "      <td>In principle , there is no difference between ...</td>\n",
              "      <td>244</td>\n",
              "    </tr>\n",
              "    <tr>\n",
              "      <th>11</th>\n",
              "      <td>5826</td>\n",
              "      <td>This book stands alone among many other public...</td>\n",
              "      <td>210</td>\n",
              "    </tr>\n",
              "  </tbody>\n",
              "</table>\n",
              "</div>\n",
              "      <button class=\"colab-df-convert\" onclick=\"convertToInteractive('df-746803d8-b3c2-420d-a5a9-7bfa74c6e088')\"\n",
              "              title=\"Convert this dataframe to an interactive table.\"\n",
              "              style=\"display:none;\">\n",
              "        \n",
              "  <svg xmlns=\"http://www.w3.org/2000/svg\" height=\"24px\"viewBox=\"0 0 24 24\"\n",
              "       width=\"24px\">\n",
              "    <path d=\"M0 0h24v24H0V0z\" fill=\"none\"/>\n",
              "    <path d=\"M18.56 5.44l.94 2.06.94-2.06 2.06-.94-2.06-.94-.94-2.06-.94 2.06-2.06.94zm-11 1L8.5 8.5l.94-2.06 2.06-.94-2.06-.94L8.5 2.5l-.94 2.06-2.06.94zm10 10l.94 2.06.94-2.06 2.06-.94-2.06-.94-.94-2.06-.94 2.06-2.06.94z\"/><path d=\"M17.41 7.96l-1.37-1.37c-.4-.4-.92-.59-1.43-.59-.52 0-1.04.2-1.43.59L10.3 9.45l-7.72 7.72c-.78.78-.78 2.05 0 2.83L4 21.41c.39.39.9.59 1.41.59.51 0 1.02-.2 1.41-.59l7.78-7.78 2.81-2.81c.8-.78.8-2.07 0-2.86zM5.41 20L4 18.59l7.72-7.72 1.47 1.35L5.41 20z\"/>\n",
              "  </svg>\n",
              "      </button>\n",
              "      \n",
              "  <style>\n",
              "    .colab-df-container {\n",
              "      display:flex;\n",
              "      flex-wrap:wrap;\n",
              "      gap: 12px;\n",
              "    }\n",
              "\n",
              "    .colab-df-convert {\n",
              "      background-color: #E8F0FE;\n",
              "      border: none;\n",
              "      border-radius: 50%;\n",
              "      cursor: pointer;\n",
              "      display: none;\n",
              "      fill: #1967D2;\n",
              "      height: 32px;\n",
              "      padding: 0 0 0 0;\n",
              "      width: 32px;\n",
              "    }\n",
              "\n",
              "    .colab-df-convert:hover {\n",
              "      background-color: #E2EBFA;\n",
              "      box-shadow: 0px 1px 2px rgba(60, 64, 67, 0.3), 0px 1px 3px 1px rgba(60, 64, 67, 0.15);\n",
              "      fill: #174EA6;\n",
              "    }\n",
              "\n",
              "    [theme=dark] .colab-df-convert {\n",
              "      background-color: #3B4455;\n",
              "      fill: #D2E3FC;\n",
              "    }\n",
              "\n",
              "    [theme=dark] .colab-df-convert:hover {\n",
              "      background-color: #434B5C;\n",
              "      box-shadow: 0px 1px 3px 1px rgba(0, 0, 0, 0.15);\n",
              "      filter: drop-shadow(0px 1px 2px rgba(0, 0, 0, 0.3));\n",
              "      fill: #FFFFFF;\n",
              "    }\n",
              "  </style>\n",
              "\n",
              "      <script>\n",
              "        const buttonEl =\n",
              "          document.querySelector('#df-746803d8-b3c2-420d-a5a9-7bfa74c6e088 button.colab-df-convert');\n",
              "        buttonEl.style.display =\n",
              "          google.colab.kernel.accessAllowed ? 'block' : 'none';\n",
              "\n",
              "        async function convertToInteractive(key) {\n",
              "          const element = document.querySelector('#df-746803d8-b3c2-420d-a5a9-7bfa74c6e088');\n",
              "          const dataTable =\n",
              "            await google.colab.kernel.invokeFunction('convertToInteractive',\n",
              "                                                     [key], {});\n",
              "          if (!dataTable) return;\n",
              "\n",
              "          const docLinkHtml = 'Like what you see? Visit the ' +\n",
              "            '<a target=\"_blank\" href=https://colab.research.google.com/notebooks/data_table.ipynb>data table notebook</a>'\n",
              "            + ' to learn more about interactive tables.';\n",
              "          element.innerHTML = '';\n",
              "          dataTable['output_type'] = 'display_data';\n",
              "          await google.colab.output.renderOutput(dataTable, element);\n",
              "          const docLink = document.createElement('div');\n",
              "          docLink.innerHTML = docLinkHtml;\n",
              "          element.appendChild(docLink);\n",
              "        }\n",
              "      </script>\n",
              "    </div>\n",
              "  </div>\n",
              "  "
            ]
          },
          "metadata": {},
          "execution_count": 95
        }
      ]
    },
    {
      "cell_type": "code",
      "source": [
        "test_r_25, test_r_90, test_r_800 = wordCountCategorize(\"r\")\n",
        "\n",
        "print(test_r_25.shape)\n",
        "print(test_r_90.shape)\n",
        "print(test_r_800.shape)\n",
        "test_r_800.head()"
      ],
      "metadata": {
        "id": "RpgQTvMjjDxN",
        "outputId": "ad1f7136-5704-472e-ffdb-f858c6c35018",
        "colab": {
          "base_uri": "https://localhost:8080/",
          "height": 258
        }
      },
      "execution_count": null,
      "outputs": [
        {
          "output_type": "stream",
          "name": "stdout",
          "text": [
            "(793, 3)\n",
            "(903, 3)\n",
            "(320, 3)\n"
          ]
        },
        {
          "output_type": "execute_result",
          "data": {
            "text/plain": [
              "      id                                                  r  r_count\n",
              "7   6223  Oh irrational-boy , please do try to understan...      293\n",
              "8    963  I 'd say no to the first part , and yes to the...      293\n",
              "9   1420  Well is n't that interesting . Germany has muc...      293\n",
              "10  2066  In the same sense that shooting an intruder wh...      293\n",
              "11  5826  It did n't say ~some~ supernatural entities , ...      360"
            ],
            "text/html": [
              "\n",
              "  <div id=\"df-b7e95932-d5cf-42d5-979b-7ce0a9978e81\">\n",
              "    <div class=\"colab-df-container\">\n",
              "      <div>\n",
              "<style scoped>\n",
              "    .dataframe tbody tr th:only-of-type {\n",
              "        vertical-align: middle;\n",
              "    }\n",
              "\n",
              "    .dataframe tbody tr th {\n",
              "        vertical-align: top;\n",
              "    }\n",
              "\n",
              "    .dataframe thead th {\n",
              "        text-align: right;\n",
              "    }\n",
              "</style>\n",
              "<table border=\"1\" class=\"dataframe\">\n",
              "  <thead>\n",
              "    <tr style=\"text-align: right;\">\n",
              "      <th></th>\n",
              "      <th>id</th>\n",
              "      <th>r</th>\n",
              "      <th>r_count</th>\n",
              "    </tr>\n",
              "  </thead>\n",
              "  <tbody>\n",
              "    <tr>\n",
              "      <th>7</th>\n",
              "      <td>6223</td>\n",
              "      <td>Oh irrational-boy , please do try to understan...</td>\n",
              "      <td>293</td>\n",
              "    </tr>\n",
              "    <tr>\n",
              "      <th>8</th>\n",
              "      <td>963</td>\n",
              "      <td>I 'd say no to the first part , and yes to the...</td>\n",
              "      <td>293</td>\n",
              "    </tr>\n",
              "    <tr>\n",
              "      <th>9</th>\n",
              "      <td>1420</td>\n",
              "      <td>Well is n't that interesting . Germany has muc...</td>\n",
              "      <td>293</td>\n",
              "    </tr>\n",
              "    <tr>\n",
              "      <th>10</th>\n",
              "      <td>2066</td>\n",
              "      <td>In the same sense that shooting an intruder wh...</td>\n",
              "      <td>293</td>\n",
              "    </tr>\n",
              "    <tr>\n",
              "      <th>11</th>\n",
              "      <td>5826</td>\n",
              "      <td>It did n't say ~some~ supernatural entities , ...</td>\n",
              "      <td>360</td>\n",
              "    </tr>\n",
              "  </tbody>\n",
              "</table>\n",
              "</div>\n",
              "      <button class=\"colab-df-convert\" onclick=\"convertToInteractive('df-b7e95932-d5cf-42d5-979b-7ce0a9978e81')\"\n",
              "              title=\"Convert this dataframe to an interactive table.\"\n",
              "              style=\"display:none;\">\n",
              "        \n",
              "  <svg xmlns=\"http://www.w3.org/2000/svg\" height=\"24px\"viewBox=\"0 0 24 24\"\n",
              "       width=\"24px\">\n",
              "    <path d=\"M0 0h24v24H0V0z\" fill=\"none\"/>\n",
              "    <path d=\"M18.56 5.44l.94 2.06.94-2.06 2.06-.94-2.06-.94-.94-2.06-.94 2.06-2.06.94zm-11 1L8.5 8.5l.94-2.06 2.06-.94-2.06-.94L8.5 2.5l-.94 2.06-2.06.94zm10 10l.94 2.06.94-2.06 2.06-.94-2.06-.94-.94-2.06-.94 2.06-2.06.94z\"/><path d=\"M17.41 7.96l-1.37-1.37c-.4-.4-.92-.59-1.43-.59-.52 0-1.04.2-1.43.59L10.3 9.45l-7.72 7.72c-.78.78-.78 2.05 0 2.83L4 21.41c.39.39.9.59 1.41.59.51 0 1.02-.2 1.41-.59l7.78-7.78 2.81-2.81c.8-.78.8-2.07 0-2.86zM5.41 20L4 18.59l7.72-7.72 1.47 1.35L5.41 20z\"/>\n",
              "  </svg>\n",
              "      </button>\n",
              "      \n",
              "  <style>\n",
              "    .colab-df-container {\n",
              "      display:flex;\n",
              "      flex-wrap:wrap;\n",
              "      gap: 12px;\n",
              "    }\n",
              "\n",
              "    .colab-df-convert {\n",
              "      background-color: #E8F0FE;\n",
              "      border: none;\n",
              "      border-radius: 50%;\n",
              "      cursor: pointer;\n",
              "      display: none;\n",
              "      fill: #1967D2;\n",
              "      height: 32px;\n",
              "      padding: 0 0 0 0;\n",
              "      width: 32px;\n",
              "    }\n",
              "\n",
              "    .colab-df-convert:hover {\n",
              "      background-color: #E2EBFA;\n",
              "      box-shadow: 0px 1px 2px rgba(60, 64, 67, 0.3), 0px 1px 3px 1px rgba(60, 64, 67, 0.15);\n",
              "      fill: #174EA6;\n",
              "    }\n",
              "\n",
              "    [theme=dark] .colab-df-convert {\n",
              "      background-color: #3B4455;\n",
              "      fill: #D2E3FC;\n",
              "    }\n",
              "\n",
              "    [theme=dark] .colab-df-convert:hover {\n",
              "      background-color: #434B5C;\n",
              "      box-shadow: 0px 1px 3px 1px rgba(0, 0, 0, 0.15);\n",
              "      filter: drop-shadow(0px 1px 2px rgba(0, 0, 0, 0.3));\n",
              "      fill: #FFFFFF;\n",
              "    }\n",
              "  </style>\n",
              "\n",
              "      <script>\n",
              "        const buttonEl =\n",
              "          document.querySelector('#df-b7e95932-d5cf-42d5-979b-7ce0a9978e81 button.colab-df-convert');\n",
              "        buttonEl.style.display =\n",
              "          google.colab.kernel.accessAllowed ? 'block' : 'none';\n",
              "\n",
              "        async function convertToInteractive(key) {\n",
              "          const element = document.querySelector('#df-b7e95932-d5cf-42d5-979b-7ce0a9978e81');\n",
              "          const dataTable =\n",
              "            await google.colab.kernel.invokeFunction('convertToInteractive',\n",
              "                                                     [key], {});\n",
              "          if (!dataTable) return;\n",
              "\n",
              "          const docLinkHtml = 'Like what you see? Visit the ' +\n",
              "            '<a target=\"_blank\" href=https://colab.research.google.com/notebooks/data_table.ipynb>data table notebook</a>'\n",
              "            + ' to learn more about interactive tables.';\n",
              "          element.innerHTML = '';\n",
              "          dataTable['output_type'] = 'display_data';\n",
              "          await google.colab.output.renderOutput(dataTable, element);\n",
              "          const docLink = document.createElement('div');\n",
              "          docLink.innerHTML = docLinkHtml;\n",
              "          element.appendChild(docLink);\n",
              "        }\n",
              "      </script>\n",
              "    </div>\n",
              "  </div>\n",
              "  "
            ]
          },
          "metadata": {},
          "execution_count": 96
        }
      ]
    }
  ],
  "metadata": {
    "colab": {
      "provenance": [],
      "collapsed_sections": [
        "VcFfEbo2Qd_k",
        "J-pnf0Ae0axm",
        "UgBpIi7gcKsP",
        "bSjbc5QKcRP8",
        "CFD6sUB6OVhm",
        "tBKhsc2er9dM",
        "AKgNmrZX60Ky"
      ],
      "toc_visible": true,
      "authorship_tag": "ABX9TyNLUbB+j+EV/Co0dsAnamnJ",
      "include_colab_link": true
    },
    "kernelspec": {
      "display_name": "Python 3",
      "name": "python3"
    },
    "language_info": {
      "name": "python"
    },
    "gpuClass": "standard"
  },
  "nbformat": 4,
  "nbformat_minor": 0
}